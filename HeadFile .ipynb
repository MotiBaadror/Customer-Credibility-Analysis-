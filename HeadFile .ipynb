{
 "cells": [
  {
   "cell_type": "code",
   "execution_count": 178,
   "metadata": {},
   "outputs": [],
   "source": [
    "# from scipy import stats\n",
    "# z = np.abs(stats.zscore(train_df))\n",
    "# threshold = 3\n",
    "# # print(np.where(z > 3))\n",
    "# train_df=train_df[(z<3).all(axis=1)]\n",
    "def Pca(data):\n",
    "    data1=data\n",
    "    from sklearn.preprocessing import StandardScaler\n",
    "    scaler = StandardScaler()\n",
    "    # Fit on training set only.\n",
    "    scaler.fit(data1)\n",
    "    # Apply transform to both the training set and the test set.\n",
    "    data1 = scaler.transform(data1)\n",
    "#     test_img = scaler.transform(test_img)\n",
    "    from sklearn.decomposition import PCA\n",
    "    pca = PCA(30)\n",
    "    X_reduced=pca.fit_transform(data1)\n",
    "# print(pca.explained_variance_ratio_)  \n",
    "# print(pca.singular_values_)  \n",
    "    X=pd.DataFrame(X_reduced)\n",
    "    X.index=data.index\n",
    "    return X"
   ]
  },
  {
   "cell_type": "code",
   "execution_count": 206,
   "metadata": {},
   "outputs": [],
   "source": [
    "import pandas as pd \n",
    "import numpy as np\n",
    "import matplotlib.pyplot as plt\n",
    "%matplotlib inline \n",
    "pd.set_option('display.max_columns',None)\n",
    "\n",
    "from sklearn.datasets import make_classification\n",
    "from sklearn.linear_model import LogisticRegression\n",
    "from sklearn.ensemble import RandomForestClassifier\n",
    "from sklearn.feature_selection import SelectFromModel\n",
    "from sklearn.model_selection import cross_val_score\n",
    "from sklearn.svm import SVC, LinearSVC\n",
    "from sklearn.ensemble import RandomForestClassifier\n",
    "from sklearn.neighbors import KNeighborsClassifier\n",
    "from sklearn.naive_bayes import GaussianNB\n",
    "from sklearn.linear_model import Perceptron\n",
    "from sklearn.linear_model import SGDClassifier\n",
    "from sklearn.tree import DecisionTreeClassifier"
   ]
  },
  {
   "cell_type": "code",
   "execution_count": 207,
   "metadata": {},
   "outputs": [
    {
     "data": {
      "text/html": [
       "<div>\n",
       "<style scoped>\n",
       "    .dataframe tbody tr th:only-of-type {\n",
       "        vertical-align: middle;\n",
       "    }\n",
       "\n",
       "    .dataframe tbody tr th {\n",
       "        vertical-align: top;\n",
       "    }\n",
       "\n",
       "    .dataframe thead th {\n",
       "        text-align: right;\n",
       "    }\n",
       "</style>\n",
       "<table border=\"1\" class=\"dataframe\">\n",
       "  <thead>\n",
       "    <tr style=\"text-align: right;\">\n",
       "      <th></th>\n",
       "      <th>0</th>\n",
       "      <th>1</th>\n",
       "      <th>30</th>\n",
       "      <th>32</th>\n",
       "      <th>34</th>\n",
       "      <th>10</th>\n",
       "      <th>22</th>\n",
       "      <th>3</th>\n",
       "      <th>26</th>\n",
       "      <th>13</th>\n",
       "      <th>23</th>\n",
       "      <th>24</th>\n",
       "      <th>12</th>\n",
       "      <th>33</th>\n",
       "      <th>2</th>\n",
       "      <th>29</th>\n",
       "      <th>31</th>\n",
       "      <th>35</th>\n",
       "    </tr>\n",
       "    <tr>\n",
       "      <th>application_key</th>\n",
       "      <th></th>\n",
       "      <th></th>\n",
       "      <th></th>\n",
       "      <th></th>\n",
       "      <th></th>\n",
       "      <th></th>\n",
       "      <th></th>\n",
       "      <th></th>\n",
       "      <th></th>\n",
       "      <th></th>\n",
       "      <th></th>\n",
       "      <th></th>\n",
       "      <th></th>\n",
       "      <th></th>\n",
       "      <th></th>\n",
       "      <th></th>\n",
       "      <th></th>\n",
       "      <th></th>\n",
       "    </tr>\n",
       "  </thead>\n",
       "  <tbody>\n",
       "    <tr>\n",
       "      <th>230032</th>\n",
       "      <td>1696.0</td>\n",
       "      <td>1.6541</td>\n",
       "      <td>0.08696</td>\n",
       "      <td>0.63899</td>\n",
       "      <td>0.0</td>\n",
       "      <td>123875.0</td>\n",
       "      <td>1.1667</td>\n",
       "      <td>0.0</td>\n",
       "      <td>1.0</td>\n",
       "      <td>1.0</td>\n",
       "      <td>1.0</td>\n",
       "      <td>0.0</td>\n",
       "      <td>1.0</td>\n",
       "      <td>0.0</td>\n",
       "      <td>0.0</td>\n",
       "      <td>1.0</td>\n",
       "      <td>1.0</td>\n",
       "      <td>0.0</td>\n",
       "    </tr>\n",
       "    <tr>\n",
       "      <th>230033</th>\n",
       "      <td>1846.0</td>\n",
       "      <td>0.8095</td>\n",
       "      <td>0.00000</td>\n",
       "      <td>0.63836</td>\n",
       "      <td>1.0</td>\n",
       "      <td>42613.0</td>\n",
       "      <td>0.4167</td>\n",
       "      <td>1.0</td>\n",
       "      <td>0.0</td>\n",
       "      <td>0.0</td>\n",
       "      <td>0.0</td>\n",
       "      <td>0.0</td>\n",
       "      <td>0.0</td>\n",
       "      <td>0.0</td>\n",
       "      <td>0.0</td>\n",
       "      <td>1.0</td>\n",
       "      <td>1.0</td>\n",
       "      <td>1.0</td>\n",
       "    </tr>\n",
       "    <tr>\n",
       "      <th>230034</th>\n",
       "      <td>1745.0</td>\n",
       "      <td>0.4001</td>\n",
       "      <td>0.00000</td>\n",
       "      <td>1.00000</td>\n",
       "      <td>0.0</td>\n",
       "      <td>76109.0</td>\n",
       "      <td>25.0833</td>\n",
       "      <td>0.0</td>\n",
       "      <td>0.0</td>\n",
       "      <td>0.0</td>\n",
       "      <td>0.0</td>\n",
       "      <td>0.0</td>\n",
       "      <td>0.0</td>\n",
       "      <td>0.0</td>\n",
       "      <td>0.0</td>\n",
       "      <td>1.0</td>\n",
       "      <td>1.0</td>\n",
       "      <td>1.0</td>\n",
       "    </tr>\n",
       "  </tbody>\n",
       "</table>\n",
       "</div>"
      ],
      "text/plain": [
       "                     0       1        30       32   34        10       22  \\\n",
       "application_key                                                             \n",
       "230032           1696.0  1.6541  0.08696  0.63899  0.0  123875.0   1.1667   \n",
       "230033           1846.0  0.8095  0.00000  0.63836  1.0   42613.0   0.4167   \n",
       "230034           1745.0  0.4001  0.00000  1.00000  0.0   76109.0  25.0833   \n",
       "\n",
       "                  3    26   13   23   24   12   33   2    29   31   35  \n",
       "application_key                                                         \n",
       "230032           0.0  1.0  1.0  1.0  0.0  1.0  0.0  0.0  1.0  1.0  0.0  \n",
       "230033           1.0  0.0  0.0  0.0  0.0  0.0  0.0  0.0  1.0  1.0  1.0  \n",
       "230034           0.0  0.0  0.0  0.0  0.0  0.0  0.0  0.0  1.0  1.0  1.0  "
      ]
     },
     "execution_count": 207,
     "metadata": {},
     "output_type": "execute_result"
    }
   ],
   "source": [
    "train_df=pd.read_csv('tr.csv',index_col='application_key')\n",
    "# imp_col=[ 0,1,30,32,34,10,22,3,26,13,23,24,12,33,2,29,31,35]\n",
    "colm=[i for i in range(36)]\n",
    "train_df.columns=colm\n",
    "# train_df=train_df[imp_col]\n",
    "# from scipy import stats\n",
    "# z = np.abs(stats.zscore(train_df))\n",
    "# threshold = 3\n",
    "# # print(np.where(z > 3))\n",
    "# train_df=train_df[(z<3).all(axis=1)]\n",
    "X=train_df.iloc[:,:-1]\n",
    "# X=(X-X.mean(axis=0))/X.std(axis=0)\n",
    "Y=train_df.iloc[:,-1]\n",
    "train_df.head(3)\n",
    "# train_df.columns"
   ]
  },
  {
   "cell_type": "code",
   "execution_count": 203,
   "metadata": {},
   "outputs": [],
   "source": [
    "# train_df.to_csv('Traning_gbm_shubham_17.csv')"
   ]
  },
  {
   "cell_type": "code",
   "execution_count": 208,
   "metadata": {},
   "outputs": [
    {
     "data": {
      "text/html": [
       "<div>\n",
       "<style scoped>\n",
       "    .dataframe tbody tr th:only-of-type {\n",
       "        vertical-align: middle;\n",
       "    }\n",
       "\n",
       "    .dataframe tbody tr th {\n",
       "        vertical-align: top;\n",
       "    }\n",
       "\n",
       "    .dataframe thead th {\n",
       "        text-align: right;\n",
       "    }\n",
       "</style>\n",
       "<table border=\"1\" class=\"dataframe\">\n",
       "  <thead>\n",
       "    <tr style=\"text-align: right;\">\n",
       "      <th></th>\n",
       "      <th>0</th>\n",
       "      <th>1</th>\n",
       "      <th>30</th>\n",
       "      <th>32</th>\n",
       "      <th>34</th>\n",
       "      <th>10</th>\n",
       "      <th>22</th>\n",
       "      <th>3</th>\n",
       "      <th>26</th>\n",
       "      <th>13</th>\n",
       "      <th>23</th>\n",
       "      <th>24</th>\n",
       "      <th>12</th>\n",
       "      <th>33</th>\n",
       "      <th>2</th>\n",
       "      <th>29</th>\n",
       "      <th>31</th>\n",
       "    </tr>\n",
       "    <tr>\n",
       "      <th>application_key</th>\n",
       "      <th></th>\n",
       "      <th></th>\n",
       "      <th></th>\n",
       "      <th></th>\n",
       "      <th></th>\n",
       "      <th></th>\n",
       "      <th></th>\n",
       "      <th></th>\n",
       "      <th></th>\n",
       "      <th></th>\n",
       "      <th></th>\n",
       "      <th></th>\n",
       "      <th></th>\n",
       "      <th></th>\n",
       "      <th></th>\n",
       "      <th></th>\n",
       "      <th></th>\n",
       "    </tr>\n",
       "  </thead>\n",
       "  <tbody>\n",
       "    <tr>\n",
       "      <th>230032</th>\n",
       "      <td>1696.0</td>\n",
       "      <td>1.6541</td>\n",
       "      <td>0.08696</td>\n",
       "      <td>0.63899</td>\n",
       "      <td>0.0</td>\n",
       "      <td>123875.0</td>\n",
       "      <td>1.1667</td>\n",
       "      <td>0.0</td>\n",
       "      <td>1.0</td>\n",
       "      <td>1.0</td>\n",
       "      <td>1.0</td>\n",
       "      <td>0.0</td>\n",
       "      <td>1.0</td>\n",
       "      <td>0.0</td>\n",
       "      <td>0.0</td>\n",
       "      <td>1.0</td>\n",
       "      <td>1.0</td>\n",
       "    </tr>\n",
       "    <tr>\n",
       "      <th>230033</th>\n",
       "      <td>1846.0</td>\n",
       "      <td>0.8095</td>\n",
       "      <td>0.00000</td>\n",
       "      <td>0.63836</td>\n",
       "      <td>1.0</td>\n",
       "      <td>42613.0</td>\n",
       "      <td>0.4167</td>\n",
       "      <td>1.0</td>\n",
       "      <td>0.0</td>\n",
       "      <td>0.0</td>\n",
       "      <td>0.0</td>\n",
       "      <td>0.0</td>\n",
       "      <td>0.0</td>\n",
       "      <td>0.0</td>\n",
       "      <td>0.0</td>\n",
       "      <td>1.0</td>\n",
       "      <td>1.0</td>\n",
       "    </tr>\n",
       "    <tr>\n",
       "      <th>230034</th>\n",
       "      <td>1745.0</td>\n",
       "      <td>0.4001</td>\n",
       "      <td>0.00000</td>\n",
       "      <td>1.00000</td>\n",
       "      <td>0.0</td>\n",
       "      <td>76109.0</td>\n",
       "      <td>25.0833</td>\n",
       "      <td>0.0</td>\n",
       "      <td>0.0</td>\n",
       "      <td>0.0</td>\n",
       "      <td>0.0</td>\n",
       "      <td>0.0</td>\n",
       "      <td>0.0</td>\n",
       "      <td>0.0</td>\n",
       "      <td>0.0</td>\n",
       "      <td>1.0</td>\n",
       "      <td>1.0</td>\n",
       "    </tr>\n",
       "    <tr>\n",
       "      <th>230035</th>\n",
       "      <td>1739.0</td>\n",
       "      <td>0.2193</td>\n",
       "      <td>0.15385</td>\n",
       "      <td>0.53241</td>\n",
       "      <td>1.0</td>\n",
       "      <td>84235.0</td>\n",
       "      <td>10.3333</td>\n",
       "      <td>1.0</td>\n",
       "      <td>1.0</td>\n",
       "      <td>0.0</td>\n",
       "      <td>0.0</td>\n",
       "      <td>0.0</td>\n",
       "      <td>0.0</td>\n",
       "      <td>0.0</td>\n",
       "      <td>0.0</td>\n",
       "      <td>1.0</td>\n",
       "      <td>1.0</td>\n",
       "    </tr>\n",
       "    <tr>\n",
       "      <th>230036</th>\n",
       "      <td>1787.0</td>\n",
       "      <td>0.0118</td>\n",
       "      <td>0.00000</td>\n",
       "      <td>0.92665</td>\n",
       "      <td>1.0</td>\n",
       "      <td>123875.0</td>\n",
       "      <td>0.9167</td>\n",
       "      <td>1.0</td>\n",
       "      <td>1.0</td>\n",
       "      <td>0.0</td>\n",
       "      <td>0.0</td>\n",
       "      <td>0.0</td>\n",
       "      <td>0.0</td>\n",
       "      <td>0.0</td>\n",
       "      <td>1.0</td>\n",
       "      <td>1.0</td>\n",
       "      <td>1.0</td>\n",
       "    </tr>\n",
       "  </tbody>\n",
       "</table>\n",
       "</div>"
      ],
      "text/plain": [
       "                     0       1        30       32   34        10       22  \\\n",
       "application_key                                                             \n",
       "230032           1696.0  1.6541  0.08696  0.63899  0.0  123875.0   1.1667   \n",
       "230033           1846.0  0.8095  0.00000  0.63836  1.0   42613.0   0.4167   \n",
       "230034           1745.0  0.4001  0.00000  1.00000  0.0   76109.0  25.0833   \n",
       "230035           1739.0  0.2193  0.15385  0.53241  1.0   84235.0  10.3333   \n",
       "230036           1787.0  0.0118  0.00000  0.92665  1.0  123875.0   0.9167   \n",
       "\n",
       "                  3    26   13   23   24   12   33   2    29   31  \n",
       "application_key                                                    \n",
       "230032           0.0  1.0  1.0  1.0  0.0  1.0  0.0  0.0  1.0  1.0  \n",
       "230033           1.0  0.0  0.0  0.0  0.0  0.0  0.0  0.0  1.0  1.0  \n",
       "230034           0.0  0.0  0.0  0.0  0.0  0.0  0.0  0.0  1.0  1.0  \n",
       "230035           1.0  1.0  0.0  0.0  0.0  0.0  0.0  0.0  1.0  1.0  \n",
       "230036           1.0  1.0  0.0  0.0  0.0  0.0  0.0  1.0  1.0  1.0  "
      ]
     },
     "execution_count": 208,
     "metadata": {},
     "output_type": "execute_result"
    }
   ],
   "source": [
    "X.head()"
   ]
  },
  {
   "cell_type": "code",
   "execution_count": 189,
   "metadata": {},
   "outputs": [],
   "source": [
    "# X=Pca(X)\n",
    "# X.head()"
   ]
  },
  {
   "cell_type": "code",
   "execution_count": 120,
   "metadata": {},
   "outputs": [],
   "source": [
    "# X.head()"
   ]
  },
  {
   "cell_type": "code",
   "execution_count": 209,
   "metadata": {},
   "outputs": [
    {
     "data": {
      "text/plain": [
       "((51289, 17), (51289,), (25263, 17))"
      ]
     },
     "execution_count": 209,
     "metadata": {},
     "output_type": "execute_result"
    }
   ],
   "source": [
    "from sklearn.model_selection import cross_val_score\n",
    "from sklearn.model_selection import train_test_split\n",
    "X_train, X_test, Y_train, Y_test = train_test_split(\n",
    "   X ,Y , test_size=0.33, random_state=42)\n",
    "X_train.shape, Y_train.shape, X_test.shape"
   ]
  },
  {
   "cell_type": "code",
   "execution_count": null,
   "metadata": {},
   "outputs": [],
   "source": []
  },
  {
   "cell_type": "code",
   "execution_count": 105,
   "metadata": {},
   "outputs": [],
   "source": []
  },
  {
   "cell_type": "code",
   "execution_count": 210,
   "metadata": {},
   "outputs": [
    {
     "data": {
      "text/plain": [
       "(76552, 17)"
      ]
     },
     "execution_count": 210,
     "metadata": {},
     "output_type": "execute_result"
    }
   ],
   "source": [
    "X.shape"
   ]
  },
  {
   "cell_type": "code",
   "execution_count": null,
   "metadata": {},
   "outputs": [],
   "source": []
  },
  {
   "cell_type": "code",
   "execution_count": 213,
   "metadata": {},
   "outputs": [
    {
     "data": {
      "text/plain": [
       "(76552, 17)"
      ]
     },
     "execution_count": 213,
     "metadata": {},
     "output_type": "execute_result"
    }
   ],
   "source": [
    "X.shape\n"
   ]
  },
  {
   "cell_type": "code",
   "execution_count": null,
   "metadata": {},
   "outputs": [],
   "source": []
  },
  {
   "cell_type": "code",
   "execution_count": 211,
   "metadata": {},
   "outputs": [
    {
     "name": "stdout",
     "output_type": "stream",
     "text": [
      "knn  85.6 -3.420602565440424\n",
      "random foreset 100.0\n",
      "logistic  75.61 -0.5452108000307354\n",
      "neural net  75.61 -8.378224849144226\n"
     ]
    }
   ],
   "source": [
    "from sklearn.neighbors import KNeighborsClassifier\n",
    "knn = KNeighborsClassifier(n_neighbors = 3)\n",
    "knn.fit(X_train, Y_train)\n",
    "Y_pred = knn.predict(X_test)\n",
    "acc_knn = round(knn.score(X_train, Y_train) * 100, 2)\n",
    "knn_cost=cross_val_score(knn, X_train, Y_train, scoring='neg_log_loss').mean()\n",
    "print('knn ' ,acc_knn,knn_cost)\n",
    "\n",
    "from sklearn.ensemble import RandomForestClassifier\n",
    "random_forest = RandomForestClassifier(n_estimators=100)\n",
    "random_forest.fit(X_train, Y_train)\n",
    "Y_pred = random_forest.predict(X_test)\n",
    "prob1=random_forest.predict_proba(X_test)\n",
    "random_forest.score(X_train, Y_train)\n",
    "acc_random_forest = round(random_forest.score(X_train, Y_train) * 100, 2)\n",
    "print('random foreset',acc_random_forest)\n",
    "\n",
    "# decision_tree = DecisionTreeClassifier()\n",
    "# decision_tree.fit(X_train, Y_train)\n",
    "# Y_pred = decision_tree.predict(X_test)\n",
    "# acc_decision_tree = round(decision_tree.score(X_train, Y_train) * 100, 2)\n",
    "# print( 'dicision tree',acc_decision_tree)\n",
    "\n",
    "\n",
    "\n",
    "logreg = LogisticRegression()\n",
    "logreg.fit(X_train, Y_train)\n",
    "Y_pred = logreg.predict(X_test)\n",
    "acc_log = round(logreg.score(X_train, Y_train) * 100, 2)\n",
    "lr_cost=cross_val_score(logreg, X_train, Y_train, scoring='neg_log_loss').mean()\n",
    "print('logistic ' , acc_log,lr_cost)\n",
    "\n",
    "from sklearn.neural_network import MLPClassifier\n",
    "clf = MLPClassifier(solver='lbfgs', alpha=1e-5,\n",
    "                    hidden_layer_sizes=(5, 2), random_state=1)\n",
    "clf.fit(X_train, Y_train) \n",
    "Y_pred=clf.predict(X_test)\n",
    "acc_clf = round(clf.score(X_train, Y_train) * 100, 2)\n",
    "clf_cost=cross_val_score(clf, X_train, Y_train, scoring='neg_log_loss').mean()\n",
    "print('neural net ',acc_clf,clf_cost)\n",
    "\n",
    "\n"
   ]
  },
  {
   "cell_type": "code",
   "execution_count": 214,
   "metadata": {},
   "outputs": [
    {
     "data": {
      "text/plain": [
       "(25000, 17)"
      ]
     },
     "execution_count": 214,
     "metadata": {},
     "output_type": "execute_result"
    }
   ],
   "source": [
    "lead_df=pd.read_csv('Lead_GBM_shubham_17.csv',index_col='application_key')\n",
    "# lead_df=Pca(lead_df)\n",
    "lead_df.shape"
   ]
  },
  {
   "cell_type": "code",
   "execution_count": null,
   "metadata": {},
   "outputs": [],
   "source": []
  },
  {
   "cell_type": "code",
   "execution_count": null,
   "metadata": {},
   "outputs": [],
   "source": []
  },
  {
   "cell_type": "code",
   "execution_count": 136,
   "metadata": {},
   "outputs": [
    {
     "name": "stdout",
     "output_type": "stream",
     "text": [
      "neural net  81.44 -0.4049195156808852\n"
     ]
    }
   ],
   "source": [
    "from sklearn.neural_network import MLPClassifier\n",
    "clf = MLPClassifier(solver='lbfgs', alpha=1e-5,\n",
    "                    hidden_layer_sizes=(5, 2), random_state=1)\n",
    "clf.fit(X_train, Y_train) \n",
    "Y_pred=clf.predict(X_test)\n",
    "acc_clf = round(clf.score(X_train, Y_train) * 100, 2)\n",
    "clf_cost=cross_val_score(clf, X_train, Y_train, scoring='neg_log_loss').mean()\n",
    "print('neural net ',acc_clf,clf_cost)"
   ]
  },
  {
   "cell_type": "code",
   "execution_count": 216,
   "metadata": {},
   "outputs": [
    {
     "name": "stdout",
     "output_type": "stream",
     "text": [
      "(76552, 17) (25000, 17) knn \n",
      "(76552, 17) (25000, 17) ranm frest\n",
      "(76552, 17) (25000, 17) log reg\n",
      "(76552, 17) (25000, 17) neural\n"
     ]
    }
   ],
   "source": [
    "\n",
    "lead_df=pd.read_csv('Lead_GBM_shubham_17.csv',index_col='application_key')\n",
    "# lead_df.columns=colm[:-1]\n",
    "# lead_df=(lead_df-lead_df.mean(axis=0))/lead_df.std(axis=0)\n",
    "# lead_df=lead_df[imp_col[:-1]]\n",
    "# lead_df=Pca(lead_df)\n",
    "print(X.shape,lead_df.shape, 'knn ')\n",
    "\n",
    "\n",
    "lead_pred=knn.predict(lead_df)\n",
    "proba=knn.predict_proba(lead_df)\n",
    "lead_df['pridicted']=lead_pred\n",
    "lead_df['prob']=proba[:,0]\n",
    "lead_df=lead_df.sort_values(by=['prob'],ascending=False)\n",
    "result=lead_df['pridicted'].astype(int)\n",
    "result.to_csv('Datadevils_IITGuwahati_174.csv')\n",
    "\n",
    "\n",
    "\n",
    "lead_df=pd.read_csv('Lead_GBM_shubham_17.csv',index_col='application_key')\n",
    "# lead_df.columns=colm[:-1]\n",
    "# lead_df=(lead_df-lead_df.mean(axis=0))/lead_df.std(axis=0)\n",
    "# lead_df=lead_df[imp_col[:-1]]\n",
    "# lead_df=Pca(lead_df)\n",
    "print(X.shape,lead_df.shape, 'ranm frest')\n",
    "\n",
    "lead_prid=random_forest.predict(lead_df)\n",
    "proba=random_forest.predict_proba(lead_df)\n",
    "lead_df['pridicted']=lead_prid\n",
    "lead_df['prob']=proba[:,0]\n",
    "lead_df=lead_df.sort_values(by=['prob'],ascending=False)\n",
    "result=lead_df['pridicted'].astype(int)\n",
    "result.to_csv('Datadevils_IITGuwahati_175.csv')\n",
    "\n",
    "\n",
    "lead_df=pd.read_csv('Lead_GBM_shubham_17.csv',index_col='application_key')\n",
    "# lead_df.columns=colm[:-1]\n",
    "# lead_df=(lead_df-lead_df.mean(axis=0))/lead_df.std(axis=0)\n",
    "# lead_df=lead_df[imp_col[:-1]]\n",
    "# lead_df=Pca(lead_df)\n",
    "print(X.shape,lead_df.shape, 'log reg')\n",
    "\n",
    "lead_pred=logreg.predict(lead_df)\n",
    "proba=logreg.predict_proba(lead_df)\n",
    "lead_df['pridicted']=lead_pred\n",
    "lead_df['prob']=proba[:,0]\n",
    "lead_df=lead_df.sort_values(by=['prob'],ascending=False)\n",
    "result=lead_df['pridicted'].astype(int)\n",
    "result.to_csv('Datadevils_IITGuwahati_176.csv')\n",
    "\n",
    "\n",
    "# lead_df=pd.read_csv('lead_add_NaN_final.csv',index_col='application_key')\n",
    "# lead_df.columns=colm[:-1]\n",
    "# # lead_df=(lead_df-lead_df.mean(axis=0))/lead_df.std(axis=0)\n",
    "# # lead_df=lead_df[imp_col[:-1]]\n",
    "# lead_df=Pca(lead_df)\n",
    "# print(X.shape,lead_df.shape, 'log reg')\n",
    "\n",
    "# lead_pred=decision_tree.predict(lead_df)\n",
    "# proba=decision_tree.predict_proba(lead_df)\n",
    "# lead_df['pridicted']=lead_pred\n",
    "# lead_df['prob']=proba[:,0]\n",
    "# lead_df=lead_df.sort_values(by=['prob'],ascending=False)\n",
    "# result=lead_df['pridicted'].astype(int)\n",
    "# result.to_csv('Datadevils_IITGuwahati_157.csv')\n",
    "\n",
    "lead_df=pd.read_csv('Lead_GBM_shubham_17.csv',index_col='application_key')\n",
    "# lead_df.columns=colm[:-1]\n",
    "# lead_df=(lead_df-lead_df.mean(axis=0))/lead_df.std(axis=0)\n",
    "# lead_df=lead_df[imp_col[:-1]]\n",
    "# lead_df=Pca(lead_df)\n",
    "print(X.shape,lead_df.shape, 'neural')\n",
    "\n",
    "lead_pred=clf.predict(lead_df)\n",
    "proba=clf.predict_proba(lead_df)\n",
    "lead_df['pridicted']=lead_pred\n",
    "lead_df['prob']=proba[:,0]\n",
    "lead_df=lead_df.sort_values(by=['prob'],ascending=False)\n",
    "result=lead_df['pridicted'].astype(int)\n",
    "result.to_csv('Datadevils_IITGuwahati_178.csv')"
   ]
  },
  {
   "cell_type": "code",
   "execution_count": 137,
   "metadata": {},
   "outputs": [
    {
     "name": "stdout",
     "output_type": "stream",
     "text": [
      "(71526, 26) (25000, 26)  neural net \n"
     ]
    }
   ],
   "source": [
    "\n",
    "lead_df=pd.read_csv('lead_add_NaN_final.csv',index_col='application_key')\n",
    "lead_df.columns=colm[:-1]\n",
    "# lead_df=lead_df[imp_col[:-1]]\n",
    "lead_df=Pca(lead_df)\n",
    "print(X.shape,lead_df.shape, ' neural net ')\n",
    "\n",
    "lead_pred=clf.predict(lead_df)\n",
    "proba=clf.predict_proba(lead_df)\n",
    "lead_df['pridicted']=lead_pred\n",
    "lead_df['prob']=proba[:,0]\n",
    "lead_df=lead_df.sort_values(by=['prob'],ascending=False)\n",
    "result=lead_df['pridicted'].astype(int)\n",
    "result.to_csv('Datadevils_IITGuwahati_153.csv')"
   ]
  },
  {
   "cell_type": "code",
   "execution_count": null,
   "metadata": {},
   "outputs": [],
   "source": []
  },
  {
   "cell_type": "code",
   "execution_count": null,
   "metadata": {},
   "outputs": [],
   "source": [
    "from sklearn.neighbors import KNeighborsClassifier\n",
    "knn = KNeighborsClassifier(n_neighbors = 3)\n",
    "knn.fit(X_train, Y_train)\n",
    "Y_pred = knn.predict(X_test)\n",
    "acc_knn = round(knn.score(X_train, Y_train) * 100, 2)\n",
    "knn_cost=cross_val_score(knn, X_train, Y_train, scoring='neg_log_loss').mean()\n",
    "print(acc_knn,knn_cost)"
   ]
  },
  {
   "cell_type": "code",
   "execution_count": null,
   "metadata": {},
   "outputs": [],
   "source": []
  },
  {
   "cell_type": "code",
   "execution_count": 7,
   "metadata": {},
   "outputs": [
    {
     "data": {
      "text/plain": [
       "(77.85, -0.4692126563411773)"
      ]
     },
     "execution_count": 7,
     "metadata": {},
     "output_type": "execute_result"
    }
   ],
   "source": [
    "logreg = LogisticRegression()\n",
    "logreg.fit(X_train, Y_train)\n",
    "Y_pred = logreg.predict(X_test)\n",
    "acc_log = round(logreg.score(X_train, Y_train) * 100, 2)\n",
    "lr_cost=cross_val_score(logreg, X_train, Y_train, scoring='neg_log_loss').mean()\n",
    "acc_log,lr_cost"
   ]
  },
  {
   "cell_type": "code",
   "execution_count": null,
   "metadata": {},
   "outputs": [],
   "source": []
  },
  {
   "cell_type": "code",
   "execution_count": 7,
   "metadata": {},
   "outputs": [],
   "source": [
    "# from sklearn.svm import SVC\n",
    "# svc = SVC(probability=True)\n",
    "# svc.fit(X_train, Y_train)\n",
    "# Y_pred = svc.predict(X_test)\n",
    "# acc_svc = round(svc.score(X_train, Y_train) * 100, 2)\n",
    "# # svc_cost=cross_val_score(svc, X_train, Y_train, scoring='neg_log_loss').mean()\n",
    "# proba=svc.predict_proba(X_test)\n",
    "# acc_svc"
   ]
  },
  {
   "cell_type": "code",
   "execution_count": 7,
   "metadata": {},
   "outputs": [],
   "source": [
    "# proba[:20]"
   ]
  },
  {
   "cell_type": "code",
   "execution_count": null,
   "metadata": {},
   "outputs": [],
   "source": []
  },
  {
   "cell_type": "code",
   "execution_count": 8,
   "metadata": {},
   "outputs": [
    {
     "data": {
      "text/plain": [
       "99.85"
      ]
     },
     "execution_count": 8,
     "metadata": {},
     "output_type": "execute_result"
    }
   ],
   "source": [
    "from sklearn.ensemble import RandomForestClassifier\n",
    "random_forest = RandomForestClassifier(n_estimators=100)\n",
    "random_forest.fit(X_train, Y_train)\n",
    "Y_pred = random_forest.predict(X_test)\n",
    "prob1=random_forest.predict_proba(X_test)\n",
    "random_forest.score(X_train, Y_train)\n",
    "acc_random_forest = round(random_forest.score(X_train, Y_train) * 100, 2)\n",
    "acc_random_forest"
   ]
  },
  {
   "cell_type": "code",
   "execution_count": null,
   "metadata": {},
   "outputs": [],
   "source": []
  },
  {
   "cell_type": "code",
   "execution_count": 68,
   "metadata": {},
   "outputs": [
    {
     "data": {
      "text/plain": [
       "68.04"
      ]
     },
     "execution_count": 68,
     "metadata": {},
     "output_type": "execute_result"
    }
   ],
   "source": [
    "# Gaussian Naive Bayes\n",
    "\n",
    "gaussian = GaussianNB()\n",
    "gaussian.fit(X_train, Y_train)\n",
    "Y_pred = gaussian.predict(X_test)\n",
    "acc_gaussian = round(gaussian.score(X_train, Y_train) * 100, 2)\n",
    "acc_gaussian"
   ]
  },
  {
   "cell_type": "code",
   "execution_count": null,
   "metadata": {},
   "outputs": [],
   "source": []
  },
  {
   "cell_type": "code",
   "execution_count": 69,
   "metadata": {},
   "outputs": [
    {
     "name": "stderr",
     "output_type": "stream",
     "text": [
      "C:\\Users\\BaadRoR\\Anaconda3\\lib\\site-packages\\sklearn\\linear_model\\stochastic_gradient.py:128: FutureWarning: max_iter and tol parameters have been added in <class 'sklearn.linear_model.perceptron.Perceptron'> in 0.19. If both are left unset, they default to max_iter=5 and tol=None. If tol is not None, max_iter defaults to max_iter=1000. From 0.21, default max_iter will be 1000, and default tol will be 1e-3.\n",
      "  \"and default tol will be 1e-3.\" % type(self), FutureWarning)\n"
     ]
    },
    {
     "data": {
      "text/plain": [
       "91.14"
      ]
     },
     "execution_count": 69,
     "metadata": {},
     "output_type": "execute_result"
    }
   ],
   "source": [
    "perceptron = Perceptron()\n",
    "perceptron.fit(X_train, Y_train)\n",
    "Y_pred = perceptron.predict(X_test)\n",
    "acc_perceptron = round(perceptron.score(X_train, Y_train) * 100, 2)\n",
    "acc_perceptron"
   ]
  },
  {
   "cell_type": "code",
   "execution_count": null,
   "metadata": {},
   "outputs": [],
   "source": []
  },
  {
   "cell_type": "code",
   "execution_count": 51,
   "metadata": {},
   "outputs": [
    {
     "data": {
      "text/plain": [
       "55.45"
      ]
     },
     "execution_count": 51,
     "metadata": {},
     "output_type": "execute_result"
    }
   ],
   "source": [
    "linear_svc = LinearSVC()\n",
    "linear_svc.fit(X_train, Y_train)\n",
    "Y_pred = linear_svc.predict(X_test)\n",
    "acc_linear_svc = round(linear_svc.score(X_train, Y_train) * 100, 2)\n",
    "acc_linear_svc"
   ]
  },
  {
   "cell_type": "code",
   "execution_count": null,
   "metadata": {},
   "outputs": [],
   "source": []
  },
  {
   "cell_type": "code",
   "execution_count": 70,
   "metadata": {},
   "outputs": [
    {
     "name": "stderr",
     "output_type": "stream",
     "text": [
      "C:\\Users\\BaadRoR\\Anaconda3\\lib\\site-packages\\sklearn\\linear_model\\stochastic_gradient.py:128: FutureWarning: max_iter and tol parameters have been added in <class 'sklearn.linear_model.stochastic_gradient.SGDClassifier'> in 0.19. If both are left unset, they default to max_iter=5 and tol=None. If tol is not None, max_iter defaults to max_iter=1000. From 0.21, default max_iter will be 1000, and default tol will be 1e-3.\n",
      "  \"and default tol will be 1e-3.\" % type(self), FutureWarning)\n"
     ]
    },
    {
     "data": {
      "text/plain": [
       "91.19"
      ]
     },
     "execution_count": 70,
     "metadata": {},
     "output_type": "execute_result"
    }
   ],
   "source": [
    "\n",
    "sgd = SGDClassifier()\n",
    "sgd.fit(X_train, Y_train)\n",
    "Y_pred = sgd.predict(X_test)\n",
    "acc_sgd = round(sgd.score(X_train, Y_train) * 100, 2)\n",
    "acc_sgd"
   ]
  },
  {
   "cell_type": "code",
   "execution_count": null,
   "metadata": {},
   "outputs": [],
   "source": []
  },
  {
   "cell_type": "code",
   "execution_count": 71,
   "metadata": {},
   "outputs": [
    {
     "data": {
      "text/plain": [
       "100.0"
      ]
     },
     "execution_count": 71,
     "metadata": {},
     "output_type": "execute_result"
    }
   ],
   "source": [
    "decision_tree = DecisionTreeClassifier()\n",
    "decision_tree.fit(X_train, Y_train)\n",
    "Y_pred = decision_tree.predict(X_test)\n",
    "acc_decision_tree = round(decision_tree.score(X_train, Y_train) * 100, 2)\n",
    "acc_decision_tree"
   ]
  },
  {
   "cell_type": "code",
   "execution_count": null,
   "metadata": {},
   "outputs": [],
   "source": []
  },
  {
   "cell_type": "code",
   "execution_count": 15,
   "metadata": {},
   "outputs": [
    {
     "data": {
      "text/plain": [
       "((80000, 16), (25000, 16))"
      ]
     },
     "execution_count": 15,
     "metadata": {},
     "output_type": "execute_result"
    }
   ],
   "source": [
    "lead_df=pd.read_csv('lead_board_cleaned.csv',index_col='application_key')\n",
    "lead_df.columns=colm[:-1]\n",
    "lead_df=lead_df[imp_col[:-1]]\n",
    "X.shape,lead_df.shape"
   ]
  },
  {
   "cell_type": "code",
   "execution_count": 10,
   "metadata": {},
   "outputs": [
    {
     "data": {
      "text/plain": [
       "(80000, 16)"
      ]
     },
     "execution_count": 10,
     "metadata": {},
     "output_type": "execute_result"
    }
   ],
   "source": [
    "X.shape"
   ]
  },
  {
   "cell_type": "code",
   "execution_count": 166,
   "metadata": {},
   "outputs": [],
   "source": [
    "# lead_df.head(10)"
   ]
  },
  {
   "cell_type": "code",
   "execution_count": 11,
   "metadata": {},
   "outputs": [],
   "source": [
    "lead_df=pd.read_csv('lead_board_cleaned.csv',index_col='application_key')\n",
    "lead_df.columns=colm[:-1]\n",
    "lead_df=lead_df[imp_col[:-1]]\n",
    "print(X.shape,lead_df.shape)\n",
    "\n",
    "\n",
    "lead_pred=knn.predict(lead_df)\n",
    "proba=knn.predict_proba(lead_df)\n",
    "lead_df['pridicted']=lead_pred\n",
    "lead_df['prob']=proba[:,0]\n",
    "lead_df=lead_df.sort_values(by=['prob'],ascending=False)\n",
    "result=lead_df['pridicted'].astype(int)\n",
    "result.to_csv('Datadevils_IITGuwahati_68.csv')"
   ]
  },
  {
   "cell_type": "code",
   "execution_count": 12,
   "metadata": {},
   "outputs": [
    {
     "data": {
      "text/html": [
       "<div>\n",
       "<style scoped>\n",
       "    .dataframe tbody tr th:only-of-type {\n",
       "        vertical-align: middle;\n",
       "    }\n",
       "\n",
       "    .dataframe tbody tr th {\n",
       "        vertical-align: top;\n",
       "    }\n",
       "\n",
       "    .dataframe thead th {\n",
       "        text-align: right;\n",
       "    }\n",
       "</style>\n",
       "<table border=\"1\" class=\"dataframe\">\n",
       "  <thead>\n",
       "    <tr style=\"text-align: right;\">\n",
       "      <th></th>\n",
       "      <th>37</th>\n",
       "      <th>25</th>\n",
       "      <th>42</th>\n",
       "      <th>4</th>\n",
       "      <th>18</th>\n",
       "      <th>9</th>\n",
       "      <th>39</th>\n",
       "      <th>23</th>\n",
       "      <th>24</th>\n",
       "      <th>6</th>\n",
       "      <th>33</th>\n",
       "      <th>17</th>\n",
       "      <th>41</th>\n",
       "      <th>46</th>\n",
       "      <th>1</th>\n",
       "      <th>0</th>\n",
       "      <th>pridicted</th>\n",
       "      <th>prob</th>\n",
       "    </tr>\n",
       "    <tr>\n",
       "      <th>application_key</th>\n",
       "      <th></th>\n",
       "      <th></th>\n",
       "      <th></th>\n",
       "      <th></th>\n",
       "      <th></th>\n",
       "      <th></th>\n",
       "      <th></th>\n",
       "      <th></th>\n",
       "      <th></th>\n",
       "      <th></th>\n",
       "      <th></th>\n",
       "      <th></th>\n",
       "      <th></th>\n",
       "      <th></th>\n",
       "      <th></th>\n",
       "      <th></th>\n",
       "      <th></th>\n",
       "      <th></th>\n",
       "    </tr>\n",
       "  </thead>\n",
       "  <tbody>\n",
       "    <tr>\n",
       "      <th>362553</th>\n",
       "      <td>5.0</td>\n",
       "      <td>183.000000</td>\n",
       "      <td>9.0</td>\n",
       "      <td>0.0</td>\n",
       "      <td>0.0</td>\n",
       "      <td>68660.0</td>\n",
       "      <td>98.49114</td>\n",
       "      <td>13.88000</td>\n",
       "      <td>3048.00000</td>\n",
       "      <td>27635.000000</td>\n",
       "      <td>0.0</td>\n",
       "      <td>0.000000</td>\n",
       "      <td>0.222220</td>\n",
       "      <td>1.0</td>\n",
       "      <td>0.343500</td>\n",
       "      <td>1826.000000</td>\n",
       "      <td>0.0</td>\n",
       "      <td>1.0</td>\n",
       "    </tr>\n",
       "    <tr>\n",
       "      <th>363824</th>\n",
       "      <td>1.0</td>\n",
       "      <td>10463.000000</td>\n",
       "      <td>6.0</td>\n",
       "      <td>0.0</td>\n",
       "      <td>0.0</td>\n",
       "      <td>32630.0</td>\n",
       "      <td>98.49114</td>\n",
       "      <td>0.00000</td>\n",
       "      <td>3594.00000</td>\n",
       "      <td>11397.000000</td>\n",
       "      <td>0.0</td>\n",
       "      <td>0.000000</td>\n",
       "      <td>0.000000</td>\n",
       "      <td>1.0</td>\n",
       "      <td>0.000000</td>\n",
       "      <td>1911.000000</td>\n",
       "      <td>0.0</td>\n",
       "      <td>1.0</td>\n",
       "    </tr>\n",
       "    <tr>\n",
       "      <th>363828</th>\n",
       "      <td>2.0</td>\n",
       "      <td>5840.000000</td>\n",
       "      <td>1.0</td>\n",
       "      <td>0.0</td>\n",
       "      <td>0.0</td>\n",
       "      <td>79131.0</td>\n",
       "      <td>98.49114</td>\n",
       "      <td>55.19000</td>\n",
       "      <td>2989.00000</td>\n",
       "      <td>59009.000000</td>\n",
       "      <td>0.0</td>\n",
       "      <td>0.000000</td>\n",
       "      <td>0.391300</td>\n",
       "      <td>0.0</td>\n",
       "      <td>0.569400</td>\n",
       "      <td>1689.000000</td>\n",
       "      <td>0.0</td>\n",
       "      <td>1.0</td>\n",
       "    </tr>\n",
       "    <tr>\n",
       "      <th>363829</th>\n",
       "      <td>1.0</td>\n",
       "      <td>3359.007982</td>\n",
       "      <td>0.0</td>\n",
       "      <td>0.0</td>\n",
       "      <td>0.0</td>\n",
       "      <td>0.0</td>\n",
       "      <td>98.49114</td>\n",
       "      <td>72.50052</td>\n",
       "      <td>1752.01786</td>\n",
       "      <td>17750.368864</td>\n",
       "      <td>0.0</td>\n",
       "      <td>0.266823</td>\n",
       "      <td>0.331992</td>\n",
       "      <td>0.0</td>\n",
       "      <td>1.118127</td>\n",
       "      <td>1746.901551</td>\n",
       "      <td>0.0</td>\n",
       "      <td>1.0</td>\n",
       "    </tr>\n",
       "    <tr>\n",
       "      <th>363830</th>\n",
       "      <td>2.0</td>\n",
       "      <td>5597.000000</td>\n",
       "      <td>14.0</td>\n",
       "      <td>0.0</td>\n",
       "      <td>0.0</td>\n",
       "      <td>70898.0</td>\n",
       "      <td>98.49114</td>\n",
       "      <td>38.22000</td>\n",
       "      <td>3234.00000</td>\n",
       "      <td>39796.000000</td>\n",
       "      <td>0.0</td>\n",
       "      <td>0.000000</td>\n",
       "      <td>0.062500</td>\n",
       "      <td>0.0</td>\n",
       "      <td>0.029300</td>\n",
       "      <td>1800.000000</td>\n",
       "      <td>0.0</td>\n",
       "      <td>1.0</td>\n",
       "    </tr>\n",
       "  </tbody>\n",
       "</table>\n",
       "</div>"
      ],
      "text/plain": [
       "                  37            25    42    4   18        9        39  \\\n",
       "application_key                                                         \n",
       "362553           5.0    183.000000   9.0  0.0  0.0  68660.0  98.49114   \n",
       "363824           1.0  10463.000000   6.0  0.0  0.0  32630.0  98.49114   \n",
       "363828           2.0   5840.000000   1.0  0.0  0.0  79131.0  98.49114   \n",
       "363829           1.0   3359.007982   0.0  0.0  0.0      0.0  98.49114   \n",
       "363830           2.0   5597.000000  14.0  0.0  0.0  70898.0  98.49114   \n",
       "\n",
       "                       23          24             6   33        17        41  \\\n",
       "application_key                                                                \n",
       "362553           13.88000  3048.00000  27635.000000  0.0  0.000000  0.222220   \n",
       "363824            0.00000  3594.00000  11397.000000  0.0  0.000000  0.000000   \n",
       "363828           55.19000  2989.00000  59009.000000  0.0  0.000000  0.391300   \n",
       "363829           72.50052  1752.01786  17750.368864  0.0  0.266823  0.331992   \n",
       "363830           38.22000  3234.00000  39796.000000  0.0  0.000000  0.062500   \n",
       "\n",
       "                  46         1            0  pridicted  prob  \n",
       "application_key                                               \n",
       "362553           1.0  0.343500  1826.000000        0.0   1.0  \n",
       "363824           1.0  0.000000  1911.000000        0.0   1.0  \n",
       "363828           0.0  0.569400  1689.000000        0.0   1.0  \n",
       "363829           0.0  1.118127  1746.901551        0.0   1.0  \n",
       "363830           0.0  0.029300  1800.000000        0.0   1.0  "
      ]
     },
     "execution_count": 12,
     "metadata": {},
     "output_type": "execute_result"
    }
   ],
   "source": [
    "lead_df.head(5)"
   ]
  },
  {
   "cell_type": "code",
   "execution_count": 30,
   "metadata": {},
   "outputs": [],
   "source": [
    "# lead_df.head(10)"
   ]
  },
  {
   "cell_type": "code",
   "execution_count": 16,
   "metadata": {},
   "outputs": [],
   "source": [
    "lead_df=pd.read_csv('lead_board_cleaned.csv',index_col='application_key')\n",
    "lead_df.columns=colm[:-1]\n",
    "lead_df=lead_df[imp_col[:-1]]\n",
    "X.shape,lead_df.shape\n",
    "\n",
    "lead_pred=logreg.predict(lead_df)\n",
    "proba=logreg.predict_proba(lead_df)\n",
    "lead_df['pridicted']=lead_pred\n",
    "lead_df['prob']=proba[:,0]\n",
    "lead_df=lead_df.sort_values(by=['prob'],ascending=False)\n",
    "result=lead_df['pridicted'].astype(int)\n",
    "result.to_csv('Datadevils_IITGuwahati_70.csv')"
   ]
  },
  {
   "cell_type": "code",
   "execution_count": 89,
   "metadata": {},
   "outputs": [],
   "source": [
    "# lead_df.head()"
   ]
  },
  {
   "cell_type": "code",
   "execution_count": 146,
   "metadata": {},
   "outputs": [
    {
     "data": {
      "text/html": [
       "<div>\n",
       "<style scoped>\n",
       "    .dataframe tbody tr th:only-of-type {\n",
       "        vertical-align: middle;\n",
       "    }\n",
       "\n",
       "    .dataframe tbody tr th {\n",
       "        vertical-align: top;\n",
       "    }\n",
       "\n",
       "    .dataframe thead th {\n",
       "        text-align: right;\n",
       "    }\n",
       "</style>\n",
       "<table border=\"1\" class=\"dataframe\">\n",
       "  <thead>\n",
       "    <tr style=\"text-align: right;\">\n",
       "      <th></th>\n",
       "      <th>9</th>\n",
       "      <th>21</th>\n",
       "      <th>20</th>\n",
       "      <th>6</th>\n",
       "      <th>33</th>\n",
       "      <th>37</th>\n",
       "      <th>1</th>\n",
       "      <th>0</th>\n",
       "      <th>pridicted</th>\n",
       "      <th>prob</th>\n",
       "    </tr>\n",
       "    <tr>\n",
       "      <th>application_key</th>\n",
       "      <th></th>\n",
       "      <th></th>\n",
       "      <th></th>\n",
       "      <th></th>\n",
       "      <th></th>\n",
       "      <th></th>\n",
       "      <th></th>\n",
       "      <th></th>\n",
       "      <th></th>\n",
       "      <th></th>\n",
       "    </tr>\n",
       "  </thead>\n",
       "  <tbody>\n",
       "    <tr>\n",
       "      <th>375052</th>\n",
       "      <td>51174.0</td>\n",
       "      <td>4427.87677</td>\n",
       "      <td>4.695</td>\n",
       "      <td>18889.0</td>\n",
       "      <td>0.0</td>\n",
       "      <td>0.0</td>\n",
       "      <td>0.1394</td>\n",
       "      <td>1916.0</td>\n",
       "      <td>0.0</td>\n",
       "      <td>1.0</td>\n",
       "    </tr>\n",
       "    <tr>\n",
       "      <th>368320</th>\n",
       "      <td>35777.0</td>\n",
       "      <td>0.00000</td>\n",
       "      <td>24.434</td>\n",
       "      <td>16220.0</td>\n",
       "      <td>0.0</td>\n",
       "      <td>2.0</td>\n",
       "      <td>0.1268</td>\n",
       "      <td>1920.0</td>\n",
       "      <td>0.0</td>\n",
       "      <td>1.0</td>\n",
       "    </tr>\n",
       "    <tr>\n",
       "      <th>351761</th>\n",
       "      <td>101309.0</td>\n",
       "      <td>9289.02000</td>\n",
       "      <td>9.029</td>\n",
       "      <td>22135.0</td>\n",
       "      <td>0.0</td>\n",
       "      <td>6.0</td>\n",
       "      <td>0.1001</td>\n",
       "      <td>1928.0</td>\n",
       "      <td>0.0</td>\n",
       "      <td>1.0</td>\n",
       "    </tr>\n",
       "    <tr>\n",
       "      <th>363338</th>\n",
       "      <td>85804.0</td>\n",
       "      <td>189.36000</td>\n",
       "      <td>6.745</td>\n",
       "      <td>15843.0</td>\n",
       "      <td>0.0</td>\n",
       "      <td>14.0</td>\n",
       "      <td>0.1747</td>\n",
       "      <td>1852.0</td>\n",
       "      <td>0.0</td>\n",
       "      <td>1.0</td>\n",
       "    </tr>\n",
       "    <tr>\n",
       "      <th>351759</th>\n",
       "      <td>126946.0</td>\n",
       "      <td>104.00000</td>\n",
       "      <td>1.040</td>\n",
       "      <td>72042.0</td>\n",
       "      <td>0.0</td>\n",
       "      <td>4.0</td>\n",
       "      <td>0.0740</td>\n",
       "      <td>1939.0</td>\n",
       "      <td>0.0</td>\n",
       "      <td>1.0</td>\n",
       "    </tr>\n",
       "  </tbody>\n",
       "</table>\n",
       "</div>"
      ],
      "text/plain": [
       "                        9          21      20        6   33    37       1  \\\n",
       "application_key                                                             \n",
       "375052            51174.0  4427.87677   4.695  18889.0  0.0   0.0  0.1394   \n",
       "368320            35777.0     0.00000  24.434  16220.0  0.0   2.0  0.1268   \n",
       "351761           101309.0  9289.02000   9.029  22135.0  0.0   6.0  0.1001   \n",
       "363338            85804.0   189.36000   6.745  15843.0  0.0  14.0  0.1747   \n",
       "351759           126946.0   104.00000   1.040  72042.0  0.0   4.0  0.0740   \n",
       "\n",
       "                      0  pridicted  prob  \n",
       "application_key                           \n",
       "375052           1916.0        0.0   1.0  \n",
       "368320           1920.0        0.0   1.0  \n",
       "351761           1928.0        0.0   1.0  \n",
       "363338           1852.0        0.0   1.0  \n",
       "351759           1939.0        0.0   1.0  "
      ]
     },
     "execution_count": 146,
     "metadata": {},
     "output_type": "execute_result"
    }
   ],
   "source": [
    "lead_df.head()"
   ]
  },
  {
   "cell_type": "code",
   "execution_count": 92,
   "metadata": {},
   "outputs": [],
   "source": [
    "# lead_df.head()"
   ]
  },
  {
   "cell_type": "code",
   "execution_count": 171,
   "metadata": {},
   "outputs": [],
   "source": [
    "lead_pred=decision_tree.predict(lead_df)\n",
    "proba=decision_tree.predict_proba(lead_df)\n",
    "lead_df['pridicted']=lead_pred\n",
    "lead_df['prob']=proba[:,0]\n",
    "lead_df=lead_df.sort_values(by=['prob'],ascending=False)\n",
    "result=lead_df['pridicted'].astype(int)\n",
    "result.to_csv('Datadevils_IITGuwahati_63.csv')"
   ]
  },
  {
   "cell_type": "code",
   "execution_count": 124,
   "metadata": {},
   "outputs": [
    {
     "data": {
      "text/html": [
       "<div>\n",
       "<style scoped>\n",
       "    .dataframe tbody tr th:only-of-type {\n",
       "        vertical-align: middle;\n",
       "    }\n",
       "\n",
       "    .dataframe tbody tr th {\n",
       "        vertical-align: top;\n",
       "    }\n",
       "\n",
       "    .dataframe thead th {\n",
       "        text-align: right;\n",
       "    }\n",
       "</style>\n",
       "<table border=\"1\" class=\"dataframe\">\n",
       "  <thead>\n",
       "    <tr style=\"text-align: right;\">\n",
       "      <th></th>\n",
       "      <th>9</th>\n",
       "      <th>39</th>\n",
       "      <th>23</th>\n",
       "      <th>24</th>\n",
       "      <th>6</th>\n",
       "      <th>33</th>\n",
       "      <th>17</th>\n",
       "      <th>41</th>\n",
       "      <th>46</th>\n",
       "      <th>1</th>\n",
       "      <th>0</th>\n",
       "      <th>pridicted</th>\n",
       "      <th>prob</th>\n",
       "    </tr>\n",
       "    <tr>\n",
       "      <th>application_key</th>\n",
       "      <th></th>\n",
       "      <th></th>\n",
       "      <th></th>\n",
       "      <th></th>\n",
       "      <th></th>\n",
       "      <th></th>\n",
       "      <th></th>\n",
       "      <th></th>\n",
       "      <th></th>\n",
       "      <th></th>\n",
       "      <th></th>\n",
       "      <th></th>\n",
       "      <th></th>\n",
       "    </tr>\n",
       "  </thead>\n",
       "  <tbody>\n",
       "    <tr>\n",
       "      <th>350053</th>\n",
       "      <td>19438.0</td>\n",
       "      <td>98.49114</td>\n",
       "      <td>79.20</td>\n",
       "      <td>1141.0</td>\n",
       "      <td>19179.0</td>\n",
       "      <td>0.0</td>\n",
       "      <td>0.0</td>\n",
       "      <td>0.42105</td>\n",
       "      <td>1.0</td>\n",
       "      <td>0.5001</td>\n",
       "      <td>1753.0</td>\n",
       "      <td>0.0</td>\n",
       "      <td>1.0</td>\n",
       "    </tr>\n",
       "    <tr>\n",
       "      <th>365374</th>\n",
       "      <td>14934.0</td>\n",
       "      <td>99.85200</td>\n",
       "      <td>38.43</td>\n",
       "      <td>1871.0</td>\n",
       "      <td>27498.0</td>\n",
       "      <td>0.0</td>\n",
       "      <td>0.0</td>\n",
       "      <td>0.00000</td>\n",
       "      <td>1.0</td>\n",
       "      <td>0.0000</td>\n",
       "      <td>1828.0</td>\n",
       "      <td>0.0</td>\n",
       "      <td>1.0</td>\n",
       "    </tr>\n",
       "    <tr>\n",
       "      <th>365372</th>\n",
       "      <td>3403.0</td>\n",
       "      <td>98.49114</td>\n",
       "      <td>31.73</td>\n",
       "      <td>4529.0</td>\n",
       "      <td>545.0</td>\n",
       "      <td>1.0</td>\n",
       "      <td>0.0</td>\n",
       "      <td>0.29412</td>\n",
       "      <td>0.0</td>\n",
       "      <td>0.5234</td>\n",
       "      <td>1668.0</td>\n",
       "      <td>0.0</td>\n",
       "      <td>1.0</td>\n",
       "    </tr>\n",
       "    <tr>\n",
       "      <th>365371</th>\n",
       "      <td>11923.0</td>\n",
       "      <td>98.49114</td>\n",
       "      <td>19.53</td>\n",
       "      <td>1112.0</td>\n",
       "      <td>4839.0</td>\n",
       "      <td>0.0</td>\n",
       "      <td>0.0</td>\n",
       "      <td>0.38889</td>\n",
       "      <td>0.0</td>\n",
       "      <td>2.0741</td>\n",
       "      <td>1715.0</td>\n",
       "      <td>0.0</td>\n",
       "      <td>1.0</td>\n",
       "    </tr>\n",
       "    <tr>\n",
       "      <th>365367</th>\n",
       "      <td>28493.0</td>\n",
       "      <td>98.49114</td>\n",
       "      <td>10.34</td>\n",
       "      <td>791.0</td>\n",
       "      <td>3072.0</td>\n",
       "      <td>0.0</td>\n",
       "      <td>1.0</td>\n",
       "      <td>0.36364</td>\n",
       "      <td>0.0</td>\n",
       "      <td>3.0037</td>\n",
       "      <td>1698.0</td>\n",
       "      <td>0.0</td>\n",
       "      <td>1.0</td>\n",
       "    </tr>\n",
       "  </tbody>\n",
       "</table>\n",
       "</div>"
      ],
      "text/plain": [
       "                       9        39     23      24        6   33   17       41  \\\n",
       "application_key                                                                 \n",
       "350053           19438.0  98.49114  79.20  1141.0  19179.0  0.0  0.0  0.42105   \n",
       "365374           14934.0  99.85200  38.43  1871.0  27498.0  0.0  0.0  0.00000   \n",
       "365372            3403.0  98.49114  31.73  4529.0    545.0  1.0  0.0  0.29412   \n",
       "365371           11923.0  98.49114  19.53  1112.0   4839.0  0.0  0.0  0.38889   \n",
       "365367           28493.0  98.49114  10.34   791.0   3072.0  0.0  1.0  0.36364   \n",
       "\n",
       "                  46       1       0  pridicted  prob  \n",
       "application_key                                        \n",
       "350053           1.0  0.5001  1753.0        0.0   1.0  \n",
       "365374           1.0  0.0000  1828.0        0.0   1.0  \n",
       "365372           0.0  0.5234  1668.0        0.0   1.0  \n",
       "365371           0.0  2.0741  1715.0        0.0   1.0  \n",
       "365367           0.0  3.0037  1698.0        0.0   1.0  "
      ]
     },
     "execution_count": 124,
     "metadata": {},
     "output_type": "execute_result"
    }
   ],
   "source": [
    "lead_df.head()"
   ]
  },
  {
   "cell_type": "code",
   "execution_count": null,
   "metadata": {},
   "outputs": [],
   "source": [
    "lead_pred=svc.predict(lead_df)\n",
    "proba=svc.predict_proba(lead_df)\n",
    "lead_df['pridicted']=lead_pred\n",
    "lead_df['prob']=proba[:,0]\n",
    "lead_df=lead_df.sort_values(by=['prob'],ascending=False)\n",
    "result=lead_df['pridicted'].astype(int)\n",
    "result.to_csv('Datadevils_IITGuwahati_2.csv')"
   ]
  },
  {
   "cell_type": "code",
   "execution_count": 204,
   "metadata": {},
   "outputs": [
    {
     "data": {
      "text/plain": [
       "(25000, 17)"
      ]
     },
     "execution_count": 204,
     "metadata": {},
     "output_type": "execute_result"
    }
   ],
   "source": [
    "lead_df=pd.read_csv('lead_cleaned_shubham.csv',index_col='application_key')\n",
    "lead_df.columns=colm[:-1]\n",
    "# lead_df=(lead_df-lead_df.mean(axis=0))/lead_df.std(axis=0)\n",
    "lead_df=lead_df[imp_col[:-1]]\n",
    "lead_df.shape"
   ]
  },
  {
   "cell_type": "code",
   "execution_count": 205,
   "metadata": {},
   "outputs": [],
   "source": [
    "lead_df.to_csv('Lead_GBM_shubham_17.csv')"
   ]
  },
  {
   "cell_type": "code",
   "execution_count": null,
   "metadata": {},
   "outputs": [],
   "source": []
  }
 ],
 "metadata": {
  "kernelspec": {
   "display_name": "Python 3",
   "language": "python",
   "name": "python3"
  },
  "language_info": {
   "codemirror_mode": {
    "name": "ipython",
    "version": 3
   },
   "file_extension": ".py",
   "mimetype": "text/x-python",
   "name": "python",
   "nbconvert_exporter": "python",
   "pygments_lexer": "ipython3",
   "version": "3.6.4"
  }
 },
 "nbformat": 4,
 "nbformat_minor": 2
}
