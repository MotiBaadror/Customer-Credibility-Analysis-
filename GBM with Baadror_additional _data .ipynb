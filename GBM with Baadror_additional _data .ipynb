{
 "cells": [
  {
   "cell_type": "code",
   "execution_count": 1,
   "metadata": {},
   "outputs": [],
   "source": [
    "import pandas as pd \n",
    "import numpy as np\n",
    "import matplotlib.pyplot as plt\n",
    "%matplotlib inline \n",
    "pd.set_option('display.max_columns',None)"
   ]
  },
  {
   "cell_type": "code",
   "execution_count": 2,
   "metadata": {},
   "outputs": [],
   "source": [
    "train = pd.read_csv('Tra_add_NaN_final.csv')\n",
    "target = '35'\n",
    "IDcol = 'application_key'"
   ]
  },
  {
   "cell_type": "code",
   "execution_count": null,
   "metadata": {},
   "outputs": [],
   "source": []
  },
  {
   "cell_type": "code",
   "execution_count": null,
   "metadata": {},
   "outputs": [],
   "source": []
  },
  {
   "cell_type": "code",
   "execution_count": 6,
   "metadata": {},
   "outputs": [],
   "source": [
    "from sklearn.ensemble import GradientBoostingClassifier  #GBM algorithm\n",
    "from sklearn import cross_validation, metrics   #Additional scklearn functions\n",
    "from sklearn.grid_search import GridSearchCV   #Perforing grid search\n",
    "from matplotlib.pylab import rcParams\n",
    "rcParams['figure.figsize'] = 12, 4\n",
    "\n",
    "\n",
    "\n",
    "def modelfit(alg, dtrain, predictors, performCV=True, printFeatureImportance=True, cv_folds=5):\n",
    "    #Fit the algorithm on the data\n",
    "    alg.fit(dtrain[predictors], dtrain[target])\n",
    "        \n",
    "    #Predict training set:\n",
    "    dtrain_predictions = alg.predict(dtrain[predictors])\n",
    "    dtrain_predprob = alg.predict_proba(dtrain[predictors])[:,1]\n",
    "    \n",
    "    #Perform cross-validation:\n",
    "    if performCV:\n",
    "        cv_score = cross_validation.cross_val_score(alg, dtrain[predictors], dtrain[target], cv=cv_folds, scoring='roc_auc')\n",
    "    \n",
    "    #Print model report:\n",
    "    print(\"\\nModel Report\")\n",
    "    print(\"Accuracy : %.4g\" % metrics.accuracy_score(dtrain[target].values, dtrain_predictions))\n",
    "    print(\"AUC Score (Train): %f\" % metrics.roc_auc_score(dtrain[target], dtrain_predprob))\n",
    "    \n",
    "    if performCV:\n",
    "        print(\"CV Score : Mean - %.7g | Std - %.7g | Min - %.7g | Max - %.7g\" % (np.mean(cv_score),np.std(cv_score),np.min(cv_score),np.max(cv_score)))\n",
    "        \n",
    "    #Print Feature Importance:\n",
    "    if printFeatureImportance:\n",
    "        feat_imp = pd.Series(alg.feature_importances_, predictors).sort_values(ascending=False)\n",
    "        feat_imp.plot(kind='bar', title='Feature Importances')\n",
    "        plt.ylabel('Feature Importance Score')"
   ]
  },
  {
   "cell_type": "code",
   "execution_count": 7,
   "metadata": {},
   "outputs": [
    {
     "name": "stdout",
     "output_type": "stream",
     "text": [
      "\n",
      "Model Report\n",
      "Accuracy : 0.8208\n",
      "AUC Score (Train): 0.844927\n",
      "CV Score : Mean - 0.8364332 | Std - 0.006485179 | Min - 0.8259685 | Max - 0.8436405\n"
     ]
    },
    {
     "data": {
      "image/png": "[encoded data removed]",
      "text/plain": [
       "<matplotlib.figure.Figure at 0x2a61ee865c0>"
      ]
     },
     "metadata": {},
     "output_type": "display_data"
    }
   ],
   "source": [
    "predictors = [x for x in train.columns if x not in [target, IDcol]]\n",
    "gbm0 = GradientBoostingClassifier(random_state=10)\n",
    "modelfit(gbm0, train, predictors)"
   ]
  },
  {
   "cell_type": "code",
   "execution_count": 21,
   "metadata": {},
   "outputs": [
    {
     "data": {
      "text/plain": [
       "GridSearchCV(cv=5, error_score='raise',\n",
       "       estimator=GradientBoostingClassifier(criterion='friedman_mse', init=None,\n",
       "              learning_rate=0.1, loss='deviance', max_depth=8,\n",
       "              max_features='sqrt', max_leaf_nodes=None,\n",
       "              min_impurity_decrease=0.0, min_impurity_split=None,\n",
       "              min_samples_leaf=50, min_samples_split=500,\n",
       "              min_weight_fraction_leaf=0.0, n_estimators=100,\n",
       "              presort='auto', random_state=10, subsample=0.8, verbose=0,\n",
       "              warm_start=False),\n",
       "       fit_params={}, iid=False, n_jobs=4,\n",
       "       param_grid={'n_estimators': [80, 90, 100, 110, 120, 130, 140, 150, 160, 170]},\n",
       "       pre_dispatch='2*n_jobs', refit=True, scoring='roc_auc', verbose=0)"
      ]
     },
     "execution_count": 21,
     "metadata": {},
     "output_type": "execute_result"
    }
   ],
   "source": [
    "#Choose all predictors except target & IDcols\n",
    "predictors = [x for x in train.columns if x not in [target, IDcol]]\n",
    "param_test1 = {\"n_estimators\":[80,90,100,110,120,130,140,150,160,170]}\n",
    "gsearch1 = GridSearchCV(estimator = GradientBoostingClassifier(learning_rate=0.1, min_samples_split=500,min_samples_leaf=50,max_depth=8,max_features='sqrt',subsample=0.8,random_state=10), \n",
    "param_grid = param_test1, scoring='roc_auc',n_jobs=4,iid=False, cv=5)\n",
    "gsearch1.fit(train[predictors],train[target])"
   ]
  },
  {
   "cell_type": "code",
   "execution_count": 22,
   "metadata": {},
   "outputs": [
    {
     "data": {
      "text/plain": [
       "([mean: 0.83887, std: 0.00574, params: {'n_estimators': 80},\n",
       "  mean: 0.83907, std: 0.00569, params: {'n_estimators': 90},\n",
       "  mean: 0.83908, std: 0.00563, params: {'n_estimators': 100},\n",
       "  mean: 0.83907, std: 0.00566, params: {'n_estimators': 110},\n",
       "  mean: 0.83895, std: 0.00558, params: {'n_estimators': 120},\n",
       "  mean: 0.83878, std: 0.00549, params: {'n_estimators': 130},\n",
       "  mean: 0.83874, std: 0.00552, params: {'n_estimators': 140},\n",
       "  mean: 0.83862, std: 0.00562, params: {'n_estimators': 150},\n",
       "  mean: 0.83858, std: 0.00555, params: {'n_estimators': 160},\n",
       "  mean: 0.83839, std: 0.00550, params: {'n_estimators': 170}],\n",
       " {'n_estimators': 100},\n",
       " 0.8390778311753678)"
      ]
     },
     "execution_count": 22,
     "metadata": {},
     "output_type": "execute_result"
    }
   ],
   "source": [
    "gsearch1.grid_scores_, gsearch1.best_params_, gsearch1.best_score_"
   ]
  },
  {
   "cell_type": "code",
   "execution_count": 24,
   "metadata": {},
   "outputs": [
    {
     "data": {
      "text/plain": [
       "([mean: 0.83725, std: 0.00641, params: {'max_depth': 5, 'min_samples_split': 200},\n",
       "  mean: 0.83672, std: 0.00650, params: {'max_depth': 5, 'min_samples_split': 400},\n",
       "  mean: 0.83692, std: 0.00660, params: {'max_depth': 5, 'min_samples_split': 600},\n",
       "  mean: 0.83723, std: 0.00645, params: {'max_depth': 5, 'min_samples_split': 800},\n",
       "  mean: 0.83656, std: 0.00652, params: {'max_depth': 5, 'min_samples_split': 1000},\n",
       "  mean: 0.83712, std: 0.00646, params: {'max_depth': 5, 'min_samples_split': 1200},\n",
       "  mean: 0.83720, std: 0.00656, params: {'max_depth': 5, 'min_samples_split': 1400},\n",
       "  mean: 0.83740, std: 0.00630, params: {'max_depth': 5, 'min_samples_split': 1600},\n",
       "  mean: 0.83688, std: 0.00630, params: {'max_depth': 7, 'min_samples_split': 200},\n",
       "  mean: 0.83639, std: 0.00646, params: {'max_depth': 7, 'min_samples_split': 400},\n",
       "  mean: 0.83718, std: 0.00677, params: {'max_depth': 7, 'min_samples_split': 600},\n",
       "  mean: 0.83729, std: 0.00632, params: {'max_depth': 7, 'min_samples_split': 800},\n",
       "  mean: 0.83763, std: 0.00660, params: {'max_depth': 7, 'min_samples_split': 1000},\n",
       "  mean: 0.83723, std: 0.00656, params: {'max_depth': 7, 'min_samples_split': 1200},\n",
       "  mean: 0.83826, std: 0.00676, params: {'max_depth': 7, 'min_samples_split': 1400},\n",
       "  mean: 0.83758, std: 0.00645, params: {'max_depth': 7, 'min_samples_split': 1600},\n",
       "  mean: 0.83427, std: 0.00653, params: {'max_depth': 9, 'min_samples_split': 200},\n",
       "  mean: 0.83542, std: 0.00625, params: {'max_depth': 9, 'min_samples_split': 400},\n",
       "  mean: 0.83625, std: 0.00671, params: {'max_depth': 9, 'min_samples_split': 600},\n",
       "  mean: 0.83637, std: 0.00643, params: {'max_depth': 9, 'min_samples_split': 800},\n",
       "  mean: 0.83762, std: 0.00699, params: {'max_depth': 9, 'min_samples_split': 1000},\n",
       "  mean: 0.83696, std: 0.00659, params: {'max_depth': 9, 'min_samples_split': 1200},\n",
       "  mean: 0.83722, std: 0.00627, params: {'max_depth': 9, 'min_samples_split': 1400},\n",
       "  mean: 0.83675, std: 0.00697, params: {'max_depth': 9, 'min_samples_split': 1600},\n",
       "  mean: 0.83184, std: 0.00774, params: {'max_depth': 11, 'min_samples_split': 200},\n",
       "  mean: 0.83308, std: 0.00615, params: {'max_depth': 11, 'min_samples_split': 400},\n",
       "  mean: 0.83541, std: 0.00617, params: {'max_depth': 11, 'min_samples_split': 600},\n",
       "  mean: 0.83522, std: 0.00637, params: {'max_depth': 11, 'min_samples_split': 800},\n",
       "  mean: 0.83563, std: 0.00656, params: {'max_depth': 11, 'min_samples_split': 1000},\n",
       "  mean: 0.83619, std: 0.00623, params: {'max_depth': 11, 'min_samples_split': 1200},\n",
       "  mean: 0.83685, std: 0.00635, params: {'max_depth': 11, 'min_samples_split': 1400},\n",
       "  mean: 0.83694, std: 0.00588, params: {'max_depth': 11, 'min_samples_split': 1600},\n",
       "  mean: 0.83034, std: 0.00706, params: {'max_depth': 13, 'min_samples_split': 200},\n",
       "  mean: 0.83243, std: 0.00639, params: {'max_depth': 13, 'min_samples_split': 400},\n",
       "  mean: 0.83463, std: 0.00676, params: {'max_depth': 13, 'min_samples_split': 600},\n",
       "  mean: 0.83455, std: 0.00766, params: {'max_depth': 13, 'min_samples_split': 800},\n",
       "  mean: 0.83545, std: 0.00636, params: {'max_depth': 13, 'min_samples_split': 1000},\n",
       "  mean: 0.83654, std: 0.00580, params: {'max_depth': 13, 'min_samples_split': 1200},\n",
       "  mean: 0.83598, std: 0.00706, params: {'max_depth': 13, 'min_samples_split': 1400},\n",
       "  mean: 0.83654, std: 0.00689, params: {'max_depth': 13, 'min_samples_split': 1600},\n",
       "  mean: 0.82785, std: 0.00653, params: {'max_depth': 15, 'min_samples_split': 200},\n",
       "  mean: 0.83150, std: 0.00595, params: {'max_depth': 15, 'min_samples_split': 400},\n",
       "  mean: 0.83359, std: 0.00635, params: {'max_depth': 15, 'min_samples_split': 600},\n",
       "  mean: 0.83358, std: 0.00627, params: {'max_depth': 15, 'min_samples_split': 800},\n",
       "  mean: 0.83535, std: 0.00616, params: {'max_depth': 15, 'min_samples_split': 1000},\n",
       "  mean: 0.83565, std: 0.00599, params: {'max_depth': 15, 'min_samples_split': 1200},\n",
       "  mean: 0.83556, std: 0.00631, params: {'max_depth': 15, 'min_samples_split': 1400},\n",
       "  mean: 0.83633, std: 0.00623, params: {'max_depth': 15, 'min_samples_split': 1600},\n",
       "  mean: 0.82723, std: 0.00579, params: {'max_depth': 17, 'min_samples_split': 200},\n",
       "  mean: 0.82992, std: 0.00610, params: {'max_depth': 17, 'min_samples_split': 400},\n",
       "  mean: 0.83294, std: 0.00605, params: {'max_depth': 17, 'min_samples_split': 600},\n",
       "  mean: 0.83365, std: 0.00663, params: {'max_depth': 17, 'min_samples_split': 800},\n",
       "  mean: 0.83380, std: 0.00698, params: {'max_depth': 17, 'min_samples_split': 1000},\n",
       "  mean: 0.83501, std: 0.00604, params: {'max_depth': 17, 'min_samples_split': 1200},\n",
       "  mean: 0.83515, std: 0.00582, params: {'max_depth': 17, 'min_samples_split': 1400},\n",
       "  mean: 0.83618, std: 0.00652, params: {'max_depth': 17, 'min_samples_split': 1600},\n",
       "  mean: 0.82630, std: 0.00536, params: {'max_depth': 19, 'min_samples_split': 200},\n",
       "  mean: 0.83014, std: 0.00688, params: {'max_depth': 19, 'min_samples_split': 400},\n",
       "  mean: 0.83170, std: 0.00642, params: {'max_depth': 19, 'min_samples_split': 600},\n",
       "  mean: 0.83275, std: 0.00639, params: {'max_depth': 19, 'min_samples_split': 800},\n",
       "  mean: 0.83512, std: 0.00634, params: {'max_depth': 19, 'min_samples_split': 1000},\n",
       "  mean: 0.83423, std: 0.00611, params: {'max_depth': 19, 'min_samples_split': 1200},\n",
       "  mean: 0.83484, std: 0.00694, params: {'max_depth': 19, 'min_samples_split': 1400},\n",
       "  mean: 0.83507, std: 0.00676, params: {'max_depth': 19, 'min_samples_split': 1600}],\n",
       " {'max_depth': 7, 'min_samples_split': 1400},\n",
       " 0.8382614742757812)"
      ]
     },
     "execution_count": 24,
     "metadata": {},
     "output_type": "execute_result"
    }
   ],
   "source": [
    "param_test2 = {'max_depth':[5,7,9,11,13,15,17,19], 'min_samples_split':[200,400,600,800,1000,1200,1400,1600]}\n",
    "gsearch2 = GridSearchCV(estimator = GradientBoostingClassifier(learning_rate=0.15, n_estimators=60, max_features='sqrt', subsample=0.8, random_state=10), \n",
    "param_grid = param_test2, scoring='roc_auc',n_jobs=4,iid=False, cv=5)\n",
    "gsearch2.fit(train[predictors],train[target])\n",
    "gsearch2.grid_scores_, gsearch2.best_params_, gsearch2.best_score_"
   ]
  },
  {
   "cell_type": "markdown",
   "metadata": {},
   "source": [
    "# optimum ans : max_depth': 7, 'min_samples_split': 1400}, 0.8382614742757812"
   ]
  },
  {
   "cell_type": "code",
   "execution_count": 25,
   "metadata": {},
   "outputs": [
    {
     "data": {
      "text/plain": [
       "([mean: 0.83830, std: 0.00616, params: {'min_samples_leaf': 30, 'min_samples_split': 1000},\n",
       "  mean: 0.83862, std: 0.00600, params: {'min_samples_leaf': 30, 'min_samples_split': 1200},\n",
       "  mean: 0.83844, std: 0.00601, params: {'min_samples_leaf': 30, 'min_samples_split': 1400},\n",
       "  mean: 0.83795, std: 0.00607, params: {'min_samples_leaf': 30, 'min_samples_split': 1600},\n",
       "  mean: 0.83783, std: 0.00622, params: {'min_samples_leaf': 30, 'min_samples_split': 1800},\n",
       "  mean: 0.83832, std: 0.00590, params: {'min_samples_leaf': 30, 'min_samples_split': 2000},\n",
       "  mean: 0.83838, std: 0.00614, params: {'min_samples_leaf': 30, 'min_samples_split': 2200},\n",
       "  mean: 0.83819, std: 0.00612, params: {'min_samples_leaf': 30, 'min_samples_split': 2400},\n",
       "  mean: 0.83810, std: 0.00662, params: {'min_samples_leaf': 40, 'min_samples_split': 1000},\n",
       "  mean: 0.83827, std: 0.00648, params: {'min_samples_leaf': 40, 'min_samples_split': 1200},\n",
       "  mean: 0.83851, std: 0.00616, params: {'min_samples_leaf': 40, 'min_samples_split': 1400},\n",
       "  mean: 0.83795, std: 0.00598, params: {'min_samples_leaf': 40, 'min_samples_split': 1600},\n",
       "  mean: 0.83804, std: 0.00598, params: {'min_samples_leaf': 40, 'min_samples_split': 1800},\n",
       "  mean: 0.83844, std: 0.00621, params: {'min_samples_leaf': 40, 'min_samples_split': 2000},\n",
       "  mean: 0.83814, std: 0.00577, params: {'min_samples_leaf': 40, 'min_samples_split': 2200},\n",
       "  mean: 0.83816, std: 0.00591, params: {'min_samples_leaf': 40, 'min_samples_split': 2400},\n",
       "  mean: 0.83836, std: 0.00648, params: {'min_samples_leaf': 50, 'min_samples_split': 1000},\n",
       "  mean: 0.83839, std: 0.00590, params: {'min_samples_leaf': 50, 'min_samples_split': 1200},\n",
       "  mean: 0.83860, std: 0.00638, params: {'min_samples_leaf': 50, 'min_samples_split': 1400},\n",
       "  mean: 0.83792, std: 0.00615, params: {'min_samples_leaf': 50, 'min_samples_split': 1600},\n",
       "  mean: 0.83839, std: 0.00609, params: {'min_samples_leaf': 50, 'min_samples_split': 1800},\n",
       "  mean: 0.83849, std: 0.00601, params: {'min_samples_leaf': 50, 'min_samples_split': 2000},\n",
       "  mean: 0.83822, std: 0.00606, params: {'min_samples_leaf': 50, 'min_samples_split': 2200},\n",
       "  mean: 0.83777, std: 0.00616, params: {'min_samples_leaf': 50, 'min_samples_split': 2400},\n",
       "  mean: 0.83825, std: 0.00649, params: {'min_samples_leaf': 60, 'min_samples_split': 1000},\n",
       "  mean: 0.83837, std: 0.00628, params: {'min_samples_leaf': 60, 'min_samples_split': 1200},\n",
       "  mean: 0.83851, std: 0.00592, params: {'min_samples_leaf': 60, 'min_samples_split': 1400},\n",
       "  mean: 0.83793, std: 0.00626, params: {'min_samples_leaf': 60, 'min_samples_split': 1600},\n",
       "  mean: 0.83817, std: 0.00595, params: {'min_samples_leaf': 60, 'min_samples_split': 1800},\n",
       "  mean: 0.83827, std: 0.00614, params: {'min_samples_leaf': 60, 'min_samples_split': 2000},\n",
       "  mean: 0.83815, std: 0.00646, params: {'min_samples_leaf': 60, 'min_samples_split': 2200},\n",
       "  mean: 0.83801, std: 0.00604, params: {'min_samples_leaf': 60, 'min_samples_split': 2400},\n",
       "  mean: 0.83811, std: 0.00641, params: {'min_samples_leaf': 70, 'min_samples_split': 1000},\n",
       "  mean: 0.83857, std: 0.00587, params: {'min_samples_leaf': 70, 'min_samples_split': 1200},\n",
       "  mean: 0.83835, std: 0.00669, params: {'min_samples_leaf': 70, 'min_samples_split': 1400},\n",
       "  mean: 0.83852, std: 0.00617, params: {'min_samples_leaf': 70, 'min_samples_split': 1600},\n",
       "  mean: 0.83808, std: 0.00598, params: {'min_samples_leaf': 70, 'min_samples_split': 1800},\n",
       "  mean: 0.83832, std: 0.00623, params: {'min_samples_leaf': 70, 'min_samples_split': 2000},\n",
       "  mean: 0.83817, std: 0.00615, params: {'min_samples_leaf': 70, 'min_samples_split': 2200},\n",
       "  mean: 0.83831, std: 0.00609, params: {'min_samples_leaf': 70, 'min_samples_split': 2400},\n",
       "  mean: 0.83832, std: 0.00669, params: {'min_samples_leaf': 80, 'min_samples_split': 1000},\n",
       "  mean: 0.83863, std: 0.00617, params: {'min_samples_leaf': 80, 'min_samples_split': 1200},\n",
       "  mean: 0.83852, std: 0.00617, params: {'min_samples_leaf': 80, 'min_samples_split': 1400},\n",
       "  mean: 0.83850, std: 0.00598, params: {'min_samples_leaf': 80, 'min_samples_split': 1600},\n",
       "  mean: 0.83823, std: 0.00629, params: {'min_samples_leaf': 80, 'min_samples_split': 1800},\n",
       "  mean: 0.83836, std: 0.00613, params: {'min_samples_leaf': 80, 'min_samples_split': 2000},\n",
       "  mean: 0.83826, std: 0.00620, params: {'min_samples_leaf': 80, 'min_samples_split': 2200},\n",
       "  mean: 0.83795, std: 0.00632, params: {'min_samples_leaf': 80, 'min_samples_split': 2400}],\n",
       " {'min_samples_leaf': 80, 'min_samples_split': 1200},\n",
       " 0.8386305115960596)"
      ]
     },
     "execution_count": 25,
     "metadata": {},
     "output_type": "execute_result"
    }
   ],
   "source": [
    "param_test3 = {'min_samples_split':[1000,1200,1400,1600,1800,2000,2200,2400], 'min_samples_leaf':[30,40,50,60,70,80]}\n",
    "gsearch3 = GridSearchCV(estimator = GradientBoostingClassifier(learning_rate=0.1, n_estimators=60,max_depth=9,max_features='sqrt', subsample=0.8, random_state=10), \n",
    "param_grid = param_test3, scoring='roc_auc',n_jobs=4,iid=False, cv=5)\n",
    "gsearch3.fit(train[predictors],train[target])\n",
    "gsearch3.grid_scores_, gsearch3.best_params_, gsearch3.best_score_"
   ]
  },
  {
   "cell_type": "markdown",
   "metadata": {},
   "source": [
    "# {'min_samples_leaf': 80, 'min_samples_split': 1200},0.8386305115960596)"
   ]
  },
  {
   "cell_type": "code",
   "execution_count": 26,
   "metadata": {},
   "outputs": [
    {
     "name": "stdout",
     "output_type": "stream",
     "text": [
      "\n",
      "Model Report\n",
      "Accuracy : 0.8306\n",
      "AUC Score (Train): 0.861552\n",
      "CV Score : Mean - 0.8386305 | Std - 0.006171894 | Min - 0.828031 | Max - 0.8451674\n"
     ]
    },
    {
     "data": {
      "image/png": "[encoded data removed]",
      "text/plain": [
       "<matplotlib.figure.Figure at 0x2a6259654e0>"
      ]
     },
     "metadata": {},
     "output_type": "display_data"
    }
   ],
   "source": [
    "modelfit(gsearch3.best_estimator_, train, predictors)"
   ]
  },
  {
   "cell_type": "code",
   "execution_count": null,
   "metadata": {},
   "outputs": [],
   "source": []
  },
  {
   "cell_type": "code",
   "execution_count": 27,
   "metadata": {},
   "outputs": [
    {
     "data": {
      "text/plain": [
       "([mean: 0.83745, std: 0.00587, params: {'max_features': 7},\n",
       "  mean: 0.83638, std: 0.00615, params: {'max_features': 9},\n",
       "  mean: 0.83680, std: 0.00599, params: {'max_features': 11},\n",
       "  mean: 0.83596, std: 0.00642, params: {'max_features': 13},\n",
       "  mean: 0.83613, std: 0.00586, params: {'max_features': 15},\n",
       "  mean: 0.83614, std: 0.00559, params: {'max_features': 17},\n",
       "  mean: 0.83535, std: 0.00669, params: {'max_features': 19},\n",
       "  mean: 0.83576, std: 0.00573, params: {'max_features': 21},\n",
       "  mean: 0.83619, std: 0.00662, params: {'max_features': 23},\n",
       "  mean: 0.83582, std: 0.00676, params: {'max_features': 25}],\n",
       " {'max_features': 7},\n",
       " 0.8374472685241372)"
      ]
     },
     "execution_count": 27,
     "metadata": {},
     "output_type": "execute_result"
    }
   ],
   "source": [
    "param_test4 = {'max_features':[7,9,11,13,15,17,19,21,23,25]}\n",
    "gsearch4 = GridSearchCV(estimator = GradientBoostingClassifier(learning_rate=0.2, n_estimators=100,max_depth=7, min_samples_split=1200, min_samples_leaf=80, subsample=0.8, random_state=10),\n",
    "param_grid = param_test4, scoring='roc_auc',n_jobs=4,iid=False, cv=5)\n",
    "gsearch4.fit(train[predictors],train[target])\n",
    "gsearch4.grid_scores_, gsearch4.best_params_, gsearch4.best_score_"
   ]
  },
  {
   "cell_type": "markdown",
   "metadata": {},
   "source": [
    "# max_number of feature 7"
   ]
  },
  {
   "cell_type": "code",
   "execution_count": 28,
   "metadata": {},
   "outputs": [
    {
     "name": "stdout",
     "output_type": "stream",
     "text": [
      "\n",
      "Model Report\n",
      "Accuracy : 0.8386\n",
      "AUC Score (Train): 0.871707\n",
      "CV Score : Mean - 0.8374473 | Std - 0.005872923 | Min - 0.8275307 | Max - 0.8443453\n"
     ]
    },
    {
     "data": {
      "image/png": "[encoded data removed]",
      "text/plain": [
       "<matplotlib.figure.Figure at 0x2a625724320>"
      ]
     },
     "metadata": {},
     "output_type": "display_data"
    }
   ],
   "source": [
    "modelfit(gsearch4.best_estimator_, train, predictors)"
   ]
  },
  {
   "cell_type": "markdown",
   "metadata": {},
   "source": [
    "# 0 , 1, 4 , 31 , 12 , 30 , 9  :  7 impo feature "
   ]
  },
  {
   "cell_type": "code",
   "execution_count": 30,
   "metadata": {},
   "outputs": [
    {
     "data": {
      "text/plain": [
       "([mean: 0.83736, std: 0.00648, params: {'subsample': 0.5},\n",
       "  mean: 0.83719, std: 0.00601, params: {'subsample': 0.6},\n",
       "  mean: 0.83755, std: 0.00685, params: {'subsample': 0.7},\n",
       "  mean: 0.83808, std: 0.00656, params: {'subsample': 0.75},\n",
       "  mean: 0.83801, std: 0.00590, params: {'subsample': 0.8},\n",
       "  mean: 0.83750, std: 0.00674, params: {'subsample': 0.85},\n",
       "  mean: 0.83806, std: 0.00597, params: {'subsample': 0.9}],\n",
       " {'subsample': 0.75},\n",
       " 0.838080050832037)"
      ]
     },
     "execution_count": 30,
     "metadata": {},
     "output_type": "execute_result"
    }
   ],
   "source": [
    "param_test5 = {'subsample':[0.5,0.6,0.7,0.75,0.8,0.85,0.9]}\n",
    "gsearch5 = GridSearchCV(estimator = GradientBoostingClassifier(learning_rate=0.15, n_estimators=100,max_depth=7,min_samples_split=1200, min_samples_leaf=80, subsample=0.8, random_state=10,max_features=7),\n",
    "param_grid = param_test5, scoring='roc_auc',n_jobs=4,iid=False, cv=5)\n",
    "gsearch5.fit(train[predictors],train[target])\n",
    "gsearch5.grid_scores_, gsearch5.best_params_, gsearch5.best_score_"
   ]
  },
  {
   "cell_type": "markdown",
   "metadata": {},
   "source": [
    "# best sample value=.75"
   ]
  },
  {
   "cell_type": "markdown",
   "metadata": {},
   "source": [
    "# increse n_estimation 180 and learning_rate .05"
   ]
  },
  {
   "cell_type": "code",
   "execution_count": 31,
   "metadata": {},
   "outputs": [
    {
     "name": "stdout",
     "output_type": "stream",
     "text": [
      "\n",
      "Model Report\n",
      "Accuracy : 0.8307\n",
      "AUC Score (Train): 0.861305\n",
      "CV Score : Mean - 0.8401922 | Std - 0.006268757 | Min - 0.8296566 | Max - 0.8469826\n"
     ]
    },
    {
     "data": {
      "image/png": "[encoded data removed]",
      "text/plain": [
       "<matplotlib.figure.Figure at 0x2a625713a58>"
      ]
     },
     "metadata": {},
     "output_type": "display_data"
    }
   ],
   "source": [
    "predictors = [x for x in train.columns if x not in [target, IDcol]]\n",
    "gbm_tuned_1 = GradientBoostingClassifier(learning_rate=0.05, n_estimators=180,max_depth=7, min_samples_split=1200,min_samples_leaf=80, subsample=0.75, random_state=10, max_features=7)\n",
    "modelfit(gbm_tuned_1, train, predictors)"
   ]
  },
  {
   "cell_type": "markdown",
   "metadata": {},
   "source": [
    "# trees  600 and learning rate .01"
   ]
  },
  {
   "cell_type": "code",
   "execution_count": 32,
   "metadata": {},
   "outputs": [
    {
     "name": "stdout",
     "output_type": "stream",
     "text": [
      "\n",
      "Model Report\n",
      "Accuracy : 0.8279\n",
      "AUC Score (Train): 0.856739\n",
      "CV Score : Mean - 0.8399007 | Std - 0.006402011 | Min - 0.8291088 | Max - 0.8466677\n"
     ]
    },
    {
     "data": {
      "image/png": "[encoded data removed]",
      "text/plain": [
       "<matplotlib.figure.Figure at 0x2a62576fd30>"
      ]
     },
     "metadata": {},
     "output_type": "display_data"
    }
   ],
   "source": [
    "predictors = [x for x in train.columns if x not in [target, IDcol]]\n",
    "gbm_tuned_2 = GradientBoostingClassifier(learning_rate=0.01, n_estimators=600,max_depth=7, min_samples_split=1200,min_samples_leaf=80, subsample=0.75, random_state=10, max_features=7)\n",
    "modelfit(gbm_tuned_2, train, predictors)"
   ]
  },
  {
   "cell_type": "markdown",
   "metadata": {},
   "source": [
    "# 0.005 for 1200 trees."
   ]
  },
  {
   "cell_type": "code",
   "execution_count": 33,
   "metadata": {},
   "outputs": [
    {
     "name": "stdout",
     "output_type": "stream",
     "text": [
      "\n",
      "Model Report\n",
      "Accuracy : 0.8278\n",
      "AUC Score (Train): 0.856728\n"
     ]
    },
    {
     "data": {
      "image/png": "[encoded data removed]",
      "text/plain": [
       "<matplotlib.figure.Figure at 0x2a625c2e390>"
      ]
     },
     "metadata": {},
     "output_type": "display_data"
    }
   ],
   "source": [
    "predictors = [x for x in train.columns if x not in [target, IDcol]]\n",
    "gbm_tuned_3 = GradientBoostingClassifier(learning_rate=0.005, n_estimators=1200,max_depth=7, min_samples_split=1200, min_samples_leaf=80, subsample=0.75, random_state=10, max_features=7,\n",
    "warm_start=True)\n",
    "modelfit(gbm_tuned_3, train, predictors, performCV=False)"
   ]
  },
  {
   "cell_type": "markdown",
   "metadata": {},
   "source": [
    "# try  n_estimates 1500"
   ]
  },
  {
   "cell_type": "code",
   "execution_count": 34,
   "metadata": {},
   "outputs": [
    {
     "name": "stdout",
     "output_type": "stream",
     "text": [
      "\n",
      "Model Report\n",
      "Accuracy : 0.8301\n",
      "AUC Score (Train): 0.859497\n"
     ]
    },
    {
     "data": {
      "image/png": "[encoded data removed]",
      "text/plain": [
       "<matplotlib.figure.Figure at 0x2a62590e668>"
      ]
     },
     "metadata": {},
     "output_type": "display_data"
    }
   ],
   "source": [
    "predictors = [x for x in train.columns if x not in [target, IDcol]]\n",
    "gbm_tuned_3 = GradientBoostingClassifier(learning_rate=0.005, n_estimators=1500,max_depth=7, min_samples_split=1200, min_samples_leaf=80, subsample=0.75, random_state=10, max_features=7,\n",
    "warm_start=True)\n",
    "modelfit(gbm_tuned_3, train, predictors, performCV=False)"
   ]
  },
  {
   "cell_type": "code",
   "execution_count": null,
   "metadata": {},
   "outputs": [],
   "source": [
    "predictors = [x for x in train.columns if x not in [target, IDcol]]\n",
    "gbm_tuned_3 = GradientBoostingClassifier(learning_rate=0.005, n_estimators=1500,max_depth=7, min_samples_split=1200, min_samples_leaf=80, subsample=0.75, random_state=10, max_features=7,\n",
    "warm_start=True)"
   ]
  },
  {
   "cell_type": "code",
   "execution_count": null,
   "metadata": {},
   "outputs": [],
   "source": [
    "np.random.randint"
   ]
  }
 ],
 "metadata": {
  "kernelspec": {
   "display_name": "Python 3",
   "language": "python",
   "name": "python3"
  },
  "language_info": {
   "codemirror_mode": {
    "name": "ipython",
    "version": 3
   },
   "file_extension": ".py",
   "mimetype": "text/x-python",
   "name": "python",
   "nbconvert_exporter": "python",
   "pygments_lexer": "ipython3",
   "version": "3.6.4"
  }
 },
 "nbformat": 4,
 "nbformat_minor": 2
}
