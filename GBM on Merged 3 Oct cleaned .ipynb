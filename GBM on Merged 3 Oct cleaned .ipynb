{
 "cells": [
  {
   "cell_type": "code",
   "execution_count": 1,
   "metadata": {},
   "outputs": [],
   "source": [
    "import pandas as pd \n",
    "import numpy as np\n",
    "import matplotlib.pyplot as plt\n",
    "%matplotlib inline \n",
    "pd.set_option('display.max_columns',None)"
   ]
  },
  {
   "cell_type": "code",
   "execution_count": 2,
   "metadata": {},
   "outputs": [],
   "source": [
    "train = pd.read_csv('Training_cleaned_merge3oct.csv')\n",
    "target = '47'\n",
    "IDcol = 'application_key'\n",
    "# train.head()"
   ]
  },
  {
   "cell_type": "code",
   "execution_count": 3,
   "metadata": {},
   "outputs": [
    {
     "name": "stderr",
     "output_type": "stream",
     "text": [
      "C:\\Users\\BaadRoR\\Anaconda3\\lib\\site-packages\\sklearn\\cross_validation.py:41: DeprecationWarning: This module was deprecated in version 0.18 in favor of the model_selection module into which all the refactored classes and functions are moved. Also note that the interface of the new CV iterators are different from that of this module. This module will be removed in 0.20.\n",
      "  \"This module will be removed in 0.20.\", DeprecationWarning)\n",
      "C:\\Users\\BaadRoR\\Anaconda3\\lib\\site-packages\\sklearn\\grid_search.py:42: DeprecationWarning: This module was deprecated in version 0.18 in favor of the model_selection module into which all the refactored classes and functions are moved. This module will be removed in 0.20.\n",
      "  DeprecationWarning)\n"
     ]
    }
   ],
   "source": [
    "from sklearn.ensemble import GradientBoostingClassifier  #GBM algorithm\n",
    "from sklearn import cross_validation, metrics   #Additional scklearn functions\n",
    "from sklearn.grid_search import GridSearchCV   #Perforing grid search\n",
    "from matplotlib.pylab import rcParams\n",
    "rcParams['figure.figsize'] = 12, 4\n",
    "\n",
    "\n",
    "\n",
    "def modelfit(alg, dtrain, predictors, performCV=True, printFeatureImportance=True, cv_folds=5):\n",
    "    #Fit the algorithm on the data\n",
    "    alg.fit(dtrain[predictors], dtrain[target])\n",
    "        \n",
    "    #Predict training set:\n",
    "    dtrain_predictions = alg.predict(dtrain[predictors])\n",
    "    dtrain_predprob = alg.predict_proba(dtrain[predictors])[:,1]\n",
    "    \n",
    "    #Perform cross-validation:\n",
    "    if performCV:\n",
    "        cv_score = cross_validation.cross_val_score(alg, dtrain[predictors], dtrain[target], cv=cv_folds, scoring='roc_auc')\n",
    "    \n",
    "    #Print model report:\n",
    "    print(\"\\nModel Report\")\n",
    "    print(\"Accuracy : %.4g\" % metrics.accuracy_score(dtrain[target].values, dtrain_predictions))\n",
    "    print(\"AUC Score (Train): %f\" % metrics.roc_auc_score(dtrain[target], dtrain_predprob))\n",
    "    \n",
    "    if performCV:\n",
    "        print(\"CV Score : Mean - %.7g | Std - %.7g | Min - %.7g | Max - %.7g\" % (np.mean(cv_score),np.std(cv_score),np.min(cv_score),np.max(cv_score)))\n",
    "        \n",
    "    #Print Feature Importance:\n",
    "    if printFeatureImportance:\n",
    "        feat_imp = pd.Series(alg.feature_importances_, predictors).sort_values(ascending=False)\n",
    "        feat_imp.plot(kind='bar', title='Feature Importances')\n",
    "        plt.ylabel('Feature Importance Score')"
   ]
  },
  {
   "cell_type": "code",
   "execution_count": 4,
   "metadata": {},
   "outputs": [],
   "source": [
    "predictors = [x for x in train.columns if x not in [target, IDcol]]\n",
    "# gbm0 = GradientBoostingClassifier(random_state=10)\n",
    "# modelfit(gbm0, train, predictors)"
   ]
  },
  {
   "cell_type": "markdown",
   "metadata": {},
   "source": [
    "# n_estimators 80"
   ]
  },
  {
   "cell_type": "code",
   "execution_count": 6,
   "metadata": {},
   "outputs": [
    {
     "data": {
      "text/plain": [
       "GridSearchCV(cv=5, error_score='raise',\n",
       "       estimator=GradientBoostingClassifier(criterion='friedman_mse', init=None,\n",
       "              learning_rate=0.2, loss='deviance', max_depth=8,\n",
       "              max_features='sqrt', max_leaf_nodes=None,\n",
       "              min_impurity_decrease=0.0, min_impurity_split=None,\n",
       "              min_samples_leaf=50, min_samples_split=500,\n",
       "              min_weight_fraction_leaf=0.0, n_estimators=100,\n",
       "              presort='auto', random_state=10, subsample=0.8, verbose=0,\n",
       "              warm_start=False),\n",
       "       fit_params={}, iid=False, n_jobs=4,\n",
       "       param_grid={'n_estimators': [80, 90, 100, 110, 120, 130, 140, 150, 160, 170]},\n",
       "       pre_dispatch='2*n_jobs', refit=True, scoring='roc_auc', verbose=0)"
      ]
     },
     "execution_count": 6,
     "metadata": {},
     "output_type": "execute_result"
    }
   ],
   "source": [
    "#Choose all predictors except target & IDcols\n",
    "predictors = [x for x in train.columns if x not in [target, IDcol]]\n",
    "param_test1 = {\"n_estimators\":[80,90,100,110,120,130,140,150,160,170]}\n",
    "gsearch1 = GridSearchCV(estimator = GradientBoostingClassifier(learning_rate=0.2, min_samples_split=500,min_samples_leaf=50,max_depth=8,max_features='sqrt',subsample=0.8,random_state=10), \n",
    "param_grid = param_test1, scoring='roc_auc',n_jobs=4,iid=False, cv=5)\n",
    "gsearch1.fit(train[predictors],train[target])"
   ]
  },
  {
   "cell_type": "code",
   "execution_count": 7,
   "metadata": {},
   "outputs": [
    {
     "data": {
      "text/plain": [
       "([mean: 0.83525, std: 0.00705, params: {'n_estimators': 80},\n",
       "  mean: 0.83505, std: 0.00697, params: {'n_estimators': 90},\n",
       "  mean: 0.83476, std: 0.00679, params: {'n_estimators': 100},\n",
       "  mean: 0.83427, std: 0.00690, params: {'n_estimators': 110},\n",
       "  mean: 0.83385, std: 0.00685, params: {'n_estimators': 120},\n",
       "  mean: 0.83338, std: 0.00691, params: {'n_estimators': 130},\n",
       "  mean: 0.83298, std: 0.00681, params: {'n_estimators': 140},\n",
       "  mean: 0.83255, std: 0.00686, params: {'n_estimators': 150},\n",
       "  mean: 0.83236, std: 0.00712, params: {'n_estimators': 160},\n",
       "  mean: 0.83217, std: 0.00707, params: {'n_estimators': 170}],\n",
       " {'n_estimators': 80},\n",
       " 0.8352548731869872)"
      ]
     },
     "execution_count": 7,
     "metadata": {},
     "output_type": "execute_result"
    }
   ],
   "source": [
    "gsearch1.grid_scores_, gsearch1.best_params_, gsearch1.best_score_"
   ]
  },
  {
   "cell_type": "markdown",
   "metadata": {},
   "source": [
    "# max _depth 5"
   ]
  },
  {
   "cell_type": "code",
   "execution_count": 5,
   "metadata": {},
   "outputs": [
    {
     "data": {
      "text/plain": [
       "([mean: 0.83679, std: 0.00660, params: {'max_depth': 5, 'min_samples_split': 600},\n",
       "  mean: 0.83743, std: 0.00683, params: {'max_depth': 5, 'min_samples_split': 800},\n",
       "  mean: 0.83663, std: 0.00664, params: {'max_depth': 5, 'min_samples_split': 1000},\n",
       "  mean: 0.83711, std: 0.00676, params: {'max_depth': 5, 'min_samples_split': 1200},\n",
       "  mean: 0.83677, std: 0.00734, params: {'max_depth': 5, 'min_samples_split': 1400},\n",
       "  mean: 0.83682, std: 0.00698, params: {'max_depth': 5, 'min_samples_split': 1600},\n",
       "  mean: 0.83537, std: 0.00713, params: {'max_depth': 7, 'min_samples_split': 600},\n",
       "  mean: 0.83564, std: 0.00762, params: {'max_depth': 7, 'min_samples_split': 800},\n",
       "  mean: 0.83615, std: 0.00697, params: {'max_depth': 7, 'min_samples_split': 1000},\n",
       "  mean: 0.83610, std: 0.00664, params: {'max_depth': 7, 'min_samples_split': 1200},\n",
       "  mean: 0.83682, std: 0.00675, params: {'max_depth': 7, 'min_samples_split': 1400},\n",
       "  mean: 0.83642, std: 0.00694, params: {'max_depth': 7, 'min_samples_split': 1600},\n",
       "  mean: 0.83364, std: 0.00663, params: {'max_depth': 9, 'min_samples_split': 600},\n",
       "  mean: 0.83363, std: 0.00645, params: {'max_depth': 9, 'min_samples_split': 800},\n",
       "  mean: 0.83474, std: 0.00700, params: {'max_depth': 9, 'min_samples_split': 1000},\n",
       "  mean: 0.83531, std: 0.00664, params: {'max_depth': 9, 'min_samples_split': 1200},\n",
       "  mean: 0.83535, std: 0.00693, params: {'max_depth': 9, 'min_samples_split': 1400},\n",
       "  mean: 0.83595, std: 0.00739, params: {'max_depth': 9, 'min_samples_split': 1600},\n",
       "  mean: 0.83088, std: 0.00795, params: {'max_depth': 11, 'min_samples_split': 600},\n",
       "  mean: 0.83279, std: 0.00746, params: {'max_depth': 11, 'min_samples_split': 800},\n",
       "  mean: 0.83374, std: 0.00738, params: {'max_depth': 11, 'min_samples_split': 1000},\n",
       "  mean: 0.83419, std: 0.00643, params: {'max_depth': 11, 'min_samples_split': 1200},\n",
       "  mean: 0.83430, std: 0.00692, params: {'max_depth': 11, 'min_samples_split': 1400},\n",
       "  mean: 0.83517, std: 0.00732, params: {'max_depth': 11, 'min_samples_split': 1600},\n",
       "  mean: 0.82975, std: 0.00653, params: {'max_depth': 13, 'min_samples_split': 600},\n",
       "  mean: 0.83062, std: 0.00828, params: {'max_depth': 13, 'min_samples_split': 800},\n",
       "  mean: 0.83235, std: 0.00627, params: {'max_depth': 13, 'min_samples_split': 1000},\n",
       "  mean: 0.83348, std: 0.00727, params: {'max_depth': 13, 'min_samples_split': 1200},\n",
       "  mean: 0.83397, std: 0.00720, params: {'max_depth': 13, 'min_samples_split': 1400},\n",
       "  mean: 0.83383, std: 0.00757, params: {'max_depth': 13, 'min_samples_split': 1600},\n",
       "  mean: 0.82726, std: 0.00711, params: {'max_depth': 15, 'min_samples_split': 600},\n",
       "  mean: 0.83010, std: 0.00705, params: {'max_depth': 15, 'min_samples_split': 800},\n",
       "  mean: 0.83016, std: 0.00689, params: {'max_depth': 15, 'min_samples_split': 1000},\n",
       "  mean: 0.83159, std: 0.00714, params: {'max_depth': 15, 'min_samples_split': 1200},\n",
       "  mean: 0.83260, std: 0.00701, params: {'max_depth': 15, 'min_samples_split': 1400},\n",
       "  mean: 0.83278, std: 0.00681, params: {'max_depth': 15, 'min_samples_split': 1600},\n",
       "  mean: 0.82627, std: 0.00828, params: {'max_depth': 17, 'min_samples_split': 600},\n",
       "  mean: 0.82870, std: 0.00707, params: {'max_depth': 17, 'min_samples_split': 800},\n",
       "  mean: 0.83011, std: 0.00660, params: {'max_depth': 17, 'min_samples_split': 1000},\n",
       "  mean: 0.83013, std: 0.00789, params: {'max_depth': 17, 'min_samples_split': 1200},\n",
       "  mean: 0.83149, std: 0.00681, params: {'max_depth': 17, 'min_samples_split': 1400},\n",
       "  mean: 0.83203, std: 0.00718, params: {'max_depth': 17, 'min_samples_split': 1600},\n",
       "  mean: 0.82482, std: 0.00749, params: {'max_depth': 19, 'min_samples_split': 600},\n",
       "  mean: 0.82774, std: 0.00705, params: {'max_depth': 19, 'min_samples_split': 800},\n",
       "  mean: 0.82845, std: 0.00685, params: {'max_depth': 19, 'min_samples_split': 1000},\n",
       "  mean: 0.82919, std: 0.00741, params: {'max_depth': 19, 'min_samples_split': 1200},\n",
       "  mean: 0.83057, std: 0.00708, params: {'max_depth': 19, 'min_samples_split': 1400},\n",
       "  mean: 0.83127, std: 0.00764, params: {'max_depth': 19, 'min_samples_split': 1600}],\n",
       " {'max_depth': 5, 'min_samples_split': 800},\n",
       " 0.8374310399431115)"
      ]
     },
     "execution_count": 5,
     "metadata": {},
     "output_type": "execute_result"
    }
   ],
   "source": [
    "param_test2 = {'max_depth':[5,7,9,11,13,15,17,19], 'min_samples_split':[600,800,1000,1200,1400,1600]}\n",
    "gsearch2 = GridSearchCV(estimator = GradientBoostingClassifier(learning_rate=0.2, n_estimators=80, max_features='sqrt', subsample=0.8, random_state=10), \n",
    "param_grid = param_test2, scoring='roc_auc',n_jobs=4,iid=False, cv=5)\n",
    "gsearch2.fit(train[predictors],train[target])\n",
    "gsearch2.grid_scores_, gsearch2.best_params_, gsearch2.best_score_"
   ]
  },
  {
   "cell_type": "markdown",
   "metadata": {},
   "source": [
    "# min_samples_leaf': 70, 'min_samples_split': 1200"
   ]
  },
  {
   "cell_type": "code",
   "execution_count": 9,
   "metadata": {},
   "outputs": [
    {
     "data": {
      "text/plain": [
       "([mean: 0.83739, std: 0.00699, params: {'min_samples_leaf': 30, 'min_samples_split': 1000},\n",
       "  mean: 0.83713, std: 0.00723, params: {'min_samples_leaf': 30, 'min_samples_split': 1200},\n",
       "  mean: 0.83728, std: 0.00717, params: {'min_samples_leaf': 30, 'min_samples_split': 1400},\n",
       "  mean: 0.83737, std: 0.00713, params: {'min_samples_leaf': 30, 'min_samples_split': 1600},\n",
       "  mean: 0.83702, std: 0.00714, params: {'min_samples_leaf': 30, 'min_samples_split': 1800},\n",
       "  mean: 0.83705, std: 0.00734, params: {'min_samples_leaf': 30, 'min_samples_split': 2000},\n",
       "  mean: 0.83693, std: 0.00727, params: {'min_samples_leaf': 30, 'min_samples_split': 2200},\n",
       "  mean: 0.83679, std: 0.00709, params: {'min_samples_leaf': 30, 'min_samples_split': 2400},\n",
       "  mean: 0.83759, std: 0.00705, params: {'min_samples_leaf': 40, 'min_samples_split': 1000},\n",
       "  mean: 0.83725, std: 0.00715, params: {'min_samples_leaf': 40, 'min_samples_split': 1200},\n",
       "  mean: 0.83728, std: 0.00724, params: {'min_samples_leaf': 40, 'min_samples_split': 1400},\n",
       "  mean: 0.83726, std: 0.00704, params: {'min_samples_leaf': 40, 'min_samples_split': 1600},\n",
       "  mean: 0.83711, std: 0.00733, params: {'min_samples_leaf': 40, 'min_samples_split': 1800},\n",
       "  mean: 0.83724, std: 0.00729, params: {'min_samples_leaf': 40, 'min_samples_split': 2000},\n",
       "  mean: 0.83702, std: 0.00708, params: {'min_samples_leaf': 40, 'min_samples_split': 2200},\n",
       "  mean: 0.83687, std: 0.00722, params: {'min_samples_leaf': 40, 'min_samples_split': 2400},\n",
       "  mean: 0.83731, std: 0.00705, params: {'min_samples_leaf': 50, 'min_samples_split': 1000},\n",
       "  mean: 0.83751, std: 0.00717, params: {'min_samples_leaf': 50, 'min_samples_split': 1200},\n",
       "  mean: 0.83724, std: 0.00741, params: {'min_samples_leaf': 50, 'min_samples_split': 1400},\n",
       "  mean: 0.83741, std: 0.00704, params: {'min_samples_leaf': 50, 'min_samples_split': 1600},\n",
       "  mean: 0.83706, std: 0.00729, params: {'min_samples_leaf': 50, 'min_samples_split': 1800},\n",
       "  mean: 0.83717, std: 0.00724, params: {'min_samples_leaf': 50, 'min_samples_split': 2000},\n",
       "  mean: 0.83709, std: 0.00719, params: {'min_samples_leaf': 50, 'min_samples_split': 2200},\n",
       "  mean: 0.83684, std: 0.00723, params: {'min_samples_leaf': 50, 'min_samples_split': 2400},\n",
       "  mean: 0.83748, std: 0.00708, params: {'min_samples_leaf': 60, 'min_samples_split': 1000},\n",
       "  mean: 0.83755, std: 0.00710, params: {'min_samples_leaf': 60, 'min_samples_split': 1200},\n",
       "  mean: 0.83733, std: 0.00721, params: {'min_samples_leaf': 60, 'min_samples_split': 1400},\n",
       "  mean: 0.83749, std: 0.00716, params: {'min_samples_leaf': 60, 'min_samples_split': 1600},\n",
       "  mean: 0.83712, std: 0.00741, params: {'min_samples_leaf': 60, 'min_samples_split': 1800},\n",
       "  mean: 0.83718, std: 0.00728, params: {'min_samples_leaf': 60, 'min_samples_split': 2000},\n",
       "  mean: 0.83691, std: 0.00719, params: {'min_samples_leaf': 60, 'min_samples_split': 2200},\n",
       "  mean: 0.83702, std: 0.00721, params: {'min_samples_leaf': 60, 'min_samples_split': 2400},\n",
       "  mean: 0.83756, std: 0.00736, params: {'min_samples_leaf': 70, 'min_samples_split': 1000},\n",
       "  mean: 0.83766, std: 0.00707, params: {'min_samples_leaf': 70, 'min_samples_split': 1200},\n",
       "  mean: 0.83739, std: 0.00739, params: {'min_samples_leaf': 70, 'min_samples_split': 1400},\n",
       "  mean: 0.83759, std: 0.00722, params: {'min_samples_leaf': 70, 'min_samples_split': 1600},\n",
       "  mean: 0.83708, std: 0.00743, params: {'min_samples_leaf': 70, 'min_samples_split': 1800},\n",
       "  mean: 0.83701, std: 0.00722, params: {'min_samples_leaf': 70, 'min_samples_split': 2000},\n",
       "  mean: 0.83683, std: 0.00744, params: {'min_samples_leaf': 70, 'min_samples_split': 2200},\n",
       "  mean: 0.83695, std: 0.00719, params: {'min_samples_leaf': 70, 'min_samples_split': 2400},\n",
       "  mean: 0.83745, std: 0.00714, params: {'min_samples_leaf': 80, 'min_samples_split': 1000},\n",
       "  mean: 0.83744, std: 0.00709, params: {'min_samples_leaf': 80, 'min_samples_split': 1200},\n",
       "  mean: 0.83730, std: 0.00726, params: {'min_samples_leaf': 80, 'min_samples_split': 1400},\n",
       "  mean: 0.83752, std: 0.00701, params: {'min_samples_leaf': 80, 'min_samples_split': 1600},\n",
       "  mean: 0.83699, std: 0.00743, params: {'min_samples_leaf': 80, 'min_samples_split': 1800},\n",
       "  mean: 0.83712, std: 0.00735, params: {'min_samples_leaf': 80, 'min_samples_split': 2000},\n",
       "  mean: 0.83697, std: 0.00759, params: {'min_samples_leaf': 80, 'min_samples_split': 2200},\n",
       "  mean: 0.83712, std: 0.00706, params: {'min_samples_leaf': 80, 'min_samples_split': 2400}],\n",
       " {'min_samples_leaf': 70, 'min_samples_split': 1200},\n",
       " 0.837663371194382)"
      ]
     },
     "execution_count": 9,
     "metadata": {},
     "output_type": "execute_result"
    }
   ],
   "source": [
    "param_test3 = {'min_samples_split':[1000,1200,1400,1600,1800,2000,2200,2400], 'min_samples_leaf':[30,40,50,60,70,80]}\n",
    "gsearch3 = GridSearchCV(estimator = GradientBoostingClassifier(learning_rate=0.1, n_estimators=80,max_depth=5,max_features='sqrt', subsample=0.8, random_state=10), \n",
    "param_grid = param_test3, scoring='roc_auc',n_jobs=4,iid=False, cv=5)\n",
    "gsearch3.fit(train[predictors],train[target])\n",
    "gsearch3.grid_scores_, gsearch3.best_params_, gsearch3.best_score_"
   ]
  },
  {
   "cell_type": "markdown",
   "metadata": {},
   "source": [
    "# max_features': 13"
   ]
  },
  {
   "cell_type": "code",
   "execution_count": 10,
   "metadata": {},
   "outputs": [
    {
     "data": {
      "text/plain": [
       "([mean: 0.83685, std: 0.00768, params: {'max_features': 7},\n",
       "  mean: 0.83726, std: 0.00742, params: {'max_features': 9},\n",
       "  mean: 0.83736, std: 0.00726, params: {'max_features': 11},\n",
       "  mean: 0.83781, std: 0.00707, params: {'max_features': 13},\n",
       "  mean: 0.83742, std: 0.00721, params: {'max_features': 15},\n",
       "  mean: 0.83766, std: 0.00701, params: {'max_features': 17},\n",
       "  mean: 0.83699, std: 0.00748, params: {'max_features': 19},\n",
       "  mean: 0.83731, std: 0.00742, params: {'max_features': 21},\n",
       "  mean: 0.83720, std: 0.00745, params: {'max_features': 23},\n",
       "  mean: 0.83738, std: 0.00770, params: {'max_features': 25}],\n",
       " {'max_features': 13},\n",
       " 0.83780867712534)"
      ]
     },
     "execution_count": 10,
     "metadata": {},
     "output_type": "execute_result"
    }
   ],
   "source": [
    "param_test4 = {'max_features':[7,9,11,13,15,17,19,21,23,25]}\n",
    "gsearch4 = GridSearchCV(estimator = GradientBoostingClassifier(learning_rate=0.2, n_estimators=80,max_depth=5, min_samples_split=1200, min_samples_leaf=70, subsample=0.8, random_state=10),\n",
    "param_grid = param_test4, scoring='roc_auc',n_jobs=4,iid=False, cv=5)\n",
    "gsearch4.fit(train[predictors],train[target])\n",
    "gsearch4.grid_scores_, gsearch4.best_params_, gsearch4.best_score_"
   ]
  },
  {
   "cell_type": "markdown",
   "metadata": {},
   "source": [
    "# subsample 0.6"
   ]
  },
  {
   "cell_type": "code",
   "execution_count": 15,
   "metadata": {},
   "outputs": [
    {
     "data": {
      "text/plain": [
       "([mean: 0.83739, std: 0.00689, params: {'subsample': 0.5},\n",
       "  mean: 0.83808, std: 0.00704, params: {'subsample': 0.6},\n",
       "  mean: 0.83794, std: 0.00717, params: {'subsample': 0.7},\n",
       "  mean: 0.83804, std: 0.00719, params: {'subsample': 0.75},\n",
       "  mean: 0.83784, std: 0.00715, params: {'subsample': 0.8},\n",
       "  mean: 0.83753, std: 0.00704, params: {'subsample': 0.85},\n",
       "  mean: 0.83754, std: 0.00699, params: {'subsample': 0.9}],\n",
       " {'subsample': 0.6},\n",
       " 0.8380770229844359)"
      ]
     },
     "execution_count": 15,
     "metadata": {},
     "output_type": "execute_result"
    }
   ],
   "source": [
    "param_test5 = {'subsample':[0.5,0.6,0.7,0.75,0.8,0.85,0.9]}\n",
    "gsearch5 = GridSearchCV(estimator = GradientBoostingClassifier(learning_rate=0.15, n_estimators=80,max_depth=5,min_samples_split=1200, min_samples_leaf=70, subsample=0.8, random_state=10,max_features=13),\n",
    "param_grid = param_test5, scoring='roc_auc',n_jobs=4,iid=False, cv=5)\n",
    "gsearch5.fit(train[predictors],train[target])\n",
    "gsearch5.grid_scores_, gsearch5.best_params_, gsearch5.best_score_"
   ]
  },
  {
   "cell_type": "markdown",
   "metadata": {},
   "source": [
    "# n =160 and leaning rate 0.5"
   ]
  },
  {
   "cell_type": "code",
   "execution_count": 18,
   "metadata": {},
   "outputs": [
    {
     "name": "stdout",
     "output_type": "stream",
     "text": [
      "\n",
      "Model Report\n",
      "Accuracy : 0.8222\n",
      "AUC Score (Train): 0.858301\n",
      "CV Score : Mean - 0.8396866 | Std - 0.006979153 | Min - 0.8288995 | Max - 0.8487185\n"
     ]
    },
    {
     "data": {
      "image/png": "[encoded data removed]",
      "text/plain": [
       "<matplotlib.figure.Figure at 0x1da044fd048>"
      ]
     },
     "metadata": {},
     "output_type": "display_data"
    }
   ],
   "source": [
    "predictors = [x for x in train.columns if x not in [target, IDcol]]\n",
    "gbm_tuned_1 = GradientBoostingClassifier(learning_rate=0.05, n_estimators=180,max_depth=7, min_samples_split=1200,min_samples_leaf=80, subsample=0.75, random_state=10, max_features=7)\n",
    "modelfit(gbm_tuned_1, train, predictors)"
   ]
  },
  {
   "cell_type": "markdown",
   "metadata": {},
   "source": [
    "# n= 600 learning rate .01"
   ]
  },
  {
   "cell_type": "code",
   "execution_count": 19,
   "metadata": {},
   "outputs": [
    {
     "name": "stdout",
     "output_type": "stream",
     "text": [
      "\n",
      "Model Report\n",
      "Accuracy : 0.8201\n",
      "AUC Score (Train): 0.854373\n",
      "CV Score : Mean - 0.8390529 | Std - 0.007205904 | Min - 0.8280033 | Max - 0.8486826\n"
     ]
    },
    {
     "data": {
      "image/png": "[encoded data removed]",
      "text/plain": [
       "<matplotlib.figure.Figure at 0x1da02916d30>"
      ]
     },
     "metadata": {},
     "output_type": "display_data"
    }
   ],
   "source": [
    "predictors = [x for x in train.columns if x not in [target, IDcol]]\n",
    "gbm_tuned_2 = GradientBoostingClassifier(learning_rate=0.01, n_estimators=600,max_depth=7, min_samples_split=1200,min_samples_leaf=80, subsample=0.75, random_state=10, max_features=7)\n",
    "modelfit(gbm_tuned_2, train, predictors)"
   ]
  },
  {
   "cell_type": "markdown",
   "metadata": {},
   "source": [
    "# n=2000 learning rate =.005"
   ]
  },
  {
   "cell_type": "code",
   "execution_count": 21,
   "metadata": {},
   "outputs": [
    {
     "data": {
      "text/plain": [
       "0.8245625"
      ]
     },
     "execution_count": 21,
     "metadata": {},
     "output_type": "execute_result"
    }
   ],
   "source": [
    "predictors = [x for x in train.columns if x not in [target, IDcol]]\n",
    "gbm_tuned_3 = GradientBoostingClassifier(learning_rate=0.005, n_estimators=2000,max_depth=7, min_samples_split=1200,min_samples_leaf=80, subsample=0.75, random_state=10, max_features=7)\n",
    "gbm_tuned_3.fit(train[predictors],train[target])\n",
    "gbm_tuned_3.score(train[predictors],train[target])"
   ]
  },
  {
   "cell_type": "code",
   "execution_count": 27,
   "metadata": {},
   "outputs": [
    {
     "name": "stdout",
     "output_type": "stream",
     "text": [
      "\n",
      "Model Report\n",
      "Accuracy : 0.8246\n",
      "AUC Score (Train): 0.860691\n",
      "CV Score : Mean - 0.8403162 | Std - 0.007055575 | Min - 0.8293019 | Max - 0.8492015\n"
     ]
    },
    {
     "data": {
      "image/png": "[encoded data removed]",
      "text/plain": [
       "<matplotlib.figure.Figure at 0x1da02f5aeb8>"
      ]
     },
     "metadata": {},
     "output_type": "display_data"
    }
   ],
   "source": [
    "modelfit(gbm_tuned_3, train, predictors)"
   ]
  },
  {
   "cell_type": "code",
   "execution_count": 23,
   "metadata": {},
   "outputs": [
    {
     "data": {
      "text/plain": [
       "0.8136375"
      ]
     },
     "execution_count": 23,
     "metadata": {},
     "output_type": "execute_result"
    }
   ],
   "source": [
    "predictors = [x for x in train.columns if x not in [target, IDcol]]\n",
    "gbm_tuned_4= GradientBoostingClassifier(learning_rate=0.005, n_estimators=1000,max_depth=5, min_samples_split=1200,min_samples_leaf=70, subsample=0.6, random_state=10, max_features=13)\n",
    "gbm_tuned_4.fit(train[predictors],train[target])\n",
    "gbm_tuned_4.score(train[predictors],train[target])"
   ]
  },
  {
   "cell_type": "markdown",
   "metadata": {},
   "source": [
    "# n=1000 and learning rate .005"
   ]
  },
  {
   "cell_type": "code",
   "execution_count": 24,
   "metadata": {},
   "outputs": [
    {
     "data": {
      "text/plain": [
       "0.8136375"
      ]
     },
     "execution_count": 24,
     "metadata": {},
     "output_type": "execute_result"
    }
   ],
   "source": [
    "predictors = [x for x in train.columns if x not in [target, IDcol]]\n",
    "gbm_tuned_5= GradientBoostingClassifier(learning_rate=0.005, n_estimators=1000,max_depth=5, min_samples_split=1200,min_samples_leaf=70, subsample=0.6, random_state=10, max_features=13)\n",
    "gbm_tuned_5.fit(train[predictors],train[target])\n",
    "gbm_tuned_5.score(train[predictors],train[target])"
   ]
  },
  {
   "cell_type": "code",
   "execution_count": null,
   "metadata": {},
   "outputs": [],
   "source": [
    "n=1500 and learning rate .001"
   ]
  },
  {
   "cell_type": "code",
   "execution_count": 26,
   "metadata": {},
   "outputs": [
    {
     "data": {
      "text/plain": [
       "0.7957375"
      ]
     },
     "execution_count": 26,
     "metadata": {},
     "output_type": "execute_result"
    }
   ],
   "source": [
    "predictors = [x for x in train.columns if x not in [target, IDcol]]\n",
    "gbm_tuned_6= GradientBoostingClassifier(learning_rate=0.001, n_estimators=1500,max_depth=5, min_samples_split=1200,min_samples_leaf=70, subsample=0.6, random_state=10, max_features=13)\n",
    "gbm_tuned_6.fit(train[predictors],train[target])\n",
    "gbm_tuned_6.score(train[predictors],train[target])"
   ]
  },
  {
   "cell_type": "code",
   "execution_count": null,
   "metadata": {},
   "outputs": [],
   "source": []
  },
  {
   "cell_type": "code",
   "execution_count": 25,
   "metadata": {},
   "outputs": [
    {
     "name": "stdout",
     "output_type": "stream",
     "text": [
      "39 (25000, 39) gbm \n"
     ]
    }
   ],
   "source": [
    "lead_df=pd.read_csv('lead_3oct_merge.csv',index_col='application_key')\n",
    "# lead_df.columns=colm[:-1]\n",
    "# lead_df=(lead_df-lead_df.mean(axis=0))/lead_df.std(axis=0)\n",
    "# lead_df=lead_df[imp_col[:-1]]\n",
    "# lead_df=Pca(lead_df)\n",
    "print(len(predictors),lead_df.shape, 'gbm ')\n",
    "\n",
    "\n",
    "lead_pred=gbm_tuned_5.predict(lead_df)\n",
    "proba=gbm_tuned_5.predict_proba(lead_df)\n",
    "lead_df['pridicted']=lead_pred\n",
    "lead_df['prob']=proba[:,0]\n",
    "lead_df=lead_df.sort_values(by=['prob'],ascending=False)\n",
    "result=lead_df['pridicted'].astype(int)\n",
    "result.to_csv('Datadevils_IITGuwahati_204.csv')"
   ]
  },
  {
   "cell_type": "code",
   "execution_count": null,
   "metadata": {},
   "outputs": [],
   "source": [
    "modelfit(gbm_tuned_3, train, predictors)"
   ]
  }
 ],
 "metadata": {
  "kernelspec": {
   "display_name": "Python 3",
   "language": "python",
   "name": "python3"
  },
  "language_info": {
   "codemirror_mode": {
    "name": "ipython",
    "version": 3
   },
   "file_extension": ".py",
   "mimetype": "text/x-python",
   "name": "python",
   "nbconvert_exporter": "python",
   "pygments_lexer": "ipython3",
   "version": "3.6.4"
  }
 },
 "nbformat": 4,
 "nbformat_minor": 2
}
