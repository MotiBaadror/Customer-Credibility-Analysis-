{
 "cells": [
  {
   "cell_type": "code",
   "execution_count": 7,
   "metadata": {},
   "outputs": [],
   "source": [
    "import pandas as pd \n",
    "import numpy as np\n",
    "import matplotlib.pyplot as plt\n",
    "%matplotlib inline \n",
    "pd.set_option('display.max_columns',None)\n",
    "from pandas.plotting import scatter_matrix\n",
    "\n",
    "from sklearn.datasets import make_classification\n",
    "from sklearn.linear_model import LogisticRegression\n",
    "from sklearn.ensemble import RandomForestClassifier\n",
    "from sklearn.feature_selection import SelectFromModel\n",
    "from sklearn.model_selection import cross_val_score\n",
    "from sklearn.pipeline import make_pipeline"
   ]
  },
  {
   "cell_type": "code",
   "execution_count": 29,
   "metadata": {},
   "outputs": [],
   "source": [
    "train_df=pd.read_csv('Traning cleaned.csv',index_col='application_key')\n",
    "# ,index_col='application_key'"
   ]
  },
  {
   "cell_type": "code",
   "execution_count": 9,
   "metadata": {},
   "outputs": [],
   "source": [
    "sample_df=train_df"
   ]
  },
  {
   "cell_type": "code",
   "execution_count": 10,
   "metadata": {},
   "outputs": [],
   "source": [
    "from sklearn.feature_selection import VarianceThreshold\n",
    "sel = VarianceThreshold(threshold=(.8 * (1 - .8)))\n",
    "\n",
    "X=sample_df.iloc[:,:-1]\n",
    "Y=sample_df.iloc[:,-1].astype(int)\n",
    "# X=sel.fit_transform(X)\n",
    "# temp=pd.DataFrame(X)"
   ]
  },
  {
   "cell_type": "code",
   "execution_count": 11,
   "metadata": {},
   "outputs": [
    {
     "data": {
      "text/plain": [
       "((80000,), (80000, 47))"
      ]
     },
     "execution_count": 11,
     "metadata": {},
     "output_type": "execute_result"
    }
   ],
   "source": [
    "Y.shape,X.shape"
   ]
  },
  {
   "cell_type": "code",
   "execution_count": 12,
   "metadata": {},
   "outputs": [],
   "source": [
    "# temp.set_index(sample_df.index).head()\n",
    "# Y=Y.reset_index()\n",
    "# Y.head()"
   ]
  },
  {
   "cell_type": "code",
   "execution_count": 13,
   "metadata": {},
   "outputs": [],
   "source": [
    "# combine=pd.concat([temp,Y['default_ind']],axis=1)"
   ]
  },
  {
   "cell_type": "code",
   "execution_count": 14,
   "metadata": {},
   "outputs": [],
   "source": [
    "# df=combine.set_index(Y['application_key']).head()"
   ]
  },
  {
   "cell_type": "code",
   "execution_count": 15,
   "metadata": {},
   "outputs": [],
   "source": [
    "# df.head()"
   ]
  },
  {
   "cell_type": "code",
   "execution_count": 16,
   "metadata": {},
   "outputs": [],
   "source": [
    "# temp=temp.set_index(Y['application_key'])\n",
    "colm=[i for i in range(47)]\n",
    "X.columns=colm"
   ]
  },
  {
   "cell_type": "code",
   "execution_count": 17,
   "metadata": {},
   "outputs": [
    {
     "data": {
      "text/plain": [
       "(80000, 47)"
      ]
     },
     "execution_count": 17,
     "metadata": {},
     "output_type": "execute_result"
    }
   ],
   "source": [
    "X.shape"
   ]
  },
  {
   "cell_type": "code",
   "execution_count": 18,
   "metadata": {},
   "outputs": [],
   "source": [
    "from sklearn.linear_model import LinearRegression\n",
    "from sklearn.feature_selection import RFE\n",
    "# from sklearn import datasets\n",
    "# lreg = LinearRegression()\n",
    "# rfe = RFE(lreg, 10)\n",
    "# rfe = rfe.fit_transform(X, Y['default_ind'])"
   ]
  },
  {
   "cell_type": "code",
   "execution_count": 19,
   "metadata": {},
   "outputs": [
    {
     "data": {
      "text/plain": [
       "(80000,)"
      ]
     },
     "execution_count": 19,
     "metadata": {},
     "output_type": "execute_result"
    }
   ],
   "source": [
    "Y.shape"
   ]
  },
  {
   "cell_type": "code",
   "execution_count": 20,
   "metadata": {},
   "outputs": [
    {
     "data": {
      "text/plain": [
       "array([ 1,  1,  1,  1,  1,  8, 10,  5,  7, 14,  9,  6, 12, 15, 13,  1,  1,\n",
       "        1,  1,  1,  1,  1,  1,  1,  1,  3, 11,  4,  2,  1,  1,  1,  1,  1,\n",
       "        1,  1,  1,  1,  1,  1,  1,  1,  1,  1,  1,  1,  1])"
      ]
     },
     "execution_count": 20,
     "metadata": {},
     "output_type": "execute_result"
    }
   ],
   "source": [
    ">>> from sklearn.feature_selection import RFE\n",
    ">>> from sklearn.linear_model import LinearRegression\n",
    "# >>> X, y = make_friedman1(n_samples=50, n_features=10, random_state=0)\n",
    ">>> lreg = LinearRegression()\n",
    "# >>> rfe = RFE(lreg, 10)\n",
    ">>> selector = RFE(lreg ,33, step=1)\n",
    ">>> selector = selector.fit(X, Y)\n",
    "# >>> print(selector.support_)\n",
    ">>> selector.ranking_"
   ]
  },
  {
   "cell_type": "code",
   "execution_count": 21,
   "metadata": {},
   "outputs": [
    {
     "data": {
      "text/plain": [
       "14"
      ]
     },
     "execution_count": 21,
     "metadata": {},
     "output_type": "execute_result"
    }
   ],
   "source": [
    "rem_col=[6,7,8,9,10,11,12,13,14,15,26,27,28,29]\n",
    "len(rem_col)"
   ]
  },
  {
   "cell_type": "code",
   "execution_count": 22,
   "metadata": {},
   "outputs": [
    {
     "data": {
      "text/html": [
       "<div>\n",
       "<style scoped>\n",
       "    .dataframe tbody tr th:only-of-type {\n",
       "        vertical-align: middle;\n",
       "    }\n",
       "\n",
       "    .dataframe tbody tr th {\n",
       "        vertical-align: top;\n",
       "    }\n",
       "\n",
       "    .dataframe thead th {\n",
       "        text-align: right;\n",
       "    }\n",
       "</style>\n",
       "<table border=\"1\" class=\"dataframe\">\n",
       "  <thead>\n",
       "    <tr style=\"text-align: right;\">\n",
       "      <th></th>\n",
       "      <th>0</th>\n",
       "      <th>1</th>\n",
       "      <th>2</th>\n",
       "      <th>3</th>\n",
       "      <th>4</th>\n",
       "      <th>5</th>\n",
       "      <th>16</th>\n",
       "      <th>17</th>\n",
       "      <th>18</th>\n",
       "      <th>19</th>\n",
       "      <th>20</th>\n",
       "      <th>21</th>\n",
       "      <th>22</th>\n",
       "      <th>23</th>\n",
       "      <th>24</th>\n",
       "      <th>25</th>\n",
       "      <th>30</th>\n",
       "      <th>31</th>\n",
       "      <th>32</th>\n",
       "      <th>33</th>\n",
       "      <th>34</th>\n",
       "      <th>35</th>\n",
       "      <th>36</th>\n",
       "      <th>37</th>\n",
       "      <th>38</th>\n",
       "      <th>39</th>\n",
       "      <th>40</th>\n",
       "      <th>41</th>\n",
       "      <th>42</th>\n",
       "      <th>43</th>\n",
       "      <th>44</th>\n",
       "      <th>45</th>\n",
       "      <th>46</th>\n",
       "    </tr>\n",
       "    <tr>\n",
       "      <th>application_key</th>\n",
       "      <th></th>\n",
       "      <th></th>\n",
       "      <th></th>\n",
       "      <th></th>\n",
       "      <th></th>\n",
       "      <th></th>\n",
       "      <th></th>\n",
       "      <th></th>\n",
       "      <th></th>\n",
       "      <th></th>\n",
       "      <th></th>\n",
       "      <th></th>\n",
       "      <th></th>\n",
       "      <th></th>\n",
       "      <th></th>\n",
       "      <th></th>\n",
       "      <th></th>\n",
       "      <th></th>\n",
       "      <th></th>\n",
       "      <th></th>\n",
       "      <th></th>\n",
       "      <th></th>\n",
       "      <th></th>\n",
       "      <th></th>\n",
       "      <th></th>\n",
       "      <th></th>\n",
       "      <th></th>\n",
       "      <th></th>\n",
       "      <th></th>\n",
       "      <th></th>\n",
       "      <th></th>\n",
       "      <th></th>\n",
       "      <th></th>\n",
       "    </tr>\n",
       "  </thead>\n",
       "  <tbody>\n",
       "    <tr>\n",
       "      <th>230032</th>\n",
       "      <td>1696.0</td>\n",
       "      <td>1.6541</td>\n",
       "      <td>0.000</td>\n",
       "      <td>0.0</td>\n",
       "      <td>0.0</td>\n",
       "      <td>0.000000</td>\n",
       "      <td>1.000000</td>\n",
       "      <td>1.000000</td>\n",
       "      <td>3.0</td>\n",
       "      <td>3.0</td>\n",
       "      <td>94.780000</td>\n",
       "      <td>8987.180000</td>\n",
       "      <td>4305.929828</td>\n",
       "      <td>72.250000</td>\n",
       "      <td>1462.000000</td>\n",
       "      <td>4532.000000</td>\n",
       "      <td>3376.000000</td>\n",
       "      <td>625.000000</td>\n",
       "      <td>1.1667</td>\n",
       "      <td>1.0</td>\n",
       "      <td>0.000000</td>\n",
       "      <td>8.0</td>\n",
       "      <td>10.000000</td>\n",
       "      <td>4.0</td>\n",
       "      <td>1.0</td>\n",
       "      <td>73.780000</td>\n",
       "      <td>82.547000</td>\n",
       "      <td>0.08696</td>\n",
       "      <td>10.0</td>\n",
       "      <td>0.63899</td>\n",
       "      <td>0.070736</td>\n",
       "      <td>0.000000</td>\n",
       "      <td>0.0</td>\n",
       "    </tr>\n",
       "    <tr>\n",
       "      <th>230033</th>\n",
       "      <td>1846.0</td>\n",
       "      <td>0.8095</td>\n",
       "      <td>0.000</td>\n",
       "      <td>0.0</td>\n",
       "      <td>0.0</td>\n",
       "      <td>102.000000</td>\n",
       "      <td>0.000000</td>\n",
       "      <td>0.000000</td>\n",
       "      <td>0.0</td>\n",
       "      <td>0.0</td>\n",
       "      <td>74.250000</td>\n",
       "      <td>953.060000</td>\n",
       "      <td>953.060000</td>\n",
       "      <td>4.800000</td>\n",
       "      <td>1028.000000</td>\n",
       "      <td>2099.000000</td>\n",
       "      <td>2251.000000</td>\n",
       "      <td>169.000000</td>\n",
       "      <td>0.4167</td>\n",
       "      <td>0.0</td>\n",
       "      <td>0.000000</td>\n",
       "      <td>8.0</td>\n",
       "      <td>0.000000</td>\n",
       "      <td>2.0</td>\n",
       "      <td>0.0</td>\n",
       "      <td>99.129000</td>\n",
       "      <td>72.096758</td>\n",
       "      <td>0.00000</td>\n",
       "      <td>13.0</td>\n",
       "      <td>0.63836</td>\n",
       "      <td>0.070736</td>\n",
       "      <td>0.096135</td>\n",
       "      <td>1.0</td>\n",
       "    </tr>\n",
       "    <tr>\n",
       "      <th>230034</th>\n",
       "      <td>1745.0</td>\n",
       "      <td>0.4001</td>\n",
       "      <td>0.000</td>\n",
       "      <td>0.0</td>\n",
       "      <td>0.0</td>\n",
       "      <td>1606.702372</td>\n",
       "      <td>0.266281</td>\n",
       "      <td>0.272026</td>\n",
       "      <td>0.0</td>\n",
       "      <td>0.0</td>\n",
       "      <td>57.790097</td>\n",
       "      <td>4423.856509</td>\n",
       "      <td>4305.929828</td>\n",
       "      <td>69.981834</td>\n",
       "      <td>1750.065303</td>\n",
       "      <td>3369.121848</td>\n",
       "      <td>3626.892986</td>\n",
       "      <td>470.430879</td>\n",
       "      <td>25.0833</td>\n",
       "      <td>0.0</td>\n",
       "      <td>0.198123</td>\n",
       "      <td>1.0</td>\n",
       "      <td>4.251362</td>\n",
       "      <td>1.0</td>\n",
       "      <td>0.0</td>\n",
       "      <td>98.497452</td>\n",
       "      <td>29.290000</td>\n",
       "      <td>0.00000</td>\n",
       "      <td>1.0</td>\n",
       "      <td>1.00000</td>\n",
       "      <td>0.070736</td>\n",
       "      <td>0.000000</td>\n",
       "      <td>0.0</td>\n",
       "    </tr>\n",
       "    <tr>\n",
       "      <th>230035</th>\n",
       "      <td>1739.0</td>\n",
       "      <td>0.2193</td>\n",
       "      <td>0.000</td>\n",
       "      <td>0.0</td>\n",
       "      <td>0.0</td>\n",
       "      <td>1982.000000</td>\n",
       "      <td>0.000000</td>\n",
       "      <td>0.000000</td>\n",
       "      <td>0.0</td>\n",
       "      <td>0.0</td>\n",
       "      <td>57.790097</td>\n",
       "      <td>0.000000</td>\n",
       "      <td>4305.929828</td>\n",
       "      <td>0.000000</td>\n",
       "      <td>1308.000000</td>\n",
       "      <td>2525.000000</td>\n",
       "      <td>3741.000000</td>\n",
       "      <td>215.000000</td>\n",
       "      <td>10.3333</td>\n",
       "      <td>0.0</td>\n",
       "      <td>0.000000</td>\n",
       "      <td>3.0</td>\n",
       "      <td>3.000000</td>\n",
       "      <td>2.0</td>\n",
       "      <td>0.0</td>\n",
       "      <td>96.272000</td>\n",
       "      <td>72.096758</td>\n",
       "      <td>0.15385</td>\n",
       "      <td>3.0</td>\n",
       "      <td>0.53241</td>\n",
       "      <td>0.000000</td>\n",
       "      <td>0.000000</td>\n",
       "      <td>1.0</td>\n",
       "    </tr>\n",
       "    <tr>\n",
       "      <th>230036</th>\n",
       "      <td>1787.0</td>\n",
       "      <td>0.0118</td>\n",
       "      <td>0.225</td>\n",
       "      <td>0.0</td>\n",
       "      <td>0.0</td>\n",
       "      <td>5451.000000</td>\n",
       "      <td>0.000000</td>\n",
       "      <td>0.000000</td>\n",
       "      <td>0.0</td>\n",
       "      <td>0.0</td>\n",
       "      <td>20.510000</td>\n",
       "      <td>796.670000</td>\n",
       "      <td>4305.929828</td>\n",
       "      <td>28.720000</td>\n",
       "      <td>801.000000</td>\n",
       "      <td>2281.000000</td>\n",
       "      <td>1947.000000</td>\n",
       "      <td>158.000000</td>\n",
       "      <td>0.9167</td>\n",
       "      <td>0.0</td>\n",
       "      <td>0.000000</td>\n",
       "      <td>2.0</td>\n",
       "      <td>3.000000</td>\n",
       "      <td>2.0</td>\n",
       "      <td>0.0</td>\n",
       "      <td>115.019000</td>\n",
       "      <td>72.096758</td>\n",
       "      <td>0.00000</td>\n",
       "      <td>1.0</td>\n",
       "      <td>0.92665</td>\n",
       "      <td>0.070736</td>\n",
       "      <td>0.096135</td>\n",
       "      <td>1.0</td>\n",
       "    </tr>\n",
       "  </tbody>\n",
       "</table>\n",
       "</div>"
      ],
      "text/plain": [
       "                     0       1      2    3    4            5         16  \\\n",
       "application_key                                                           \n",
       "230032           1696.0  1.6541  0.000  0.0  0.0     0.000000  1.000000   \n",
       "230033           1846.0  0.8095  0.000  0.0  0.0   102.000000  0.000000   \n",
       "230034           1745.0  0.4001  0.000  0.0  0.0  1606.702372  0.266281   \n",
       "230035           1739.0  0.2193  0.000  0.0  0.0  1982.000000  0.000000   \n",
       "230036           1787.0  0.0118  0.225  0.0  0.0  5451.000000  0.000000   \n",
       "\n",
       "                       17   18   19         20           21           22  \\\n",
       "application_key                                                            \n",
       "230032           1.000000  3.0  3.0  94.780000  8987.180000  4305.929828   \n",
       "230033           0.000000  0.0  0.0  74.250000   953.060000   953.060000   \n",
       "230034           0.272026  0.0  0.0  57.790097  4423.856509  4305.929828   \n",
       "230035           0.000000  0.0  0.0  57.790097     0.000000  4305.929828   \n",
       "230036           0.000000  0.0  0.0  20.510000   796.670000  4305.929828   \n",
       "\n",
       "                        23           24           25           30          31  \\\n",
       "application_key                                                                 \n",
       "230032           72.250000  1462.000000  4532.000000  3376.000000  625.000000   \n",
       "230033            4.800000  1028.000000  2099.000000  2251.000000  169.000000   \n",
       "230034           69.981834  1750.065303  3369.121848  3626.892986  470.430879   \n",
       "230035            0.000000  1308.000000  2525.000000  3741.000000  215.000000   \n",
       "230036           28.720000   801.000000  2281.000000  1947.000000  158.000000   \n",
       "\n",
       "                      32   33        34   35         36   37   38          39  \\\n",
       "application_key                                                                 \n",
       "230032            1.1667  1.0  0.000000  8.0  10.000000  4.0  1.0   73.780000   \n",
       "230033            0.4167  0.0  0.000000  8.0   0.000000  2.0  0.0   99.129000   \n",
       "230034           25.0833  0.0  0.198123  1.0   4.251362  1.0  0.0   98.497452   \n",
       "230035           10.3333  0.0  0.000000  3.0   3.000000  2.0  0.0   96.272000   \n",
       "230036            0.9167  0.0  0.000000  2.0   3.000000  2.0  0.0  115.019000   \n",
       "\n",
       "                        40       41    42       43        44        45   46  \n",
       "application_key                                                              \n",
       "230032           82.547000  0.08696  10.0  0.63899  0.070736  0.000000  0.0  \n",
       "230033           72.096758  0.00000  13.0  0.63836  0.070736  0.096135  1.0  \n",
       "230034           29.290000  0.00000   1.0  1.00000  0.070736  0.000000  0.0  \n",
       "230035           72.096758  0.15385   3.0  0.53241  0.000000  0.000000  1.0  \n",
       "230036           72.096758  0.00000   1.0  0.92665  0.070736  0.096135  1.0  "
      ]
     },
     "execution_count": 22,
     "metadata": {},
     "output_type": "execute_result"
    }
   ],
   "source": [
    "temp1=pd.DataFrame(X)\n",
    "new_df=temp1.drop(rem_col,axis=1)\n",
    "new_df.head()"
   ]
  },
  {
   "cell_type": "code",
   "execution_count": 67,
   "metadata": {},
   "outputs": [
    {
     "data": {
      "text/plain": [
       "(80000, 33)"
      ]
     },
     "execution_count": 67,
     "metadata": {},
     "output_type": "execute_result"
    }
   ],
   "source": [
    "new_df.shape\n"
   ]
  },
  {
   "cell_type": "code",
   "execution_count": 27,
   "metadata": {},
   "outputs": [
    {
     "data": {
      "text/plain": [
       "Index(['mvar1', 'mvar2', 'mvar3', 'mvar4', 'mvar5', 'mvar6', 'mvar7', 'mvar8',\n",
       "       'mvar9', 'mvar10', 'mvar11', 'mvar12', 'mvar13', 'mvar14', 'mvar15',\n",
       "       'mvar16', 'mvar17', 'mvar18', 'mvar19', 'mvar20', 'mvar21', 'mvar22',\n",
       "       'mvar23', 'mvar24', 'mvar25', 'mvar26', 'mvar27', 'mvar28', 'mvar29',\n",
       "       'mvar30', 'mvar31', 'mvar32', 'mvar33', 'mvar34', 'mvar35', 'mvar36',\n",
       "       'mvar37', 'mvar38', 'mvar39', 'mvar40', 'mvar41', 'mvar42', 'mvar43',\n",
       "       'mvar44', 'mvar45', 'mvar46', 'mvar47', 'default_ind'],\n",
       "      dtype='object')"
      ]
     },
     "execution_count": 27,
     "metadata": {},
     "output_type": "execute_result"
    }
   ],
   "source": [
    "colm=train_df.columns\n",
    "colm"
   ]
  },
  {
   "cell_type": "code",
   "execution_count": 25,
   "metadata": {},
   "outputs": [],
   "source": [
    "back_df=pd.read_csv('Train_after_forward.csv',index_col='application_key')"
   ]
  },
  {
   "cell_type": "code",
   "execution_count": 28,
   "metadata": {},
   "outputs": [
    {
     "data": {
      "text/plain": [
       "(80000, 43)"
      ]
     },
     "execution_count": 28,
     "metadata": {},
     "output_type": "execute_result"
    }
   ],
   "source": [
    "back_df.shape"
   ]
  },
  {
   "cell_type": "code",
   "execution_count": 63,
   "metadata": {},
   "outputs": [
    {
     "data": {
      "text/plain": [
       "((53600, 33), (53600,), (26400, 33))"
      ]
     },
     "execution_count": 63,
     "metadata": {},
     "output_type": "execute_result"
    }
   ],
   "source": [
    "from sklearn.model_selection import cross_val_score\n",
    "from sklearn.model_selection import train_test_split\n",
    "X_train, X_test, Y_train, Y_test = train_test_split(\n",
    "   new_df ,Y , test_size=0.33, random_state=42)\n",
    "X_train.shape, Y_train.shape, X_test.shape"
   ]
  },
  {
   "cell_type": "code",
   "execution_count": 64,
   "metadata": {},
   "outputs": [
    {
     "data": {
      "text/plain": [
       "(85.45, -3.5085008893184426)"
      ]
     },
     "execution_count": 64,
     "metadata": {},
     "output_type": "execute_result"
    }
   ],
   "source": [
    "from sklearn.neighbors import KNeighborsClassifier\n",
    "knn = KNeighborsClassifier(n_neighbors = 3)\n",
    "knn.fit(X_train, Y_train)\n",
    "Y_pred = knn.predict(X_test)\n",
    "acc_knn = round(knn.score(X_train, Y_train) * 100, 2)\n",
    "knn_cost=cross_val_score(knn, X_train, Y_train, scoring='neg_log_loss').mean()\n",
    "acc_knn,knn_cost"
   ]
  },
  {
   "cell_type": "code",
   "execution_count": 68,
   "metadata": {},
   "outputs": [
    {
     "data": {
      "text/plain": [
       "(80000, 33)"
      ]
     },
     "execution_count": 68,
     "metadata": {},
     "output_type": "execute_result"
    }
   ],
   "source": [
    "new_df.shape"
   ]
  },
  {
   "cell_type": "code",
   "execution_count": 84,
   "metadata": {},
   "outputs": [],
   "source": [
    "lead_df1=pd.read_csv('lead_board_cleaned.csv',index_col='application_key')"
   ]
  },
  {
   "cell_type": "code",
   "execution_count": 85,
   "metadata": {},
   "outputs": [],
   "source": [
    "colm=[i for i in range(47)]\n",
    "lead_df1.columns=colm"
   ]
  },
  {
   "cell_type": "code",
   "execution_count": 86,
   "metadata": {},
   "outputs": [
    {
     "data": {
      "text/plain": [
       "(25000, 47)"
      ]
     },
     "execution_count": 86,
     "metadata": {},
     "output_type": "execute_result"
    }
   ],
   "source": [
    "lead_df1.shape"
   ]
  },
  {
   "cell_type": "code",
   "execution_count": 87,
   "metadata": {},
   "outputs": [],
   "source": [
    "lead_df=lead_df1.drop(rem_col,axis=1)\n"
   ]
  },
  {
   "cell_type": "code",
   "execution_count": 89,
   "metadata": {},
   "outputs": [],
   "source": [
    "lead_df.shape\n",
    "lead_df.to_csv('lead_after_back.csv')"
   ]
  },
  {
   "cell_type": "code",
   "execution_count": 75,
   "metadata": {},
   "outputs": [],
   "source": [
    "lead_pred=knn.predict(lead_df)\n",
    "proba=knn.predict_proba(lead_df)\n",
    "lead_df['pridicted']=lead_pred\n",
    "lead_df['prob']=proba[:,0]\n",
    "lead_df=lead_df.sort_values(by=['prob'],ascending=False)\n",
    "result=lead_df['pridicted'].astype(int)\n",
    "result.to_csv('Datadevils_IITGuwahati_7.csv')"
   ]
  },
  {
   "cell_type": "code",
   "execution_count": 76,
   "metadata": {},
   "outputs": [
    {
     "data": {
      "text/plain": [
       "application_key\n",
       "362553    0\n",
       "363846    0\n",
       "363917    0\n",
       "363922    0\n",
       "363923    0\n",
       "Name: pridicted, dtype: int32"
      ]
     },
     "execution_count": 76,
     "metadata": {},
     "output_type": "execute_result"
    }
   ],
   "source": [
    "result.head()"
   ]
  },
  {
   "cell_type": "code",
   "execution_count": null,
   "metadata": {},
   "outputs": [],
   "source": [
    "lead_df.head(10)"
   ]
  },
  {
   "cell_type": "markdown",
   "metadata": {},
   "source": [
    "# Random Forest \n"
   ]
  },
  {
   "cell_type": "code",
   "execution_count": 109,
   "metadata": {},
   "outputs": [
    {
     "data": {
      "text/plain": [
       "100.0"
      ]
     },
     "execution_count": 109,
     "metadata": {},
     "output_type": "execute_result"
    }
   ],
   "source": [
    "random_forest = RandomForestClassifier(n_estimators=100)\n",
    "random_forest.fit(X_train, Y_train)\n",
    "Y_pred = random_forest.predict(X_test)\n",
    "random_forest.score(X_train, Y_train)\n",
    "acc_random_forest = round(random_forest.score(X_train, Y_train) * 100, 2)\n",
    "acc_random_forest"
   ]
  },
  {
   "cell_type": "code",
   "execution_count": null,
   "metadata": {},
   "outputs": [],
   "source": [
    "lead_prid=random_forest.predict(lead_df)\n",
    "proba=random_forest.predict_proba(lead_df)\n",
    "lead_df['pridicted']=lead_prid\n",
    "lead_df['prob']=proba[:,0]\n",
    "lead_df=lead_df.sort_values(by=['prob'],ascending=False)\n",
    "result=lead_df['pridicted'].astype(int)\n",
    "result.to_csv('Datadevils_IITGuwahati_5.csv')"
   ]
  },
  {
   "cell_type": "code",
   "execution_count": 39,
   "metadata": {},
   "outputs": [
    {
     "name": "stdout",
     "output_type": "stream",
     "text": [
      "score 0.24012804749776118\n"
     ]
    },
    {
     "data": {
      "text/plain": [
       "array([ 1,  1,  1,  1,  1,  8, 10,  5,  7, 14,  9,  6, 12, 15, 13,  1,  1,\n",
       "        1,  1,  1,  1,  1,  1,  1,  1,  3, 11,  4,  2,  1,  1,  1,  1,  1,\n",
       "        1,  1,  1,  1,  1,  1,  1,  1,  1,  1,  1,  1,  1])"
      ]
     },
     "execution_count": 39,
     "metadata": {},
     "output_type": "execute_result"
    }
   ],
   "source": [
    ">>> from sklearn.feature_selection import RFE\n",
    ">>> from sklearn.linear_model import LinearRegression\n",
    "# >>> X, y = make_friedman1(n_samples=50, n_features=10, random_state=0)\n",
    ">>> lreg = LinearRegression()\n",
    "# >>> rfe = RFE(lreg, 10)\n",
    ">>> selector = RFE(lreg ,33, step=1)\n",
    ">>> selector = selector.fit(X, Y)\n",
    "print('score',selector.score(X,Y))\n",
    "# >>> print(selector.support_)\n",
    ">>> selector.ranking_\n",
    "# from sklearn.neighbors import KNeighborsClassifier\n",
    "# knn = KNeighborsClassifier(n_neighbors = 3)"
   ]
  },
  {
   "cell_type": "code",
   "execution_count": 32,
   "metadata": {},
   "outputs": [
    {
     "name": "stdout",
     "output_type": "stream",
     "text": [
      "5   score 0.18328536963052355    cost  \n",
      "6   score 0.189971681445259    cost  \n",
      "7   score 0.19096923247100872    cost  \n",
      "8   score 0.19129344071216617    cost  \n",
      "9   score 0.19496079574978353    cost  \n",
      "10   score 0.21427058725801928    cost  \n",
      "11   score 0.21427446987991017    cost  \n",
      "12   score 0.21701390871793735    cost  \n",
      "13   score 0.21713683727998478    cost  \n",
      "14   score 0.2228974306906429    cost  \n",
      "15   score 0.2254183953850043    cost  \n",
      "16   score 0.22552767714857602    cost  \n",
      "17   score 0.22738268207419365    cost  \n",
      "18   score 0.22848022615128416    cost  \n",
      "19   score 0.22885668728433894    cost  \n",
      "20   score 0.22901968121617755    cost  \n",
      "21   score 0.22951326614050338    cost  \n",
      "22   score 0.22997417861638259    cost  \n",
      "23   score 0.23334301512376787    cost  \n",
      "24   score 0.23377460261959282    cost  \n",
      "25   score 0.23377466716267015    cost  \n",
      "26   score 0.23410217419512402    cost  \n",
      "27   score 0.2367133491772987    cost  \n",
      "28   score 0.23671340176872457    cost  \n",
      "29   score 0.23761252499338115    cost  \n",
      "30   score 0.23765410470781778    cost  \n",
      "31   score 0.2383407799420243    cost  \n",
      "32   score 0.23990489849448537    cost  \n",
      "33   score 0.24012804749776118    cost  \n",
      "34   score 0.24035402719500254    cost  \n",
      "35   score 0.24041764758695072    cost  \n",
      "36   score 0.2419065984190505    cost  \n",
      "37   score 0.24242589811849258    cost  \n",
      "38   score 0.24271731397001417    cost  \n",
      "39   score 0.24412320978989466    cost  \n"
     ]
    }
   ],
   "source": [
    "for i in range( 5, 40):\n",
    "    selector = RFE(lreg ,i, step=1)\n",
    "    selector = selector.fit(X, Y)\n",
    "#     cost=cross_val_score(lreg,X,Y,scoring='neg_log_loss').mean()\n",
    "    print(i, '  score',selector.score(X,Y),'   cost  ', )"
   ]
  },
  {
   "cell_type": "code",
   "execution_count": 36,
   "metadata": {},
   "outputs": [
    {
     "name": "stdout",
     "output_type": "stream",
     "text": [
      "40   score 0.24413296327911227    cost  \n",
      "41   score 0.24414946341338672    cost  \n",
      "42   score 0.24424820618874388    cost  \n",
      "43   score 0.24424823887430605    cost  \n",
      "44   score 0.24431712144096485    cost  \n",
      "45   score 0.24489327171925326    cost  \n",
      "46   score 0.24489492159511417    cost  \n"
     ]
    }
   ],
   "source": [
    "for i in range( 40, 47):\n",
    "    selector = RFE(lreg ,i, step=1)\n",
    "    selector = selector.fit(X, Y)\n",
    "#     cost=cross_val_score(lreg,X,Y,scoring='neg_log_loss').mean()\n",
    "    print(i, '  score',selector.score(X,Y),'   cost  ', )"
   ]
  },
  {
   "cell_type": "code",
   "execution_count": 35,
   "metadata": {},
   "outputs": [
    {
     "data": {
      "text/plain": [
       "'hiii'"
      ]
     },
     "execution_count": 35,
     "metadata": {},
     "output_type": "execute_result"
    }
   ],
   "source": []
  },
  {
   "cell_type": "code",
   "execution_count": 77,
   "metadata": {},
   "outputs": [],
   "source": [
    "import matplotlib.pyplot as plt\n",
    "from sklearn.svm import SVC\n",
    "from sklearn.model_selection import StratifiedKFold\n",
    "from sklearn.feature_selection import RFECV\n",
    "from sklearn.linear_model import LinearRegression\n",
    "from sklearn.datasets import make_classification\n",
    "\n",
    "# # Build a classification task using 3 informative features\n",
    "# # X, y = make_classification(n_samples=1000, n_features=25, n_informative=3,\n",
    "# #                            n_redundant=2, n_repeated=0, n_classes=8,\n",
    "# #                            n_clusters_per_class=1, random_state=0)\n",
    "\n",
    "# # Create the RFE object and compute a cross-validated score.\n",
    "# svc = LinearRegression()\n",
    "# # The \"accuracy\" scoring is proportional to the number of correct\n",
    "# # classifications\n",
    "# rfecv = RFECV(estimator=svc, step=1, cv=StratifiedKFold(2),\n",
    "#               scoring='accuracy')\n",
    "# rfecv.fit(X, Y)\n",
    "\n",
    "# print(\"Optimal number of features : %d\" % rfecv.n_features_)\n",
    "\n",
    "# # Plot number of features VS. cross-validation scores\n",
    "# plt.figure()\n",
    "# plt.xlabel(\"Number of features selected\")\n",
    "# plt.ylabel(\"Cross validation score (nb of correct classifications)\")\n",
    "# plt.plot(range(1, len(rfecv.grid_scores_) + 1), rfecv.grid_scores_)\n",
    "# plt.show()"
   ]
  },
  {
   "cell_type": "code",
   "execution_count": 94,
   "metadata": {},
   "outputs": [],
   "source": [
    "new_df.to_csv('train_after_back.csv')"
   ]
  },
  {
   "cell_type": "code",
   "execution_count": 90,
   "metadata": {},
   "outputs": [],
   "source": [
    "new_df=pd.concat([new_df,Y],axis=1)"
   ]
  },
  {
   "cell_type": "code",
   "execution_count": 91,
   "metadata": {},
   "outputs": [
    {
     "data": {
      "text/plain": [
       "(80000, 34)"
      ]
     },
     "execution_count": 91,
     "metadata": {},
     "output_type": "execute_result"
    }
   ],
   "source": [
    "new_df.shape"
   ]
  },
  {
   "cell_type": "code",
   "execution_count": 92,
   "metadata": {},
   "outputs": [
    {
     "data": {
      "text/html": [
       "<div>\n",
       "<style scoped>\n",
       "    .dataframe tbody tr th:only-of-type {\n",
       "        vertical-align: middle;\n",
       "    }\n",
       "\n",
       "    .dataframe tbody tr th {\n",
       "        vertical-align: top;\n",
       "    }\n",
       "\n",
       "    .dataframe thead th {\n",
       "        text-align: right;\n",
       "    }\n",
       "</style>\n",
       "<table border=\"1\" class=\"dataframe\">\n",
       "  <thead>\n",
       "    <tr style=\"text-align: right;\">\n",
       "      <th></th>\n",
       "      <th>0</th>\n",
       "      <th>1</th>\n",
       "      <th>2</th>\n",
       "      <th>3</th>\n",
       "      <th>4</th>\n",
       "      <th>5</th>\n",
       "      <th>16</th>\n",
       "      <th>17</th>\n",
       "      <th>18</th>\n",
       "      <th>19</th>\n",
       "      <th>20</th>\n",
       "      <th>21</th>\n",
       "      <th>22</th>\n",
       "      <th>23</th>\n",
       "      <th>24</th>\n",
       "      <th>25</th>\n",
       "      <th>30</th>\n",
       "      <th>31</th>\n",
       "      <th>32</th>\n",
       "      <th>33</th>\n",
       "      <th>34</th>\n",
       "      <th>35</th>\n",
       "      <th>36</th>\n",
       "      <th>37</th>\n",
       "      <th>38</th>\n",
       "      <th>39</th>\n",
       "      <th>40</th>\n",
       "      <th>41</th>\n",
       "      <th>42</th>\n",
       "      <th>43</th>\n",
       "      <th>44</th>\n",
       "      <th>45</th>\n",
       "      <th>46</th>\n",
       "      <th>default_ind</th>\n",
       "    </tr>\n",
       "    <tr>\n",
       "      <th>application_key</th>\n",
       "      <th></th>\n",
       "      <th></th>\n",
       "      <th></th>\n",
       "      <th></th>\n",
       "      <th></th>\n",
       "      <th></th>\n",
       "      <th></th>\n",
       "      <th></th>\n",
       "      <th></th>\n",
       "      <th></th>\n",
       "      <th></th>\n",
       "      <th></th>\n",
       "      <th></th>\n",
       "      <th></th>\n",
       "      <th></th>\n",
       "      <th></th>\n",
       "      <th></th>\n",
       "      <th></th>\n",
       "      <th></th>\n",
       "      <th></th>\n",
       "      <th></th>\n",
       "      <th></th>\n",
       "      <th></th>\n",
       "      <th></th>\n",
       "      <th></th>\n",
       "      <th></th>\n",
       "      <th></th>\n",
       "      <th></th>\n",
       "      <th></th>\n",
       "      <th></th>\n",
       "      <th></th>\n",
       "      <th></th>\n",
       "      <th></th>\n",
       "      <th></th>\n",
       "    </tr>\n",
       "  </thead>\n",
       "  <tbody>\n",
       "    <tr>\n",
       "      <th>230032</th>\n",
       "      <td>1696.0</td>\n",
       "      <td>1.6541</td>\n",
       "      <td>0.000</td>\n",
       "      <td>0.0</td>\n",
       "      <td>0.0</td>\n",
       "      <td>0.000000</td>\n",
       "      <td>1.000000</td>\n",
       "      <td>1.000000</td>\n",
       "      <td>3.0</td>\n",
       "      <td>3.0</td>\n",
       "      <td>94.780000</td>\n",
       "      <td>8987.180000</td>\n",
       "      <td>4305.929828</td>\n",
       "      <td>72.250000</td>\n",
       "      <td>1462.000000</td>\n",
       "      <td>4532.000000</td>\n",
       "      <td>3376.000000</td>\n",
       "      <td>625.000000</td>\n",
       "      <td>1.1667</td>\n",
       "      <td>1.0</td>\n",
       "      <td>0.000000</td>\n",
       "      <td>8.0</td>\n",
       "      <td>10.000000</td>\n",
       "      <td>4.0</td>\n",
       "      <td>1.0</td>\n",
       "      <td>73.780000</td>\n",
       "      <td>82.547000</td>\n",
       "      <td>0.08696</td>\n",
       "      <td>10.0</td>\n",
       "      <td>0.63899</td>\n",
       "      <td>0.070736</td>\n",
       "      <td>0.000000</td>\n",
       "      <td>0.0</td>\n",
       "      <td>0</td>\n",
       "    </tr>\n",
       "    <tr>\n",
       "      <th>230033</th>\n",
       "      <td>1846.0</td>\n",
       "      <td>0.8095</td>\n",
       "      <td>0.000</td>\n",
       "      <td>0.0</td>\n",
       "      <td>0.0</td>\n",
       "      <td>102.000000</td>\n",
       "      <td>0.000000</td>\n",
       "      <td>0.000000</td>\n",
       "      <td>0.0</td>\n",
       "      <td>0.0</td>\n",
       "      <td>74.250000</td>\n",
       "      <td>953.060000</td>\n",
       "      <td>953.060000</td>\n",
       "      <td>4.800000</td>\n",
       "      <td>1028.000000</td>\n",
       "      <td>2099.000000</td>\n",
       "      <td>2251.000000</td>\n",
       "      <td>169.000000</td>\n",
       "      <td>0.4167</td>\n",
       "      <td>0.0</td>\n",
       "      <td>0.000000</td>\n",
       "      <td>8.0</td>\n",
       "      <td>0.000000</td>\n",
       "      <td>2.0</td>\n",
       "      <td>0.0</td>\n",
       "      <td>99.129000</td>\n",
       "      <td>72.096758</td>\n",
       "      <td>0.00000</td>\n",
       "      <td>13.0</td>\n",
       "      <td>0.63836</td>\n",
       "      <td>0.070736</td>\n",
       "      <td>0.096135</td>\n",
       "      <td>1.0</td>\n",
       "      <td>1</td>\n",
       "    </tr>\n",
       "    <tr>\n",
       "      <th>230034</th>\n",
       "      <td>1745.0</td>\n",
       "      <td>0.4001</td>\n",
       "      <td>0.000</td>\n",
       "      <td>0.0</td>\n",
       "      <td>0.0</td>\n",
       "      <td>1606.702372</td>\n",
       "      <td>0.266281</td>\n",
       "      <td>0.272026</td>\n",
       "      <td>0.0</td>\n",
       "      <td>0.0</td>\n",
       "      <td>57.790097</td>\n",
       "      <td>4423.856509</td>\n",
       "      <td>4305.929828</td>\n",
       "      <td>69.981834</td>\n",
       "      <td>1750.065303</td>\n",
       "      <td>3369.121848</td>\n",
       "      <td>3626.892986</td>\n",
       "      <td>470.430879</td>\n",
       "      <td>25.0833</td>\n",
       "      <td>0.0</td>\n",
       "      <td>0.198123</td>\n",
       "      <td>1.0</td>\n",
       "      <td>4.251362</td>\n",
       "      <td>1.0</td>\n",
       "      <td>0.0</td>\n",
       "      <td>98.497452</td>\n",
       "      <td>29.290000</td>\n",
       "      <td>0.00000</td>\n",
       "      <td>1.0</td>\n",
       "      <td>1.00000</td>\n",
       "      <td>0.070736</td>\n",
       "      <td>0.000000</td>\n",
       "      <td>0.0</td>\n",
       "      <td>1</td>\n",
       "    </tr>\n",
       "    <tr>\n",
       "      <th>230035</th>\n",
       "      <td>1739.0</td>\n",
       "      <td>0.2193</td>\n",
       "      <td>0.000</td>\n",
       "      <td>0.0</td>\n",
       "      <td>0.0</td>\n",
       "      <td>1982.000000</td>\n",
       "      <td>0.000000</td>\n",
       "      <td>0.000000</td>\n",
       "      <td>0.0</td>\n",
       "      <td>0.0</td>\n",
       "      <td>57.790097</td>\n",
       "      <td>0.000000</td>\n",
       "      <td>4305.929828</td>\n",
       "      <td>0.000000</td>\n",
       "      <td>1308.000000</td>\n",
       "      <td>2525.000000</td>\n",
       "      <td>3741.000000</td>\n",
       "      <td>215.000000</td>\n",
       "      <td>10.3333</td>\n",
       "      <td>0.0</td>\n",
       "      <td>0.000000</td>\n",
       "      <td>3.0</td>\n",
       "      <td>3.000000</td>\n",
       "      <td>2.0</td>\n",
       "      <td>0.0</td>\n",
       "      <td>96.272000</td>\n",
       "      <td>72.096758</td>\n",
       "      <td>0.15385</td>\n",
       "      <td>3.0</td>\n",
       "      <td>0.53241</td>\n",
       "      <td>0.000000</td>\n",
       "      <td>0.000000</td>\n",
       "      <td>1.0</td>\n",
       "      <td>0</td>\n",
       "    </tr>\n",
       "    <tr>\n",
       "      <th>230036</th>\n",
       "      <td>1787.0</td>\n",
       "      <td>0.0118</td>\n",
       "      <td>0.225</td>\n",
       "      <td>0.0</td>\n",
       "      <td>0.0</td>\n",
       "      <td>5451.000000</td>\n",
       "      <td>0.000000</td>\n",
       "      <td>0.000000</td>\n",
       "      <td>0.0</td>\n",
       "      <td>0.0</td>\n",
       "      <td>20.510000</td>\n",
       "      <td>796.670000</td>\n",
       "      <td>4305.929828</td>\n",
       "      <td>28.720000</td>\n",
       "      <td>801.000000</td>\n",
       "      <td>2281.000000</td>\n",
       "      <td>1947.000000</td>\n",
       "      <td>158.000000</td>\n",
       "      <td>0.9167</td>\n",
       "      <td>0.0</td>\n",
       "      <td>0.000000</td>\n",
       "      <td>2.0</td>\n",
       "      <td>3.000000</td>\n",
       "      <td>2.0</td>\n",
       "      <td>0.0</td>\n",
       "      <td>115.019000</td>\n",
       "      <td>72.096758</td>\n",
       "      <td>0.00000</td>\n",
       "      <td>1.0</td>\n",
       "      <td>0.92665</td>\n",
       "      <td>0.070736</td>\n",
       "      <td>0.096135</td>\n",
       "      <td>1.0</td>\n",
       "      <td>0</td>\n",
       "    </tr>\n",
       "  </tbody>\n",
       "</table>\n",
       "</div>"
      ],
      "text/plain": [
       "                      0       1      2    3    4            5        16  \\\n",
       "application_key                                                           \n",
       "230032           1696.0  1.6541  0.000  0.0  0.0     0.000000  1.000000   \n",
       "230033           1846.0  0.8095  0.000  0.0  0.0   102.000000  0.000000   \n",
       "230034           1745.0  0.4001  0.000  0.0  0.0  1606.702372  0.266281   \n",
       "230035           1739.0  0.2193  0.000  0.0  0.0  1982.000000  0.000000   \n",
       "230036           1787.0  0.0118  0.225  0.0  0.0  5451.000000  0.000000   \n",
       "\n",
       "                       17   18   19         20           21           22  \\\n",
       "application_key                                                            \n",
       "230032           1.000000  3.0  3.0  94.780000  8987.180000  4305.929828   \n",
       "230033           0.000000  0.0  0.0  74.250000   953.060000   953.060000   \n",
       "230034           0.272026  0.0  0.0  57.790097  4423.856509  4305.929828   \n",
       "230035           0.000000  0.0  0.0  57.790097     0.000000  4305.929828   \n",
       "230036           0.000000  0.0  0.0  20.510000   796.670000  4305.929828   \n",
       "\n",
       "                        23           24           25           30          31  \\\n",
       "application_key                                                                 \n",
       "230032           72.250000  1462.000000  4532.000000  3376.000000  625.000000   \n",
       "230033            4.800000  1028.000000  2099.000000  2251.000000  169.000000   \n",
       "230034           69.981834  1750.065303  3369.121848  3626.892986  470.430879   \n",
       "230035            0.000000  1308.000000  2525.000000  3741.000000  215.000000   \n",
       "230036           28.720000   801.000000  2281.000000  1947.000000  158.000000   \n",
       "\n",
       "                      32   33        34   35         36   37   38          39  \\\n",
       "application_key                                                                 \n",
       "230032            1.1667  1.0  0.000000  8.0  10.000000  4.0  1.0   73.780000   \n",
       "230033            0.4167  0.0  0.000000  8.0   0.000000  2.0  0.0   99.129000   \n",
       "230034           25.0833  0.0  0.198123  1.0   4.251362  1.0  0.0   98.497452   \n",
       "230035           10.3333  0.0  0.000000  3.0   3.000000  2.0  0.0   96.272000   \n",
       "230036            0.9167  0.0  0.000000  2.0   3.000000  2.0  0.0  115.019000   \n",
       "\n",
       "                        40       41    42       43        44        45   46  \\\n",
       "application_key                                                               \n",
       "230032           82.547000  0.08696  10.0  0.63899  0.070736  0.000000  0.0   \n",
       "230033           72.096758  0.00000  13.0  0.63836  0.070736  0.096135  1.0   \n",
       "230034           29.290000  0.00000   1.0  1.00000  0.070736  0.000000  0.0   \n",
       "230035           72.096758  0.15385   3.0  0.53241  0.000000  0.000000  1.0   \n",
       "230036           72.096758  0.00000   1.0  0.92665  0.070736  0.096135  1.0   \n",
       "\n",
       "                 default_ind  \n",
       "application_key               \n",
       "230032                     0  \n",
       "230033                     1  \n",
       "230034                     1  \n",
       "230035                     0  \n",
       "230036                     0  "
      ]
     },
     "execution_count": 92,
     "metadata": {},
     "output_type": "execute_result"
    }
   ],
   "source": [
    "new_df.head()"
   ]
  },
  {
   "cell_type": "code",
   "execution_count": null,
   "metadata": {},
   "outputs": [],
   "source": []
  }
 ],
 "metadata": {
  "kernelspec": {
   "display_name": "Python 3",
   "language": "python",
   "name": "python3"
  },
  "language_info": {
   "codemirror_mode": {
    "name": "ipython",
    "version": 3
   },
   "file_extension": ".py",
   "mimetype": "text/x-python",
   "name": "python",
   "nbconvert_exporter": "python",
   "pygments_lexer": "ipython3",
   "version": "3.6.4"
  }
 },
 "nbformat": 4,
 "nbformat_minor": 2
}
