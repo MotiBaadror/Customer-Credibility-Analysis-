{
 "cells": [
  {
   "cell_type": "code",
   "execution_count": 1,
   "metadata": {},
   "outputs": [],
   "source": [
    "import pandas as pd \n",
    "import numpy as np\n",
    "import matplotlib.pyplot as plt\n",
    "%matplotlib inline \n",
    "pd.set_option('display.max_columns',None)"
   ]
  },
  {
   "cell_type": "code",
   "execution_count": 2,
   "metadata": {},
   "outputs": [
    {
     "data": {
      "text/html": [
       "<div>\n",
       "<style scoped>\n",
       "    .dataframe tbody tr th:only-of-type {\n",
       "        vertical-align: middle;\n",
       "    }\n",
       "\n",
       "    .dataframe tbody tr th {\n",
       "        vertical-align: top;\n",
       "    }\n",
       "\n",
       "    .dataframe thead th {\n",
       "        text-align: right;\n",
       "    }\n",
       "</style>\n",
       "<table border=\"1\" class=\"dataframe\">\n",
       "  <thead>\n",
       "    <tr style=\"text-align: right;\">\n",
       "      <th></th>\n",
       "      <th>0</th>\n",
       "      <th>1</th>\n",
       "      <th>2</th>\n",
       "      <th>3</th>\n",
       "      <th>4</th>\n",
       "      <th>5</th>\n",
       "      <th>6</th>\n",
       "      <th>7</th>\n",
       "      <th>8</th>\n",
       "      <th>9</th>\n",
       "      <th>10</th>\n",
       "      <th>11</th>\n",
       "      <th>12</th>\n",
       "      <th>13</th>\n",
       "      <th>14</th>\n",
       "      <th>15</th>\n",
       "      <th>16</th>\n",
       "      <th>17</th>\n",
       "      <th>18</th>\n",
       "      <th>19</th>\n",
       "      <th>20</th>\n",
       "      <th>21</th>\n",
       "      <th>22</th>\n",
       "      <th>23</th>\n",
       "      <th>24</th>\n",
       "      <th>25</th>\n",
       "      <th>26</th>\n",
       "      <th>27</th>\n",
       "      <th>28</th>\n",
       "      <th>29</th>\n",
       "      <th>30</th>\n",
       "      <th>31</th>\n",
       "      <th>32</th>\n",
       "      <th>33</th>\n",
       "      <th>34</th>\n",
       "      <th>35</th>\n",
       "      <th>36</th>\n",
       "      <th>37</th>\n",
       "      <th>38</th>\n",
       "      <th>39</th>\n",
       "      <th>40</th>\n",
       "      <th>41</th>\n",
       "      <th>42</th>\n",
       "      <th>43</th>\n",
       "    </tr>\n",
       "    <tr>\n",
       "      <th>application_key</th>\n",
       "      <th></th>\n",
       "      <th></th>\n",
       "      <th></th>\n",
       "      <th></th>\n",
       "      <th></th>\n",
       "      <th></th>\n",
       "      <th></th>\n",
       "      <th></th>\n",
       "      <th></th>\n",
       "      <th></th>\n",
       "      <th></th>\n",
       "      <th></th>\n",
       "      <th></th>\n",
       "      <th></th>\n",
       "      <th></th>\n",
       "      <th></th>\n",
       "      <th></th>\n",
       "      <th></th>\n",
       "      <th></th>\n",
       "      <th></th>\n",
       "      <th></th>\n",
       "      <th></th>\n",
       "      <th></th>\n",
       "      <th></th>\n",
       "      <th></th>\n",
       "      <th></th>\n",
       "      <th></th>\n",
       "      <th></th>\n",
       "      <th></th>\n",
       "      <th></th>\n",
       "      <th></th>\n",
       "      <th></th>\n",
       "      <th></th>\n",
       "      <th></th>\n",
       "      <th></th>\n",
       "      <th></th>\n",
       "      <th></th>\n",
       "      <th></th>\n",
       "      <th></th>\n",
       "      <th></th>\n",
       "      <th></th>\n",
       "      <th></th>\n",
       "      <th></th>\n",
       "      <th></th>\n",
       "    </tr>\n",
       "  </thead>\n",
       "  <tbody>\n",
       "    <tr>\n",
       "      <th>230032</th>\n",
       "      <td>1696.0</td>\n",
       "      <td>1.6541</td>\n",
       "      <td>0.0</td>\n",
       "      <td>0.0</td>\n",
       "      <td>0.0</td>\n",
       "      <td>0.0</td>\n",
       "      <td>6015.0</td>\n",
       "      <td>322.0</td>\n",
       "      <td>40369.000000</td>\n",
       "      <td>18414.0</td>\n",
       "      <td>1780.0</td>\n",
       "      <td>6423.0</td>\n",
       "      <td>3067.0</td>\n",
       "      <td>123875.0</td>\n",
       "      <td>216152.0</td>\n",
       "      <td>1.0</td>\n",
       "      <td>1.0</td>\n",
       "      <td>1.0</td>\n",
       "      <td>3.0</td>\n",
       "      <td>3.0</td>\n",
       "      <td>94.78</td>\n",
       "      <td>8987.180</td>\n",
       "      <td>3700.00</td>\n",
       "      <td>72.25</td>\n",
       "      <td>1462.0</td>\n",
       "      <td>4532.0</td>\n",
       "      <td>2890.0</td>\n",
       "      <td>61.0</td>\n",
       "      <td>4532.0</td>\n",
       "      <td>1095.0</td>\n",
       "      <td>625.0</td>\n",
       "      <td>1.1667</td>\n",
       "      <td>8.0</td>\n",
       "      <td>10.0</td>\n",
       "      <td>4.0</td>\n",
       "      <td>1.0</td>\n",
       "      <td>0.08696</td>\n",
       "      <td>10.0</td>\n",
       "      <td>0.63899</td>\n",
       "      <td>0.0</td>\n",
       "      <td>1.0</td>\n",
       "      <td>156.327000</td>\n",
       "      <td>0.0</td>\n",
       "      <td>0.0</td>\n",
       "    </tr>\n",
       "    <tr>\n",
       "      <th>230033</th>\n",
       "      <td>1846.0</td>\n",
       "      <td>0.8095</td>\n",
       "      <td>0.0</td>\n",
       "      <td>0.0</td>\n",
       "      <td>0.0</td>\n",
       "      <td>102.0</td>\n",
       "      <td>7532.0</td>\n",
       "      <td>3171.0</td>\n",
       "      <td>18234.000000</td>\n",
       "      <td>13664.0</td>\n",
       "      <td>1780.0</td>\n",
       "      <td>765.0</td>\n",
       "      <td>1931.0</td>\n",
       "      <td>42613.0</td>\n",
       "      <td>216152.0</td>\n",
       "      <td>0.0</td>\n",
       "      <td>0.0</td>\n",
       "      <td>0.0</td>\n",
       "      <td>0.0</td>\n",
       "      <td>0.0</td>\n",
       "      <td>74.25</td>\n",
       "      <td>953.060</td>\n",
       "      <td>953.06</td>\n",
       "      <td>4.80</td>\n",
       "      <td>1028.0</td>\n",
       "      <td>2099.0</td>\n",
       "      <td>2099.0</td>\n",
       "      <td>30386.0</td>\n",
       "      <td>2281.0</td>\n",
       "      <td>2829.0</td>\n",
       "      <td>169.0</td>\n",
       "      <td>0.4167</td>\n",
       "      <td>8.0</td>\n",
       "      <td>0.0</td>\n",
       "      <td>2.0</td>\n",
       "      <td>0.0</td>\n",
       "      <td>0.00000</td>\n",
       "      <td>13.0</td>\n",
       "      <td>0.63836</td>\n",
       "      <td>1.0</td>\n",
       "      <td>0.0</td>\n",
       "      <td>99.129000</td>\n",
       "      <td>0.0</td>\n",
       "      <td>1.0</td>\n",
       "    </tr>\n",
       "    <tr>\n",
       "      <th>230034</th>\n",
       "      <td>1745.0</td>\n",
       "      <td>0.4001</td>\n",
       "      <td>0.0</td>\n",
       "      <td>0.0</td>\n",
       "      <td>0.0</td>\n",
       "      <td>297.0</td>\n",
       "      <td>2536.0</td>\n",
       "      <td>2478.0</td>\n",
       "      <td>34097.436013</td>\n",
       "      <td>2536.0</td>\n",
       "      <td>1780.0</td>\n",
       "      <td>2977.5</td>\n",
       "      <td>4090.0</td>\n",
       "      <td>76109.0</td>\n",
       "      <td>216152.0</td>\n",
       "      <td>0.0</td>\n",
       "      <td>0.0</td>\n",
       "      <td>0.0</td>\n",
       "      <td>0.0</td>\n",
       "      <td>0.0</td>\n",
       "      <td>59.69</td>\n",
       "      <td>3974.425</td>\n",
       "      <td>3700.00</td>\n",
       "      <td>40.44</td>\n",
       "      <td>1472.0</td>\n",
       "      <td>2738.0</td>\n",
       "      <td>2555.0</td>\n",
       "      <td>669.0</td>\n",
       "      <td>4623.0</td>\n",
       "      <td>3772.0</td>\n",
       "      <td>300.0</td>\n",
       "      <td>25.0833</td>\n",
       "      <td>1.0</td>\n",
       "      <td>3.0</td>\n",
       "      <td>1.0</td>\n",
       "      <td>0.0</td>\n",
       "      <td>0.00000</td>\n",
       "      <td>1.0</td>\n",
       "      <td>1.00000</td>\n",
       "      <td>0.0</td>\n",
       "      <td>0.0</td>\n",
       "      <td>127.787452</td>\n",
       "      <td>0.0</td>\n",
       "      <td>1.0</td>\n",
       "    </tr>\n",
       "  </tbody>\n",
       "</table>\n",
       "</div>"
      ],
      "text/plain": [
       "                      0       1    2    3    4      5       6       7  \\\n",
       "application_key                                                         \n",
       "230032           1696.0  1.6541  0.0  0.0  0.0    0.0  6015.0   322.0   \n",
       "230033           1846.0  0.8095  0.0  0.0  0.0  102.0  7532.0  3171.0   \n",
       "230034           1745.0  0.4001  0.0  0.0  0.0  297.0  2536.0  2478.0   \n",
       "\n",
       "                            8        9      10      11      12        13  \\\n",
       "application_key                                                            \n",
       "230032           40369.000000  18414.0  1780.0  6423.0  3067.0  123875.0   \n",
       "230033           18234.000000  13664.0  1780.0   765.0  1931.0   42613.0   \n",
       "230034           34097.436013   2536.0  1780.0  2977.5  4090.0   76109.0   \n",
       "\n",
       "                       14   15   16   17   18   19     20        21       22  \\\n",
       "application_key                                                                \n",
       "230032           216152.0  1.0  1.0  1.0  3.0  3.0  94.78  8987.180  3700.00   \n",
       "230033           216152.0  0.0  0.0  0.0  0.0  0.0  74.25   953.060   953.06   \n",
       "230034           216152.0  0.0  0.0  0.0  0.0  0.0  59.69  3974.425  3700.00   \n",
       "\n",
       "                    23      24      25      26       27      28      29  \\\n",
       "application_key                                                           \n",
       "230032           72.25  1462.0  4532.0  2890.0     61.0  4532.0  1095.0   \n",
       "230033            4.80  1028.0  2099.0  2099.0  30386.0  2281.0  2829.0   \n",
       "230034           40.44  1472.0  2738.0  2555.0    669.0  4623.0  3772.0   \n",
       "\n",
       "                    30       31   32    33   34   35       36    37       38  \\\n",
       "application_key                                                                \n",
       "230032           625.0   1.1667  8.0  10.0  4.0  1.0  0.08696  10.0  0.63899   \n",
       "230033           169.0   0.4167  8.0   0.0  2.0  0.0  0.00000  13.0  0.63836   \n",
       "230034           300.0  25.0833  1.0   3.0  1.0  0.0  0.00000   1.0  1.00000   \n",
       "\n",
       "                  39   40          41   42   43  \n",
       "application_key                                  \n",
       "230032           0.0  1.0  156.327000  0.0  0.0  \n",
       "230033           1.0  0.0   99.129000  0.0  1.0  \n",
       "230034           0.0  0.0  127.787452  0.0  1.0  "
      ]
     },
     "execution_count": 2,
     "metadata": {},
     "output_type": "execute_result"
    }
   ],
   "source": [
    "train_df=pd.read_csv('Training_manual_cleaned_sh.csv',index_col='application_key')\n",
    "# from scipy import stats\n",
    "# z = np.abs(stats.zscore(train_df))\n",
    "# threshold = 3\n",
    "# # print(np.where(z > 3))\n",
    "# train_df=train_df[(z<3).all(axis=1)]\n",
    "X=train_df.iloc[:,:-1]\n",
    "Y=train_df.iloc[:,-1]\n",
    "train_df.head(3)\n",
    "# (X.shape,Y.shape)\n",
    "# train_df.columns\n"
   ]
  },
  {
   "cell_type": "code",
   "execution_count": 3,
   "metadata": {},
   "outputs": [
    {
     "data": {
      "text/plain": [
       "((47922, 43), (47922,), (23604, 43))"
      ]
     },
     "execution_count": 3,
     "metadata": {},
     "output_type": "execute_result"
    }
   ],
   "source": [
    "from sklearn.model_selection import cross_val_score\n",
    "from sklearn.model_selection import train_test_split\n",
    "X_train, X_test, Y_train, Y_test = train_test_split(\n",
    "   X ,Y , test_size=0.33, random_state=42)\n",
    "X_train.shape, Y_train.shape, X_test.shape"
   ]
  },
  {
   "cell_type": "code",
   "execution_count": 4,
   "metadata": {},
   "outputs": [
    {
     "name": "stderr",
     "output_type": "stream",
     "text": [
      "C:\\Users\\BaadRoR\\Anaconda3\\lib\\site-packages\\sklearn\\cross_validation.py:41: DeprecationWarning: This module was deprecated in version 0.18 in favor of the model_selection module into which all the refactored classes and functions are moved. Also note that the interface of the new CV iterators are different from that of this module. This module will be removed in 0.20.\n",
      "  \"This module will be removed in 0.20.\", DeprecationWarning)\n",
      "C:\\Users\\BaadRoR\\Anaconda3\\lib\\site-packages\\sklearn\\grid_search.py:42: DeprecationWarning: This module was deprecated in version 0.18 in favor of the model_selection module into which all the refactored classes and functions are moved. This module will be removed in 0.20.\n",
      "  DeprecationWarning)\n"
     ]
    }
   ],
   "source": [
    "from sklearn.ensemble import GradientBoostingClassifier\n",
    "from sklearn import cross_validation, metrics\n",
    "from sklearn.grid_search import GridSearchCV\n",
    "from matplotlib.pylab import rcParams\n",
    "rcParams['figure.figsize'] = 12, 4"
   ]
  },
  {
   "cell_type": "code",
   "execution_count": 5,
   "metadata": {},
   "outputs": [],
   "source": [
    "from sklearn import ensemble\n",
    "from sklearn.utils import shuffle\n",
    "from sklearn.metrics import mean_squared_error"
   ]
  },
  {
   "cell_type": "code",
   "execution_count": 6,
   "metadata": {},
   "outputs": [
    {
     "name": "stdout",
     "output_type": "stream",
     "text": [
      "MSE: 0.1436\n"
     ]
    }
   ],
   "source": [
    "offset = int(X.shape[0] * 0.9)\n",
    "X_train, y_train = X[:offset], Y[:offset]\n",
    "X_test, y_test = X[offset:], Y[offset:]\n",
    "params = {'n_estimators': 500, 'max_depth': 4, 'min_samples_split': 2,\n",
    "          'learning_rate': 0.01, 'loss': 'ls'}\n",
    "clf = ensemble.GradientBoostingRegressor(**params)\n",
    "\n",
    "clf.fit(X_train, y_train)\n",
    "mse = mean_squared_error(y_test, clf.predict(X_test))\n",
    "print(\"MSE: %.4f\" % mse)"
   ]
  },
  {
   "cell_type": "code",
   "execution_count": 7,
   "metadata": {},
   "outputs": [
    {
     "data": {
      "text/plain": [
       "Text(0,0.5,'Deviance')"
      ]
     },
     "execution_count": 7,
     "metadata": {},
     "output_type": "execute_result"
    },
    {
     "data": {
      "image/png": "[encoded data removed]",
      "text/plain": [
       "<matplotlib.figure.Figure at 0x260c3b762e8>"
      ]
     },
     "metadata": {},
     "output_type": "display_data"
    }
   ],
   "source": [
    "test_score = np.zeros((params['n_estimators'],), dtype=np.float64)\n",
    "\n",
    "for i, y_pred in enumerate(clf.staged_predict(X_test)):\n",
    "    test_score[i] = clf.loss_(y_test, y_pred)\n",
    "\n",
    "plt.figure(figsize=(12, 6))\n",
    "plt.subplot(1, 2, 1)\n",
    "plt.title('Deviance')\n",
    "plt.plot(np.arange(params['n_estimators']) + 1, clf.train_score_, 'b-',\n",
    "         label='Training Set Deviance')\n",
    "plt.plot(np.arange(params['n_estimators']) + 1, test_score, 'r-',\n",
    "         label='Test Set Deviance')\n",
    "plt.legend(loc='upper right')\n",
    "plt.xlabel('Boosting Iterations')\n",
    "plt.ylabel('Deviance')"
   ]
  },
  {
   "cell_type": "code",
   "execution_count": 8,
   "metadata": {},
   "outputs": [
    {
     "data": {
      "image/png": "[encoded data removed]",
      "text/plain": [
       "<matplotlib.figure.Figure at 0x260c7862f98>"
      ]
     },
     "metadata": {},
     "output_type": "display_data"
    },
    {
     "data": {
      "text/plain": [
       "<matplotlib.figure.Figure at 0x260c65c45c0>"
      ]
     },
     "metadata": {},
     "output_type": "display_data"
    }
   ],
   "source": [
    "feature_importance = clf.feature_importances_\n",
    "# make importances relative to max importance\n",
    "feature_importance = 100.0 * (feature_importance / feature_importance.max())\n",
    "sorted_idx = np.argsort(feature_importance)\n",
    "pos = np.arange(sorted_idx.shape[0]) + .5\n",
    "plt.figure(figsize=(10,10))\n",
    "ax=plt.subplot(1, 1,1)\n",
    "plt.barh(pos, feature_importance[sorted_idx], align='center')\n",
    "plt.yticks(pos, X.columns[sorted_idx])\n",
    "plt.xlabel('Relative Importance')\n",
    "plt.title('Variable Importance')\n",
    "fig=plt.figure(figsize=(15,15))\n",
    "plt.show()"
   ]
  },
  {
   "cell_type": "code",
   "execution_count": null,
   "metadata": {},
   "outputs": [],
   "source": [
    "35, 10, 11, 20, 27,  2, 16,  4, 26, 13, 19, 30, 28, 31,  7, 38, 29,\n",
    "       21, 32, 42,  8, 15, 12, 34, 17, 25,  3, 23, 22, 14, 37, 33, 24,  9,\n",
    "       18, 41, 36,  6,  5, 40, 39,  1,  0"
   ]
  },
  {
   "cell_type": "code",
   "execution_count": 9,
   "metadata": {},
   "outputs": [
    {
     "data": {
      "text/plain": [
       "array([35, 20,  2, 11, 10, 27, 16, 26, 19,  4, 28, 13, 29, 31, 30, 21,  7,\n",
       "       42,  8, 15, 34, 12, 17, 32, 25, 38, 23,  3, 22, 37, 14, 33, 41, 18,\n",
       "       24,  9, 36,  5,  6, 40, 39,  1,  0], dtype=int64)"
      ]
     },
     "execution_count": 9,
     "metadata": {},
     "output_type": "execute_result"
    }
   ],
   "source": [
    "sorted_idx"
   ]
  },
  {
   "cell_type": "code",
   "execution_count": null,
   "metadata": {},
   "outputs": [],
   "source": []
  }
 ],
 "metadata": {
  "kernelspec": {
   "display_name": "Python 3",
   "language": "python",
   "name": "python3"
  },
  "language_info": {
   "codemirror_mode": {
    "name": "ipython",
    "version": 3
   },
   "file_extension": ".py",
   "mimetype": "text/x-python",
   "name": "python",
   "nbconvert_exporter": "python",
   "pygments_lexer": "ipython3",
   "version": "3.6.4"
  }
 },
 "nbformat": 4,
 "nbformat_minor": 2
}
