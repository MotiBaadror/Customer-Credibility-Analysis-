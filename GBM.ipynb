{
 "cells": [
  {
   "cell_type": "code",
   "execution_count": 1,
   "metadata": {},
   "outputs": [],
   "source": [
    "import pandas as pd \n",
    "import numpy as np\n",
    "import matplotlib.pyplot as plt\n",
    "%matplotlib inline \n",
    "pd.set_option('display.max_columns',None)"
   ]
  },
  {
   "cell_type": "code",
   "execution_count": 44,
   "metadata": {},
   "outputs": [
    {
     "data": {
      "text/html": [
       "<div>\n",
       "<style scoped>\n",
       "    .dataframe tbody tr th:only-of-type {\n",
       "        vertical-align: middle;\n",
       "    }\n",
       "\n",
       "    .dataframe tbody tr th {\n",
       "        vertical-align: top;\n",
       "    }\n",
       "\n",
       "    .dataframe thead th {\n",
       "        text-align: right;\n",
       "    }\n",
       "</style>\n",
       "<table border=\"1\" class=\"dataframe\">\n",
       "  <thead>\n",
       "    <tr style=\"text-align: right;\">\n",
       "      <th></th>\n",
       "      <th>0</th>\n",
       "      <th>1</th>\n",
       "      <th>2</th>\n",
       "      <th>3</th>\n",
       "      <th>4</th>\n",
       "      <th>5</th>\n",
       "      <th>6</th>\n",
       "      <th>7</th>\n",
       "      <th>8</th>\n",
       "      <th>9</th>\n",
       "      <th>10</th>\n",
       "      <th>11</th>\n",
       "      <th>12</th>\n",
       "      <th>13</th>\n",
       "      <th>14</th>\n",
       "      <th>15</th>\n",
       "      <th>16</th>\n",
       "      <th>17</th>\n",
       "      <th>18</th>\n",
       "      <th>19</th>\n",
       "      <th>20</th>\n",
       "      <th>21</th>\n",
       "      <th>22</th>\n",
       "      <th>23</th>\n",
       "      <th>24</th>\n",
       "      <th>25</th>\n",
       "      <th>26</th>\n",
       "      <th>27</th>\n",
       "      <th>28</th>\n",
       "      <th>29</th>\n",
       "      <th>30</th>\n",
       "      <th>31</th>\n",
       "      <th>32</th>\n",
       "      <th>33</th>\n",
       "      <th>34</th>\n",
       "      <th>35</th>\n",
       "    </tr>\n",
       "    <tr>\n",
       "      <th>application_key</th>\n",
       "      <th></th>\n",
       "      <th></th>\n",
       "      <th></th>\n",
       "      <th></th>\n",
       "      <th></th>\n",
       "      <th></th>\n",
       "      <th></th>\n",
       "      <th></th>\n",
       "      <th></th>\n",
       "      <th></th>\n",
       "      <th></th>\n",
       "      <th></th>\n",
       "      <th></th>\n",
       "      <th></th>\n",
       "      <th></th>\n",
       "      <th></th>\n",
       "      <th></th>\n",
       "      <th></th>\n",
       "      <th></th>\n",
       "      <th></th>\n",
       "      <th></th>\n",
       "      <th></th>\n",
       "      <th></th>\n",
       "      <th></th>\n",
       "      <th></th>\n",
       "      <th></th>\n",
       "      <th></th>\n",
       "      <th></th>\n",
       "      <th></th>\n",
       "      <th></th>\n",
       "      <th></th>\n",
       "      <th></th>\n",
       "      <th></th>\n",
       "      <th></th>\n",
       "      <th></th>\n",
       "      <th></th>\n",
       "    </tr>\n",
       "  </thead>\n",
       "  <tbody>\n",
       "    <tr>\n",
       "      <th>230032</th>\n",
       "      <td>1696.0</td>\n",
       "      <td>1.6541</td>\n",
       "      <td>40369.000000</td>\n",
       "      <td>18414.0</td>\n",
       "      <td>1780.0</td>\n",
       "      <td>6423.0</td>\n",
       "      <td>3067.0</td>\n",
       "      <td>123875.0</td>\n",
       "      <td>216152.0</td>\n",
       "      <td>94.78</td>\n",
       "      <td>8987.180</td>\n",
       "      <td>3700.00</td>\n",
       "      <td>72.25</td>\n",
       "      <td>1462.0</td>\n",
       "      <td>61.0</td>\n",
       "      <td>4532.0</td>\n",
       "      <td>1095.0</td>\n",
       "      <td>625.0</td>\n",
       "      <td>1.1667</td>\n",
       "      <td>8.0</td>\n",
       "      <td>10.0</td>\n",
       "      <td>4.0</td>\n",
       "      <td>1.0</td>\n",
       "      <td>0.08696</td>\n",
       "      <td>10.0</td>\n",
       "      <td>0.63899</td>\n",
       "      <td>0.0</td>\n",
       "      <td>1.0</td>\n",
       "      <td>156.327</td>\n",
       "      <td>0.0</td>\n",
       "      <td>0.000</td>\n",
       "      <td>6337.0</td>\n",
       "      <td>3.0</td>\n",
       "      <td>4.0</td>\n",
       "      <td>7422.0</td>\n",
       "      <td>0.0</td>\n",
       "    </tr>\n",
       "    <tr>\n",
       "      <th>230033</th>\n",
       "      <td>1846.0</td>\n",
       "      <td>0.8095</td>\n",
       "      <td>18234.000000</td>\n",
       "      <td>13664.0</td>\n",
       "      <td>1780.0</td>\n",
       "      <td>765.0</td>\n",
       "      <td>1931.0</td>\n",
       "      <td>42613.0</td>\n",
       "      <td>216152.0</td>\n",
       "      <td>74.25</td>\n",
       "      <td>953.060</td>\n",
       "      <td>953.06</td>\n",
       "      <td>4.80</td>\n",
       "      <td>1028.0</td>\n",
       "      <td>30386.0</td>\n",
       "      <td>2281.0</td>\n",
       "      <td>2829.0</td>\n",
       "      <td>169.0</td>\n",
       "      <td>0.4167</td>\n",
       "      <td>8.0</td>\n",
       "      <td>0.0</td>\n",
       "      <td>2.0</td>\n",
       "      <td>0.0</td>\n",
       "      <td>0.00000</td>\n",
       "      <td>13.0</td>\n",
       "      <td>0.63836</td>\n",
       "      <td>1.0</td>\n",
       "      <td>0.0</td>\n",
       "      <td>99.129</td>\n",
       "      <td>0.0</td>\n",
       "      <td>0.000</td>\n",
       "      <td>10805.0</td>\n",
       "      <td>0.0</td>\n",
       "      <td>0.0</td>\n",
       "      <td>4198.0</td>\n",
       "      <td>1.0</td>\n",
       "    </tr>\n",
       "    <tr>\n",
       "      <th>230034</th>\n",
       "      <td>1745.0</td>\n",
       "      <td>0.4001</td>\n",
       "      <td>34097.436013</td>\n",
       "      <td>2536.0</td>\n",
       "      <td>1780.0</td>\n",
       "      <td>2977.5</td>\n",
       "      <td>4090.0</td>\n",
       "      <td>76109.0</td>\n",
       "      <td>216152.0</td>\n",
       "      <td>59.69</td>\n",
       "      <td>3974.425</td>\n",
       "      <td>3700.00</td>\n",
       "      <td>40.44</td>\n",
       "      <td>1472.0</td>\n",
       "      <td>669.0</td>\n",
       "      <td>4623.0</td>\n",
       "      <td>3772.0</td>\n",
       "      <td>300.0</td>\n",
       "      <td>25.0833</td>\n",
       "      <td>1.0</td>\n",
       "      <td>3.0</td>\n",
       "      <td>1.0</td>\n",
       "      <td>0.0</td>\n",
       "      <td>0.00000</td>\n",
       "      <td>1.0</td>\n",
       "      <td>1.00000</td>\n",
       "      <td>0.0</td>\n",
       "      <td>0.0</td>\n",
       "      <td>29.290</td>\n",
       "      <td>0.0</td>\n",
       "      <td>0.000</td>\n",
       "      <td>5311.0</td>\n",
       "      <td>0.0</td>\n",
       "      <td>0.0</td>\n",
       "      <td>5293.0</td>\n",
       "      <td>1.0</td>\n",
       "    </tr>\n",
       "    <tr>\n",
       "      <th>230035</th>\n",
       "      <td>1739.0</td>\n",
       "      <td>0.2193</td>\n",
       "      <td>20316.000000</td>\n",
       "      <td>37013.0</td>\n",
       "      <td>1780.0</td>\n",
       "      <td>0.0</td>\n",
       "      <td>0.0</td>\n",
       "      <td>84235.0</td>\n",
       "      <td>216152.0</td>\n",
       "      <td>59.69</td>\n",
       "      <td>0.000</td>\n",
       "      <td>3700.00</td>\n",
       "      <td>0.00</td>\n",
       "      <td>1308.0</td>\n",
       "      <td>91.0</td>\n",
       "      <td>5992.0</td>\n",
       "      <td>2829.0</td>\n",
       "      <td>215.0</td>\n",
       "      <td>10.3333</td>\n",
       "      <td>3.0</td>\n",
       "      <td>3.0</td>\n",
       "      <td>2.0</td>\n",
       "      <td>0.0</td>\n",
       "      <td>0.15385</td>\n",
       "      <td>3.0</td>\n",
       "      <td>0.53241</td>\n",
       "      <td>1.0</td>\n",
       "      <td>0.0</td>\n",
       "      <td>96.272</td>\n",
       "      <td>0.0</td>\n",
       "      <td>0.000</td>\n",
       "      <td>33377.0</td>\n",
       "      <td>0.0</td>\n",
       "      <td>0.0</td>\n",
       "      <td>3316.0</td>\n",
       "      <td>0.0</td>\n",
       "    </tr>\n",
       "    <tr>\n",
       "      <th>230036</th>\n",
       "      <td>1787.0</td>\n",
       "      <td>0.0118</td>\n",
       "      <td>7987.000000</td>\n",
       "      <td>4696.0</td>\n",
       "      <td>1780.0</td>\n",
       "      <td>2257.0</td>\n",
       "      <td>27815.0</td>\n",
       "      <td>123875.0</td>\n",
       "      <td>524848.0</td>\n",
       "      <td>20.51</td>\n",
       "      <td>796.670</td>\n",
       "      <td>3700.00</td>\n",
       "      <td>28.72</td>\n",
       "      <td>801.0</td>\n",
       "      <td>487.0</td>\n",
       "      <td>2707.0</td>\n",
       "      <td>2829.0</td>\n",
       "      <td>158.0</td>\n",
       "      <td>0.9167</td>\n",
       "      <td>2.0</td>\n",
       "      <td>3.0</td>\n",
       "      <td>2.0</td>\n",
       "      <td>0.0</td>\n",
       "      <td>0.00000</td>\n",
       "      <td>1.0</td>\n",
       "      <td>0.92665</td>\n",
       "      <td>1.0</td>\n",
       "      <td>0.0</td>\n",
       "      <td>115.019</td>\n",
       "      <td>0.0</td>\n",
       "      <td>0.225</td>\n",
       "      <td>16439.0</td>\n",
       "      <td>0.0</td>\n",
       "      <td>0.0</td>\n",
       "      <td>4562.0</td>\n",
       "      <td>0.0</td>\n",
       "    </tr>\n",
       "  </tbody>\n",
       "</table>\n",
       "</div>"
      ],
      "text/plain": [
       "                      0       1             2        3       4       5  \\\n",
       "application_key                                                          \n",
       "230032           1696.0  1.6541  40369.000000  18414.0  1780.0  6423.0   \n",
       "230033           1846.0  0.8095  18234.000000  13664.0  1780.0   765.0   \n",
       "230034           1745.0  0.4001  34097.436013   2536.0  1780.0  2977.5   \n",
       "230035           1739.0  0.2193  20316.000000  37013.0  1780.0     0.0   \n",
       "230036           1787.0  0.0118   7987.000000   4696.0  1780.0  2257.0   \n",
       "\n",
       "                       6         7         8      9        10       11     12  \\\n",
       "application_key                                                                 \n",
       "230032            3067.0  123875.0  216152.0  94.78  8987.180  3700.00  72.25   \n",
       "230033            1931.0   42613.0  216152.0  74.25   953.060   953.06   4.80   \n",
       "230034            4090.0   76109.0  216152.0  59.69  3974.425  3700.00  40.44   \n",
       "230035               0.0   84235.0  216152.0  59.69     0.000  3700.00   0.00   \n",
       "230036           27815.0  123875.0  524848.0  20.51   796.670  3700.00  28.72   \n",
       "\n",
       "                     13       14      15      16     17       18   19    20  \\\n",
       "application_key                                                               \n",
       "230032           1462.0     61.0  4532.0  1095.0  625.0   1.1667  8.0  10.0   \n",
       "230033           1028.0  30386.0  2281.0  2829.0  169.0   0.4167  8.0   0.0   \n",
       "230034           1472.0    669.0  4623.0  3772.0  300.0  25.0833  1.0   3.0   \n",
       "230035           1308.0     91.0  5992.0  2829.0  215.0  10.3333  3.0   3.0   \n",
       "230036            801.0    487.0  2707.0  2829.0  158.0   0.9167  2.0   3.0   \n",
       "\n",
       "                  21   22       23    24       25   26   27       28   29  \\\n",
       "application_key                                                             \n",
       "230032           4.0  1.0  0.08696  10.0  0.63899  0.0  1.0  156.327  0.0   \n",
       "230033           2.0  0.0  0.00000  13.0  0.63836  1.0  0.0   99.129  0.0   \n",
       "230034           1.0  0.0  0.00000   1.0  1.00000  0.0  0.0   29.290  0.0   \n",
       "230035           2.0  0.0  0.15385   3.0  0.53241  1.0  0.0   96.272  0.0   \n",
       "230036           2.0  0.0  0.00000   1.0  0.92665  1.0  0.0  115.019  0.0   \n",
       "\n",
       "                    30       31   32   33      34   35  \n",
       "application_key                                         \n",
       "230032           0.000   6337.0  3.0  4.0  7422.0  0.0  \n",
       "230033           0.000  10805.0  0.0  0.0  4198.0  1.0  \n",
       "230034           0.000   5311.0  0.0  0.0  5293.0  1.0  \n",
       "230035           0.000  33377.0  0.0  0.0  3316.0  0.0  \n",
       "230036           0.225  16439.0  0.0  0.0  4562.0  0.0  "
      ]
     },
     "execution_count": 44,
     "metadata": {},
     "output_type": "execute_result"
    }
   ],
   "source": [
    "train_df=pd.read_csv('Tra_add_NaN_final.csv',index_col='application_key')\n",
    "# from scipy import stats\n",
    "# z = np.abs(stats.zscore(train_df))\n",
    "# threshold = 3\n",
    "# # print(np.where(z > 3))\n",
    "# train_df=train_df[(z<3).all(axis=1)]\n",
    "X=train_df.iloc[:,:-1]\n",
    "Y=train_df.iloc[:,-1]\n",
    "train_df.head()\n",
    "# (X.shape,Y.shape)\n",
    "# train_df.columns\n"
   ]
  },
  {
   "cell_type": "code",
   "execution_count": 45,
   "metadata": {},
   "outputs": [
    {
     "data": {
      "text/plain": [
       "(71526, 35)"
      ]
     },
     "execution_count": 45,
     "metadata": {},
     "output_type": "execute_result"
    }
   ],
   "source": [
    "X.shape"
   ]
  },
  {
   "cell_type": "code",
   "execution_count": null,
   "metadata": {},
   "outputs": [],
   "source": []
  },
  {
   "cell_type": "code",
   "execution_count": 46,
   "metadata": {},
   "outputs": [
    {
     "data": {
      "text/plain": [
       "((47922, 35), (47922,), (23604, 35))"
      ]
     },
     "execution_count": 46,
     "metadata": {},
     "output_type": "execute_result"
    }
   ],
   "source": [
    "from sklearn.model_selection import cross_val_score\n",
    "from sklearn.model_selection import train_test_split\n",
    "X_train, X_test, Y_train, Y_test = train_test_split(\n",
    "   X ,Y , test_size=0.33, random_state=42)\n",
    "X_train.shape, Y_train.shape, X_test.shape"
   ]
  },
  {
   "cell_type": "code",
   "execution_count": 47,
   "metadata": {},
   "outputs": [],
   "source": [
    "from sklearn.ensemble import GradientBoostingClassifier\n",
    "from sklearn import cross_validation, metrics\n",
    "from sklearn.grid_search import GridSearchCV\n",
    "from matplotlib.pylab import rcParams\n",
    "rcParams['figure.figsize'] = 12, 4"
   ]
  },
  {
   "cell_type": "code",
   "execution_count": 14,
   "metadata": {},
   "outputs": [],
   "source": [
    "# def modelfit(alg, dtrain, dtest, predictors, performCV=True, printFeatureImportance=True, cv_folds=5):\n",
    "#     #Fit the algorithm on the data\n",
    "#     alg.fit(dtrain[predictors], dtrain['Disbursed'])\n",
    "        \n",
    "#     #Predict training set:\n",
    "#     dtrain_predictions = alg.predict(dtrain[predictors])\n",
    "#     dtrain_predprob = alg.predict_proba(dtrain[predictors])[:,1]\n",
    "    \n",
    "#     #Perform cross-validation:\n",
    "#     if performCV:\n",
    "#         cv_score = cross_validation.cross_val_score(alg, dtrain[predictors], dtrain['Disbursed'], cv=cv_folds, scoring='roc_auc')\n",
    "    \n",
    "#     #Print model report:\n",
    "#     print (\"\\nModel Report\")\n",
    "#     print (\"Accuracy : %.4g\") % metrics.accuracy_score(dtrain['Disbursed'].values, dtrain_predictions)\n",
    "#     print (\"AUC Score (Train): %f\") % metrics.roc_auc_score(dtrain['Disbursed'], dtrain_predprob)\n",
    "    \n",
    "#     if performCV:\n",
    "#         print (\"CV Score : Mean - %.7g | Std - %.7g | Min - %.7g | Max - %.7g\") % (np.mean(cv_score),np.std(cv_score),np.min(cv_score),np.max(cv_score))\n",
    "                \n",
    "#     #Print Feature Importance:\n",
    "#     if printFeatureImportance:\n",
    "#         feat_imp = pd.Series(alg.feature_importances_, predictors).sort_values(ascending=False)\n",
    "#         feat_imp.plot(kind='bar', title='Feature Importances')\n",
    "#         plt.ylabel('Feature Importance Score')"
   ]
  },
  {
   "cell_type": "code",
   "execution_count": 15,
   "metadata": {},
   "outputs": [],
   "source": [
    "# #Choose all predictors except target & IDcols\n",
    "# predictors =X# [x for x in train.columns if x not in [target, IDcol]]\n",
    "# gbm0 = GradientBoostingClassifier(random_state=10)\n",
    "# modelfit(gbm0, train_df.iloc[:1500,:], train_df.iloc[1500:2000,:], predictors,printFeatureImportance=False)"
   ]
  },
  {
   "cell_type": "code",
   "execution_count": 48,
   "metadata": {},
   "outputs": [],
   "source": [
    "from sklearn import ensemble\n",
    "from sklearn.utils import shuffle\n",
    "from sklearn.metrics import mean_squared_error"
   ]
  },
  {
   "cell_type": "code",
   "execution_count": 50,
   "metadata": {},
   "outputs": [
    {
     "name": "stdout",
     "output_type": "stream",
     "text": [
      "MSE: 0.1443\n"
     ]
    }
   ],
   "source": [
    "offset = int(X.shape[0] * 0.9)\n",
    "X_train, y_train = X[:offset], Y[:offset]\n",
    "X_test, y_test = X[offset:], Y[offset:]\n",
    "params = {'n_estimators': 100, 'max_depth': 9, 'min_samples_split': 1000,\n",
    "          'learning_rate': 0.2, 'loss': 'ls'}\n",
    "clf = ensemble.GradientBoostingRegressor(**params)\n",
    "\n",
    "clf.fit(X_train, y_train)\n",
    "mse = mean_squared_error(y_test, clf.predict(X_test))\n",
    "print(\"MSE: %.4f\" % mse)"
   ]
  },
  {
   "cell_type": "code",
   "execution_count": null,
   "metadata": {},
   "outputs": [],
   "source": []
  },
  {
   "cell_type": "code",
   "execution_count": 24,
   "metadata": {},
   "outputs": [
    {
     "data": {
      "text/plain": [
       "Text(0,0.5,'Deviance')"
      ]
     },
     "execution_count": 24,
     "metadata": {},
     "output_type": "execute_result"
    },
    {
     "data": {
      "image/png": "[encoded data removed]",
      "text/plain": [
       "<matplotlib.figure.Figure at 0x1a784bd9a58>"
      ]
     },
     "metadata": {},
     "output_type": "display_data"
    }
   ],
   "source": [
    "test_score = np.zeros((params['n_estimators'],), dtype=np.float64)\n",
    "\n",
    "for i, y_pred in enumerate(clf.staged_predict(X_test)):\n",
    "    test_score[i] = clf.loss_(y_test, y_pred)\n",
    "\n",
    "plt.figure(figsize=(12, 6))\n",
    "plt.subplot(1, 2, 1)\n",
    "plt.title('Deviance')\n",
    "plt.plot(np.arange(params['n_estimators']) + 1, clf.train_score_, 'b-',\n",
    "         label='Training Set Deviance')\n",
    "plt.plot(np.arange(params['n_estimators']) + 1, test_score, 'r-',\n",
    "         label='Test Set Deviance')\n",
    "plt.legend(loc='upper right')\n",
    "plt.xlabel('Boosting Iterations')\n",
    "plt.ylabel('Deviance')"
   ]
  },
  {
   "cell_type": "code",
   "execution_count": 29,
   "metadata": {},
   "outputs": [],
   "source": [
    "# colm=[i for i in range(48)]\n",
    "# train_df.columns=colm"
   ]
  },
  {
   "cell_type": "code",
   "execution_count": 25,
   "metadata": {},
   "outputs": [
    {
     "data": {
      "image/png": "[encoded data removed]",
      "text/plain": [
       "<matplotlib.figure.Figure at 0x1a785ad65f8>"
      ]
     },
     "metadata": {},
     "output_type": "display_data"
    },
    {
     "data": {
      "text/plain": [
       "<matplotlib.figure.Figure at 0x1a784e4c390>"
      ]
     },
     "metadata": {},
     "output_type": "display_data"
    }
   ],
   "source": [
    "feature_importance = clf.feature_importances_\n",
    "# make importances relative to max importance\n",
    "feature_importance = 100.0 * (feature_importance / feature_importance.max())\n",
    "sorted_idx = np.argsort(feature_importance)\n",
    "pos = np.arange(sorted_idx.shape[0]) + .5\n",
    "plt.figure(figsize=(10,10))\n",
    "ax=plt.subplot(1, 1,1)\n",
    "plt.barh(pos, feature_importance[sorted_idx], align='center')\n",
    "plt.yticks(pos, X.columns[sorted_idx])\n",
    "plt.xlabel('Relative Importance')\n",
    "plt.title('Variable Importance')\n",
    "fig=plt.figure(figsize=(15,15))\n",
    "plt.show()"
   ]
  },
  {
   "cell_type": "code",
   "execution_count": 15,
   "metadata": {},
   "outputs": [],
   "source": [
    "# train_df.describe()"
   ]
  },
  {
   "cell_type": "code",
   "execution_count": 26,
   "metadata": {},
   "outputs": [
    {
     "data": {
      "text/plain": [
       "array([22,  4, 14, 30,  7, 16,  5, 15, 25, 19,  9, 18, 17, 10,  2, 21,  6,\n",
       "        8, 11, 29, 12, 34, 20,  3, 24, 13, 23, 32, 28, 33, 31, 27, 26,  1,\n",
       "        0], dtype=int64)"
      ]
     },
     "execution_count": 26,
     "metadata": {},
     "output_type": "execute_result"
    }
   ],
   "source": [
    "sorted_idx"
   ]
  },
  {
   "cell_type": "code",
   "execution_count": 25,
   "metadata": {},
   "outputs": [],
   "source": [
    "imp_col=sorted_idx[-11:]"
   ]
  },
  {
   "cell_type": "code",
   "execution_count": 62,
   "metadata": {},
   "outputs": [],
   "source": [
    "data=pd.read_csv('Training_dropped.csv',index_col='application_key')\n",
    "Y1=data.iloc[:,-1]"
   ]
  },
  {
   "cell_type": "code",
   "execution_count": 63,
   "metadata": {},
   "outputs": [],
   "source": [
    "data.columns=colm"
   ]
  },
  {
   "cell_type": "code",
   "execution_count": 65,
   "metadata": {},
   "outputs": [],
   "source": [
    "data=data[imp_col]"
   ]
  },
  {
   "cell_type": "code",
   "execution_count": 67,
   "metadata": {},
   "outputs": [],
   "source": [
    "data=pd.concat([data,Y1],axis=1)"
   ]
  },
  {
   "cell_type": "code",
   "execution_count": 70,
   "metadata": {},
   "outputs": [],
   "source": [
    "data.to_csv('traning_gbm_276.csv')"
   ]
  },
  {
   "cell_type": "code",
   "execution_count": 60,
   "metadata": {},
   "outputs": [
    {
     "data": {
      "text/plain": [
       "array([ 9, 39, 23, 24,  6, 33, 17, 41, 46,  1,  0], dtype=int64)"
      ]
     },
     "execution_count": 60,
     "metadata": {},
     "output_type": "execute_result"
    }
   ],
   "source": [
    "imp_col"
   ]
  },
  {
   "cell_type": "code",
   "execution_count": 47,
   "metadata": {},
   "outputs": [],
   "source": [
    "train_df=train_df[imp_col]"
   ]
  },
  {
   "cell_type": "code",
   "execution_count": 49,
   "metadata": {},
   "outputs": [],
   "source": [
    "train_df=pd.concat([train_df,Y],axis=1)"
   ]
  },
  {
   "cell_type": "code",
   "execution_count": 51,
   "metadata": {},
   "outputs": [],
   "source": [
    "# train_df.head()"
   ]
  },
  {
   "cell_type": "code",
   "execution_count": 52,
   "metadata": {},
   "outputs": [],
   "source": [
    "train_df.to_csv('Training_GBM_filtered.csv')"
   ]
  },
  {
   "cell_type": "code",
   "execution_count": 53,
   "metadata": {},
   "outputs": [],
   "source": [
    "lead_df=pd.read_csv('lead_board_cleaned.csv',index_col='application_key')\n",
    "lead_df.columns=colm[:-1]\n",
    "lead_df=lead_df[imp_col]\n"
   ]
  },
  {
   "cell_type": "code",
   "execution_count": 56,
   "metadata": {},
   "outputs": [
    {
     "data": {
      "text/plain": [
       "((25000, 11), (80000, 12))"
      ]
     },
     "execution_count": 56,
     "metadata": {},
     "output_type": "execute_result"
    }
   ],
   "source": [
    "lead_df.shape,train_df.shape"
   ]
  },
  {
   "cell_type": "code",
   "execution_count": 57,
   "metadata": {},
   "outputs": [],
   "source": [
    "lead_df.to_csv('lead_GBM_filtered.csv')"
   ]
  },
  {
   "cell_type": "code",
   "execution_count": 58,
   "metadata": {},
   "outputs": [
    {
     "data": {
      "text/plain": [
       "Int64Index([9, 39, 23, 24, 6, 33, 17, 41, 46, 1, 0], dtype='int64')"
      ]
     },
     "execution_count": 58,
     "metadata": {},
     "output_type": "execute_result"
    }
   ],
   "source": [
    "lead_df.columns"
   ]
  },
  {
   "cell_type": "code",
   "execution_count": 59,
   "metadata": {},
   "outputs": [
    {
     "data": {
      "text/plain": [
       "Index([9, 39, 23, 24, 6, 33, 17, 41, 46, 1, 0, 'default_ind'], dtype='object')"
      ]
     },
     "execution_count": 59,
     "metadata": {},
     "output_type": "execute_result"
    }
   ],
   "source": [
    "train_df.columns"
   ]
  },
  {
   "cell_type": "code",
   "execution_count": 33,
   "metadata": {},
   "outputs": [],
   "source": [
    "new=pd.read_csv('Training_Missing_removed.csv',index_col='application_key')"
   ]
  },
  {
   "cell_type": "code",
   "execution_count": 43,
   "metadata": {},
   "outputs": [
    {
     "data": {
      "text/plain": [
       "mvar1          0\n",
       "mvar2          0\n",
       "mvar3          0\n",
       "mvar4          0\n",
       "mvar5          0\n",
       "mvar6          0\n",
       "mvar7          0\n",
       "mvar8          0\n",
       "mvar9          0\n",
       "mvar10         0\n",
       "mvar11         0\n",
       "mvar12         0\n",
       "mvar13         0\n",
       "mvar14         0\n",
       "mvar15         0\n",
       "mvar16         0\n",
       "mvar17         0\n",
       "mvar18         0\n",
       "mvar19         0\n",
       "mvar20         0\n",
       "mvar21         0\n",
       "mvar22         0\n",
       "mvar23         0\n",
       "mvar24         0\n",
       "mvar25         0\n",
       "mvar26         0\n",
       "mvar27         0\n",
       "mvar28         0\n",
       "mvar29         0\n",
       "mvar30         0\n",
       "mvar31         0\n",
       "mvar32         0\n",
       "mvar33         0\n",
       "mvar34         0\n",
       "mvar35         0\n",
       "mvar36         0\n",
       "mvar37         0\n",
       "mvar38         0\n",
       "mvar39         0\n",
       "mvar40         0\n",
       "mvar41         0\n",
       "mvar42         0\n",
       "mvar43         0\n",
       "mvar44         0\n",
       "mvar45         0\n",
       "mvar46         0\n",
       "mvar47         0\n",
       "default_ind    0\n",
       "dtype: int64"
      ]
     },
     "execution_count": 43,
     "metadata": {},
     "output_type": "execute_result"
    }
   ],
   "source": []
  },
  {
   "cell_type": "code",
   "execution_count": 39,
   "metadata": {},
   "outputs": [
    {
     "name": "stdout",
     "output_type": "stream",
     "text": [
      "10\n",
      "15\n",
      "20\n",
      "25\n",
      "30\n",
      "35\n",
      "40\n",
      "45\n",
      "50\n",
      "55\n",
      "60\n",
      "65\n",
      "70\n",
      "75\n"
     ]
    }
   ],
   "source": []
  },
  {
   "cell_type": "code",
   "execution_count": 38,
   "metadata": {},
   "outputs": [
    {
     "data": {
      "text/plain": [
       "range(10, 80, 10)"
      ]
     },
     "execution_count": 38,
     "metadata": {},
     "output_type": "execute_result"
    }
   ],
   "source": []
  },
  {
   "cell_type": "code",
   "execution_count": null,
   "metadata": {},
   "outputs": [],
   "source": []
  }
 ],
 "metadata": {
  "kernelspec": {
   "display_name": "Python 3",
   "language": "python",
   "name": "python3"
  },
  "language_info": {
   "codemirror_mode": {
    "name": "ipython",
    "version": 3
   },
   "file_extension": ".py",
   "mimetype": "text/x-python",
   "name": "python",
   "nbconvert_exporter": "python",
   "pygments_lexer": "ipython3",
   "version": "3.6.4"
  }
 },
 "nbformat": 4,
 "nbformat_minor": 2
}
