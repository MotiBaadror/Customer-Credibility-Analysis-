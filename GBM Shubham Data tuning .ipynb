{
 "cells": [
  {
   "cell_type": "code",
   "execution_count": 5,
   "metadata": {},
   "outputs": [],
   "source": [
    "import pandas as pd \n",
    "import numpy as np\n",
    "import matplotlib.pyplot as plt\n",
    "%matplotlib inline \n",
    "pd.set_option('display.max_columns',None)"
   ]
  },
  {
   "cell_type": "code",
   "execution_count": 6,
   "metadata": {},
   "outputs": [],
   "source": [
    "train = pd.read_csv('Training_cleaned_shubham.csv')\n",
    "target = '35'\n",
    "IDcol = 'application_key'"
   ]
  },
  {
   "cell_type": "code",
   "execution_count": 7,
   "metadata": {},
   "outputs": [],
   "source": [
    "from sklearn.ensemble import GradientBoostingClassifier  #GBM algorithm\n",
    "from sklearn import cross_validation, metrics   #Additional scklearn functions\n",
    "from sklearn.grid_search import GridSearchCV   #Perforing grid search\n",
    "from matplotlib.pylab import rcParams\n",
    "rcParams['figure.figsize'] = 12, 4\n",
    "\n",
    "\n",
    "\n",
    "def modelfit(alg, dtrain, predictors, performCV=True, printFeatureImportance=True, cv_folds=5):\n",
    "    #Fit the algorithm on the data\n",
    "    alg.fit(dtrain[predictors], dtrain[target])\n",
    "        \n",
    "    #Predict training set:\n",
    "    dtrain_predictions = alg.predict(dtrain[predictors])\n",
    "    dtrain_predprob = alg.predict_proba(dtrain[predictors])[:,1]\n",
    "    \n",
    "    #Perform cross-validation:\n",
    "    if performCV:\n",
    "        cv_score = cross_validation.cross_val_score(alg, dtrain[predictors], dtrain[target], cv=cv_folds, scoring='roc_auc')\n",
    "    \n",
    "    #Print model report:\n",
    "    print(\"\\nModel Report\")\n",
    "    print(\"Accuracy : %.4g\" % metrics.accuracy_score(dtrain[target].values, dtrain_predictions))\n",
    "    print(\"AUC Score (Train): %f\" % metrics.roc_auc_score(dtrain[target], dtrain_predprob))\n",
    "    \n",
    "    if performCV:\n",
    "        print(\"CV Score : Mean - %.7g | Std - %.7g | Min - %.7g | Max - %.7g\" % (np.mean(cv_score),np.std(cv_score),np.min(cv_score),np.max(cv_score)))\n",
    "        \n",
    "    #Print Feature Importance:\n",
    "    if printFeatureImportance:\n",
    "        feat_imp = pd.Series(alg.feature_importances_, predictors).sort_values(ascending=False)\n",
    "        feat_imp.plot(kind='bar', title='Feature Importances')\n",
    "        plt.ylabel('Feature Importance Score')"
   ]
  },
  {
   "cell_type": "code",
   "execution_count": 8,
   "metadata": {},
   "outputs": [
    {
     "name": "stdout",
     "output_type": "stream",
     "text": [
      "\n",
      "Model Report\n",
      "Accuracy : 0.809\n",
      "AUC Score (Train): 0.835943\n",
      "CV Score : Mean - 0.8311313 | Std - 0.008731986 | Min - 0.8188073 | Max - 0.8432097\n"
     ]
    },
    {
     "data": {
      "image/png": "[encoded data removed]",
      "text/plain": [
       "<matplotlib.figure.Figure at 0x1ff6864ec50>"
      ]
     },
     "metadata": {},
     "output_type": "display_data"
    }
   ],
   "source": [
    "predictors = [x for x in train.columns if x not in [target, IDcol]]\n",
    "gbm0 = GradientBoostingClassifier(random_state=10)\n",
    "modelfit(gbm0, train, predictors)"
   ]
  },
  {
   "cell_type": "code",
   "execution_count": 9,
   "metadata": {},
   "outputs": [
    {
     "data": {
      "text/plain": [
       "GridSearchCV(cv=5, error_score='raise',\n",
       "       estimator=GradientBoostingClassifier(criterion='friedman_mse', init=None,\n",
       "              learning_rate=0.1, loss='deviance', max_depth=8,\n",
       "              max_features='sqrt', max_leaf_nodes=None,\n",
       "              min_impurity_decrease=0.0, min_impurity_split=None,\n",
       "              min_samples_leaf=50, min_samples_split=500,\n",
       "              min_weight_fraction_leaf=0.0, n_estimators=100,\n",
       "              presort='auto', random_state=10, subsample=0.8, verbose=0,\n",
       "              warm_start=False),\n",
       "       fit_params={}, iid=False, n_jobs=4,\n",
       "       param_grid={'n_estimators': [80, 90, 100, 110, 120, 130, 140, 150, 160, 170]},\n",
       "       pre_dispatch='2*n_jobs', refit=True, scoring='roc_auc', verbose=0)"
      ]
     },
     "execution_count": 9,
     "metadata": {},
     "output_type": "execute_result"
    }
   ],
   "source": [
    "#Choose all predictors except target & IDcols\n",
    "predictors = [x for x in train.columns if x not in [target, IDcol]]\n",
    "param_test1 = {\"n_estimators\":[80,90,100,110,120,130,140,150,160,170]}\n",
    "gsearch1 = GridSearchCV(estimator = GradientBoostingClassifier(learning_rate=0.1, min_samples_split=500,min_samples_leaf=50,max_depth=8,max_features='sqrt',subsample=0.8,random_state=10), \n",
    "param_grid = param_test1, scoring='roc_auc',n_jobs=4,iid=False, cv=5)\n",
    "gsearch1.fit(train[predictors],train[target])"
   ]
  },
  {
   "cell_type": "markdown",
   "metadata": {},
   "source": [
    "# optimal value  n_estimate 80"
   ]
  },
  {
   "cell_type": "code",
   "execution_count": 10,
   "metadata": {},
   "outputs": [
    {
     "data": {
      "text/plain": [
       "([mean: 0.83250, std: 0.00866, params: {'n_estimators': 80},\n",
       "  mean: 0.83245, std: 0.00868, params: {'n_estimators': 90},\n",
       "  mean: 0.83227, std: 0.00863, params: {'n_estimators': 100},\n",
       "  mean: 0.83225, std: 0.00863, params: {'n_estimators': 110},\n",
       "  mean: 0.83213, std: 0.00867, params: {'n_estimators': 120},\n",
       "  mean: 0.83200, std: 0.00875, params: {'n_estimators': 130},\n",
       "  mean: 0.83197, std: 0.00877, params: {'n_estimators': 140},\n",
       "  mean: 0.83179, std: 0.00877, params: {'n_estimators': 150},\n",
       "  mean: 0.83162, std: 0.00879, params: {'n_estimators': 160},\n",
       "  mean: 0.83139, std: 0.00885, params: {'n_estimators': 170}],\n",
       " {'n_estimators': 80},\n",
       " 0.8325009945094394)"
      ]
     },
     "execution_count": 10,
     "metadata": {},
     "output_type": "execute_result"
    }
   ],
   "source": [
    "gsearch1.grid_scores_, gsearch1.best_params_, gsearch1.best_score_"
   ]
  },
  {
   "cell_type": "markdown",
   "metadata": {},
   "source": [
    "# 7, 'min_samples_split': 1400"
   ]
  },
  {
   "cell_type": "code",
   "execution_count": 12,
   "metadata": {},
   "outputs": [
    {
     "data": {
      "text/plain": [
       "([mean: 0.83141, std: 0.00867, params: {'max_depth': 5, 'min_samples_split': 200},\n",
       "  mean: 0.83151, std: 0.00919, params: {'max_depth': 5, 'min_samples_split': 400},\n",
       "  mean: 0.83153, std: 0.00899, params: {'max_depth': 5, 'min_samples_split': 600},\n",
       "  mean: 0.83119, std: 0.00912, params: {'max_depth': 5, 'min_samples_split': 800},\n",
       "  mean: 0.83107, std: 0.00910, params: {'max_depth': 5, 'min_samples_split': 1000},\n",
       "  mean: 0.83139, std: 0.00868, params: {'max_depth': 5, 'min_samples_split': 1200},\n",
       "  mean: 0.83150, std: 0.00823, params: {'max_depth': 5, 'min_samples_split': 1400},\n",
       "  mean: 0.83153, std: 0.00841, params: {'max_depth': 5, 'min_samples_split': 1600},\n",
       "  mean: 0.83039, std: 0.00870, params: {'max_depth': 7, 'min_samples_split': 200},\n",
       "  mean: 0.83117, std: 0.00861, params: {'max_depth': 7, 'min_samples_split': 400},\n",
       "  mean: 0.83180, std: 0.00830, params: {'max_depth': 7, 'min_samples_split': 600},\n",
       "  mean: 0.83148, std: 0.00823, params: {'max_depth': 7, 'min_samples_split': 800},\n",
       "  mean: 0.83089, std: 0.00811, params: {'max_depth': 7, 'min_samples_split': 1000},\n",
       "  mean: 0.83160, std: 0.00820, params: {'max_depth': 7, 'min_samples_split': 1200},\n",
       "  mean: 0.83197, std: 0.00786, params: {'max_depth': 7, 'min_samples_split': 1400},\n",
       "  mean: 0.83194, std: 0.00853, params: {'max_depth': 7, 'min_samples_split': 1600},\n",
       "  mean: 0.82947, std: 0.00872, params: {'max_depth': 9, 'min_samples_split': 200},\n",
       "  mean: 0.82987, std: 0.00839, params: {'max_depth': 9, 'min_samples_split': 400},\n",
       "  mean: 0.83110, std: 0.00852, params: {'max_depth': 9, 'min_samples_split': 600},\n",
       "  mean: 0.83108, std: 0.00841, params: {'max_depth': 9, 'min_samples_split': 800},\n",
       "  mean: 0.83126, std: 0.00835, params: {'max_depth': 9, 'min_samples_split': 1000},\n",
       "  mean: 0.83104, std: 0.00805, params: {'max_depth': 9, 'min_samples_split': 1200},\n",
       "  mean: 0.83172, std: 0.00859, params: {'max_depth': 9, 'min_samples_split': 1400},\n",
       "  mean: 0.83195, std: 0.00869, params: {'max_depth': 9, 'min_samples_split': 1600},\n",
       "  mean: 0.82743, std: 0.00839, params: {'max_depth': 11, 'min_samples_split': 200},\n",
       "  mean: 0.82942, std: 0.00852, params: {'max_depth': 11, 'min_samples_split': 400},\n",
       "  mean: 0.83022, std: 0.00897, params: {'max_depth': 11, 'min_samples_split': 600},\n",
       "  mean: 0.83031, std: 0.00845, params: {'max_depth': 11, 'min_samples_split': 800},\n",
       "  mean: 0.83045, std: 0.00797, params: {'max_depth': 11, 'min_samples_split': 1000},\n",
       "  mean: 0.83103, std: 0.00812, params: {'max_depth': 11, 'min_samples_split': 1200},\n",
       "  mean: 0.83110, std: 0.00851, params: {'max_depth': 11, 'min_samples_split': 1400},\n",
       "  mean: 0.83122, std: 0.00837, params: {'max_depth': 11, 'min_samples_split': 1600},\n",
       "  mean: 0.82486, std: 0.00821, params: {'max_depth': 13, 'min_samples_split': 200},\n",
       "  mean: 0.82778, std: 0.00783, params: {'max_depth': 13, 'min_samples_split': 400},\n",
       "  mean: 0.82907, std: 0.00894, params: {'max_depth': 13, 'min_samples_split': 600},\n",
       "  mean: 0.82989, std: 0.00893, params: {'max_depth': 13, 'min_samples_split': 800},\n",
       "  mean: 0.83038, std: 0.00865, params: {'max_depth': 13, 'min_samples_split': 1000},\n",
       "  mean: 0.83020, std: 0.00826, params: {'max_depth': 13, 'min_samples_split': 1200},\n",
       "  mean: 0.83048, std: 0.00857, params: {'max_depth': 13, 'min_samples_split': 1400},\n",
       "  mean: 0.83134, std: 0.00800, params: {'max_depth': 13, 'min_samples_split': 1600},\n",
       "  mean: 0.82307, std: 0.00938, params: {'max_depth': 15, 'min_samples_split': 200},\n",
       "  mean: 0.82594, std: 0.00856, params: {'max_depth': 15, 'min_samples_split': 400},\n",
       "  mean: 0.82848, std: 0.00860, params: {'max_depth': 15, 'min_samples_split': 600},\n",
       "  mean: 0.82947, std: 0.00828, params: {'max_depth': 15, 'min_samples_split': 800},\n",
       "  mean: 0.82960, std: 0.00843, params: {'max_depth': 15, 'min_samples_split': 1000},\n",
       "  mean: 0.83041, std: 0.00844, params: {'max_depth': 15, 'min_samples_split': 1200},\n",
       "  mean: 0.83046, std: 0.00820, params: {'max_depth': 15, 'min_samples_split': 1400},\n",
       "  mean: 0.83065, std: 0.00848, params: {'max_depth': 15, 'min_samples_split': 1600},\n",
       "  mean: 0.82173, std: 0.00925, params: {'max_depth': 17, 'min_samples_split': 200},\n",
       "  mean: 0.82542, std: 0.00848, params: {'max_depth': 17, 'min_samples_split': 400},\n",
       "  mean: 0.82702, std: 0.00881, params: {'max_depth': 17, 'min_samples_split': 600},\n",
       "  mean: 0.82826, std: 0.00889, params: {'max_depth': 17, 'min_samples_split': 800},\n",
       "  mean: 0.82878, std: 0.00802, params: {'max_depth': 17, 'min_samples_split': 1000},\n",
       "  mean: 0.82937, std: 0.00831, params: {'max_depth': 17, 'min_samples_split': 1200},\n",
       "  mean: 0.82993, std: 0.00875, params: {'max_depth': 17, 'min_samples_split': 1400},\n",
       "  mean: 0.83050, std: 0.00822, params: {'max_depth': 17, 'min_samples_split': 1600},\n",
       "  mean: 0.82071, std: 0.00859, params: {'max_depth': 19, 'min_samples_split': 200},\n",
       "  mean: 0.82467, std: 0.00876, params: {'max_depth': 19, 'min_samples_split': 400},\n",
       "  mean: 0.82773, std: 0.00856, params: {'max_depth': 19, 'min_samples_split': 600},\n",
       "  mean: 0.82851, std: 0.00899, params: {'max_depth': 19, 'min_samples_split': 800},\n",
       "  mean: 0.82848, std: 0.00861, params: {'max_depth': 19, 'min_samples_split': 1000},\n",
       "  mean: 0.82909, std: 0.00822, params: {'max_depth': 19, 'min_samples_split': 1200},\n",
       "  mean: 0.83030, std: 0.00819, params: {'max_depth': 19, 'min_samples_split': 1400},\n",
       "  mean: 0.83003, std: 0.00887, params: {'max_depth': 19, 'min_samples_split': 1600}],\n",
       " {'max_depth': 7, 'min_samples_split': 1400},\n",
       " 0.831967250458477)"
      ]
     },
     "execution_count": 12,
     "metadata": {},
     "output_type": "execute_result"
    }
   ],
   "source": [
    "param_test2 = {'max_depth':[5,7,9,11,13,15,17,19], 'min_samples_split':[200,400,600,800,1000,1200,1400,1600]}\n",
    "gsearch2 = GridSearchCV(estimator = GradientBoostingClassifier(learning_rate=0.15, n_estimators=60, max_features='sqrt', subsample=0.8, random_state=10), \n",
    "param_grid = param_test2, scoring='roc_auc',n_jobs=4,iid=False, cv=5)\n",
    "gsearch2.fit(train[predictors],train[target])\n",
    "gsearch2.grid_scores_, gsearch2.best_params_, gsearch2.best_score_"
   ]
  },
  {
   "cell_type": "markdown",
   "metadata": {},
   "source": [
    "# Min sample split 1400 and min sample leaf 80"
   ]
  },
  {
   "cell_type": "code",
   "execution_count": 13,
   "metadata": {},
   "outputs": [
    {
     "data": {
      "text/plain": [
       "([mean: 0.83155, std: 0.00832, params: {'min_samples_leaf': 30, 'min_samples_split': 1000},\n",
       "  mean: 0.83192, std: 0.00850, params: {'min_samples_leaf': 30, 'min_samples_split': 1200},\n",
       "  mean: 0.83198, std: 0.00838, params: {'min_samples_leaf': 30, 'min_samples_split': 1400},\n",
       "  mean: 0.83205, std: 0.00819, params: {'min_samples_leaf': 30, 'min_samples_split': 1600},\n",
       "  mean: 0.83189, std: 0.00855, params: {'min_samples_leaf': 30, 'min_samples_split': 1800},\n",
       "  mean: 0.83134, std: 0.00851, params: {'min_samples_leaf': 30, 'min_samples_split': 2000},\n",
       "  mean: 0.83181, std: 0.00892, params: {'min_samples_leaf': 30, 'min_samples_split': 2200},\n",
       "  mean: 0.83162, std: 0.00861, params: {'min_samples_leaf': 30, 'min_samples_split': 2400},\n",
       "  mean: 0.83215, std: 0.00863, params: {'min_samples_leaf': 40, 'min_samples_split': 1000},\n",
       "  mean: 0.83216, std: 0.00851, params: {'min_samples_leaf': 40, 'min_samples_split': 1200},\n",
       "  mean: 0.83207, std: 0.00840, params: {'min_samples_leaf': 40, 'min_samples_split': 1400},\n",
       "  mean: 0.83158, std: 0.00832, params: {'min_samples_leaf': 40, 'min_samples_split': 1600},\n",
       "  mean: 0.83192, std: 0.00836, params: {'min_samples_leaf': 40, 'min_samples_split': 1800},\n",
       "  mean: 0.83177, std: 0.00879, params: {'min_samples_leaf': 40, 'min_samples_split': 2000},\n",
       "  mean: 0.83175, std: 0.00866, params: {'min_samples_leaf': 40, 'min_samples_split': 2200},\n",
       "  mean: 0.83159, std: 0.00867, params: {'min_samples_leaf': 40, 'min_samples_split': 2400},\n",
       "  mean: 0.83168, std: 0.00834, params: {'min_samples_leaf': 50, 'min_samples_split': 1000},\n",
       "  mean: 0.83188, std: 0.00844, params: {'min_samples_leaf': 50, 'min_samples_split': 1200},\n",
       "  mean: 0.83197, std: 0.00861, params: {'min_samples_leaf': 50, 'min_samples_split': 1400},\n",
       "  mean: 0.83185, std: 0.00839, params: {'min_samples_leaf': 50, 'min_samples_split': 1600},\n",
       "  mean: 0.83198, std: 0.00858, params: {'min_samples_leaf': 50, 'min_samples_split': 1800},\n",
       "  mean: 0.83151, std: 0.00881, params: {'min_samples_leaf': 50, 'min_samples_split': 2000},\n",
       "  mean: 0.83161, std: 0.00855, params: {'min_samples_leaf': 50, 'min_samples_split': 2200},\n",
       "  mean: 0.83150, std: 0.00858, params: {'min_samples_leaf': 50, 'min_samples_split': 2400},\n",
       "  mean: 0.83167, std: 0.00838, params: {'min_samples_leaf': 60, 'min_samples_split': 1000},\n",
       "  mean: 0.83203, std: 0.00845, params: {'min_samples_leaf': 60, 'min_samples_split': 1200},\n",
       "  mean: 0.83197, std: 0.00847, params: {'min_samples_leaf': 60, 'min_samples_split': 1400},\n",
       "  mean: 0.83228, std: 0.00834, params: {'min_samples_leaf': 60, 'min_samples_split': 1600},\n",
       "  mean: 0.83187, std: 0.00812, params: {'min_samples_leaf': 60, 'min_samples_split': 1800},\n",
       "  mean: 0.83152, std: 0.00864, params: {'min_samples_leaf': 60, 'min_samples_split': 2000},\n",
       "  mean: 0.83198, std: 0.00863, params: {'min_samples_leaf': 60, 'min_samples_split': 2200},\n",
       "  mean: 0.83160, std: 0.00843, params: {'min_samples_leaf': 60, 'min_samples_split': 2400},\n",
       "  mean: 0.83190, std: 0.00862, params: {'min_samples_leaf': 70, 'min_samples_split': 1000},\n",
       "  mean: 0.83213, std: 0.00840, params: {'min_samples_leaf': 70, 'min_samples_split': 1200},\n",
       "  mean: 0.83195, std: 0.00830, params: {'min_samples_leaf': 70, 'min_samples_split': 1400},\n",
       "  mean: 0.83206, std: 0.00822, params: {'min_samples_leaf': 70, 'min_samples_split': 1600},\n",
       "  mean: 0.83198, std: 0.00839, params: {'min_samples_leaf': 70, 'min_samples_split': 1800},\n",
       "  mean: 0.83170, std: 0.00866, params: {'min_samples_leaf': 70, 'min_samples_split': 2000},\n",
       "  mean: 0.83200, std: 0.00864, params: {'min_samples_leaf': 70, 'min_samples_split': 2200},\n",
       "  mean: 0.83163, std: 0.00825, params: {'min_samples_leaf': 70, 'min_samples_split': 2400},\n",
       "  mean: 0.83175, std: 0.00852, params: {'min_samples_leaf': 80, 'min_samples_split': 1000},\n",
       "  mean: 0.83222, std: 0.00812, params: {'min_samples_leaf': 80, 'min_samples_split': 1200},\n",
       "  mean: 0.83229, std: 0.00825, params: {'min_samples_leaf': 80, 'min_samples_split': 1400},\n",
       "  mean: 0.83215, std: 0.00845, params: {'min_samples_leaf': 80, 'min_samples_split': 1600},\n",
       "  mean: 0.83199, std: 0.00840, params: {'min_samples_leaf': 80, 'min_samples_split': 1800},\n",
       "  mean: 0.83180, std: 0.00856, params: {'min_samples_leaf': 80, 'min_samples_split': 2000},\n",
       "  mean: 0.83182, std: 0.00851, params: {'min_samples_leaf': 80, 'min_samples_split': 2200},\n",
       "  mean: 0.83144, std: 0.00828, params: {'min_samples_leaf': 80, 'min_samples_split': 2400}],\n",
       " {'min_samples_leaf': 80, 'min_samples_split': 1400},\n",
       " 0.8322881256409926)"
      ]
     },
     "execution_count": 13,
     "metadata": {},
     "output_type": "execute_result"
    }
   ],
   "source": [
    "param_test3 = {'min_samples_split':[1000,1200,1400,1600,1800,2000,2200,2400], 'min_samples_leaf':[30,40,50,60,70,80]}\n",
    "gsearch3 = GridSearchCV(estimator = GradientBoostingClassifier(learning_rate=0.1, n_estimators=60,max_depth=9,max_features='sqrt', subsample=0.8, random_state=10), \n",
    "param_grid = param_test3, scoring='roc_auc',n_jobs=4,iid=False, cv=5)\n",
    "gsearch3.fit(train[predictors],train[target])\n",
    "gsearch3.grid_scores_, gsearch3.best_params_, gsearch3.best_score_"
   ]
  },
  {
   "cell_type": "code",
   "execution_count": 14,
   "metadata": {},
   "outputs": [
    {
     "name": "stdout",
     "output_type": "stream",
     "text": [
      "\n",
      "Model Report\n",
      "Accuracy : 0.8154\n",
      "AUC Score (Train): 0.845195\n",
      "CV Score : Mean - 0.8322881 | Std - 0.008245004 | Min - 0.8205277 | Max - 0.8440186\n"
     ]
    },
    {
     "data": {
      "image/png": "[encoded data removed]",
      "text/plain": [
       "<matplotlib.figure.Figure at 0x1ff6c358b70>"
      ]
     },
     "metadata": {},
     "output_type": "display_data"
    }
   ],
   "source": [
    "modelfit(gsearch3.best_estimator_, train, predictors)"
   ]
  },
  {
   "cell_type": "markdown",
   "metadata": {},
   "source": [
    "# max feature 17 "
   ]
  },
  {
   "cell_type": "code",
   "execution_count": null,
   "metadata": {},
   "outputs": [],
   "source": [
    "13,23,24,,12,33,2,29,31"
   ]
  },
  {
   "cell_type": "code",
   "execution_count": 17,
   "metadata": {},
   "outputs": [
    {
     "data": {
      "text/plain": [
       "([mean: 0.83112, std: 0.00841, params: {'max_features': 7},\n",
       "  mean: 0.83060, std: 0.00846, params: {'max_features': 9},\n",
       "  mean: 0.83108, std: 0.00845, params: {'max_features': 11},\n",
       "  mean: 0.83088, std: 0.00809, params: {'max_features': 13},\n",
       "  mean: 0.83112, std: 0.00845, params: {'max_features': 15},\n",
       "  mean: 0.83129, std: 0.00840, params: {'max_features': 17},\n",
       "  mean: 0.83051, std: 0.00821, params: {'max_features': 19},\n",
       "  mean: 0.83100, std: 0.00836, params: {'max_features': 21},\n",
       "  mean: 0.83081, std: 0.00827, params: {'max_features': 23},\n",
       "  mean: 0.83081, std: 0.00785, params: {'max_features': 25}],\n",
       " {'max_features': 17},\n",
       " 0.8312912120669708)"
      ]
     },
     "execution_count": 17,
     "metadata": {},
     "output_type": "execute_result"
    }
   ],
   "source": [
    "param_test4 = {'max_features':[7,9,11,13,15,17,19,21,23,25]}\n",
    "gsearch4 = GridSearchCV(estimator = GradientBoostingClassifier(learning_rate=0.2, n_estimators=80,max_depth=7, min_samples_split=1400, min_samples_leaf=80, subsample=0.8, random_state=10),\n",
    "param_grid = param_test4, scoring='roc_auc',n_jobs=4,iid=False, cv=5)\n",
    "gsearch4.fit(train[predictors],train[target])\n",
    "gsearch4.grid_scores_, gsearch4.best_params_, gsearch4.best_score_"
   ]
  },
  {
   "cell_type": "code",
   "execution_count": 19,
   "metadata": {},
   "outputs": [
    {
     "name": "stdout",
     "output_type": "stream",
     "text": [
      "\n",
      "Model Report\n",
      "Accuracy : 0.8205\n",
      "AUC Score (Train): 0.854282\n",
      "CV Score : Mean - 0.8312912 | Std - 0.008400925 | Min - 0.8194262 | Max - 0.8432466\n"
     ]
    },
    {
     "data": {
      "image/png": "[encoded data removed]",
      "text/plain": [
       "<matplotlib.figure.Figure at 0x1ff68b01be0>"
      ]
     },
     "metadata": {},
     "output_type": "display_data"
    }
   ],
   "source": [
    "modelfit(gsearch4.best_estimator_, train, predictors)"
   ]
  },
  {
   "cell_type": "markdown",
   "metadata": {},
   "source": [
    "# subsample value .75"
   ]
  },
  {
   "cell_type": "code",
   "execution_count": 20,
   "metadata": {},
   "outputs": [
    {
     "data": {
      "text/plain": [
       "([mean: 0.83183, std: 0.00840, params: {'subsample': 0.5},\n",
       "  mean: 0.83170, std: 0.00831, params: {'subsample': 0.6},\n",
       "  mean: 0.83191, std: 0.00812, params: {'subsample': 0.7},\n",
       "  mean: 0.83213, std: 0.00829, params: {'subsample': 0.75},\n",
       "  mean: 0.83179, std: 0.00829, params: {'subsample': 0.8},\n",
       "  mean: 0.83196, std: 0.00838, params: {'subsample': 0.85},\n",
       "  mean: 0.83166, std: 0.00811, params: {'subsample': 0.9}],\n",
       " {'subsample': 0.75},\n",
       " 0.8321250239177242)"
      ]
     },
     "execution_count": 20,
     "metadata": {},
     "output_type": "execute_result"
    }
   ],
   "source": [
    "param_test5 = {'subsample':[0.5,0.6,0.7,0.75,0.8,0.85,0.9]}\n",
    "gsearch5 = GridSearchCV(estimator = GradientBoostingClassifier(learning_rate=0.15, n_estimators=80,max_depth=7,min_samples_split=1400, min_samples_leaf=60, subsample=0.8, random_state=10,max_features=17),\n",
    "param_grid = param_test5, scoring='roc_auc',n_jobs=4,iid=False, cv=5)\n",
    "gsearch5.fit(train[predictors],train[target])\n",
    "gsearch5.grid_scores_, gsearch5.best_params_, gsearch5.best_score_"
   ]
  },
  {
   "cell_type": "code",
   "execution_count": null,
   "metadata": {},
   "outputs": [],
   "source": []
  },
  {
   "cell_type": "code",
   "execution_count": null,
   "metadata": {},
   "outputs": [],
   "source": []
  },
  {
   "cell_type": "code",
   "execution_count": null,
   "metadata": {},
   "outputs": [],
   "source": []
  },
  {
   "cell_type": "code",
   "execution_count": null,
   "metadata": {},
   "outputs": [],
   "source": []
  },
  {
   "cell_type": "code",
   "execution_count": 21,
   "metadata": {},
   "outputs": [
    {
     "name": "stdout",
     "output_type": "stream",
     "text": [
      "35 (25000, 35) gbm \n"
     ]
    }
   ],
   "source": [
    "# lead_df=pd.read_csv('lead_cleaned_shubham.csv',index_col='application_key')\n",
    "# # lead_df.columns=colm[:-1]\n",
    "# # lead_df=(lead_df-lead_df.mean(axis=0))/lead_df.std(axis=0)\n",
    "# # lead_df=lead_df[imp_col[:-1]]\n",
    "# # lead_df=Pca(lead_df)\n",
    "# print(len(predictors),lead_df.shape, 'gbm ')\n",
    "\n",
    "\n",
    "# lead_pred=gsearch5.predict(lead_df)\n",
    "# proba=gsearch5.predict_proba(lead_df)\n",
    "# lead_df['pridicted']=lead_pred\n",
    "# lead_df['prob']=proba[:,0]\n",
    "# lead_df=lead_df.sort_values(by=['prob'],ascending=False)\n",
    "# result=lead_df['pridicted'].astype(int)\n",
    "# result.to_csv('Datadevils_IITGuwahati_173.csv')"
   ]
  },
  {
   "cell_type": "code",
   "execution_count": null,
   "metadata": {},
   "outputs": [],
   "source": []
  }
 ],
 "metadata": {
  "kernelspec": {
   "display_name": "Python 3",
   "language": "python",
   "name": "python3"
  },
  "language_info": {
   "codemirror_mode": {
    "name": "ipython",
    "version": 3
   },
   "file_extension": ".py",
   "mimetype": "text/x-python",
   "name": "python",
   "nbconvert_exporter": "python",
   "pygments_lexer": "ipython3",
   "version": "3.6.4"
  }
 },
 "nbformat": 4,
 "nbformat_minor": 2
}
